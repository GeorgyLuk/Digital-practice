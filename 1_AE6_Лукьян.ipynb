{
 "cells": [
  {
   "cell_type": "markdown",
   "metadata": {},
   "source": [
    "# Функции"
   ]
  },
  {
   "cell_type": "markdown",
   "metadata": {},
   "source": [
    "## Введение"
   ]
  },
  {
   "cell_type": "markdown",
   "metadata": {},
   "source": [
    "Вспомним, как выглядела самая первая ваша программа на python:\\\n",
    "**print(\"Hello, world!\")** - она состоит из одной функции, которая выводит на печать строку, которую в данном случае в явном виде (_\"Hello, world!\"_) мы отправляем на \"вход\", в качестве аргумента.\\\n",
    "С самого начала мы начали пользоваться встроенными функциями. Примеры таких функций: `len()`, `print()`, `type()`, etc.\n",
    "\n",
    "Суть функций довольна проста - выделить набор каких действий под отдельный идентификатор (название функции).\\\n",
    "Рассмотрим следующий пример:"
   ]
  },
  {
   "cell_type": "code",
   "execution_count": null,
   "metadata": {},
   "outputs": [],
   "source": [
    "test_dna_seq = 'ATGACTGGACCA'  # создали переменную, которая содержит какую-то строку\n",
    "\n",
    "length = len(test_dna_seq)\n",
    "Gs = test_dna_seq.count('G')\n",
    "Cs = test_dna_seq.count('C')\n",
    "gc_content = (Gs + Cs) / length\n",
    "\n",
    "print(gc_content)"
   ]
  },
  {
   "cell_type": "markdown",
   "metadata": {},
   "source": [
    "Написанныq код позволяет вычислить содержимое GC в строке, которая содержится в перменной `test_dna_seq`.\\\n",
    "Но что если нам нужно вычислить GC не для одной строки, а для кучи строк, который содержатся в большом списке или файле?\\\n",
    "Или например, если мы пишем программу для автоматического подбора праймеров для ПЦР, программа будет \"пробовать\" различные куски данной ДНК и для того, чтобы определить, что праймер подходит, в том числе вычислять GC-content. Короче говоря, нам нужен способ *переиспользовать* код. Посмотрим, как мы могли бы поступить в случае написанного выше кода:"
   ]
  },
  {
   "cell_type": "code",
   "execution_count": null,
   "metadata": {},
   "outputs": [],
   "source": [
    "def get_GC_content(seq):  # определяем функцию, даём ей имя, get_GC_content\n",
    "    length = len(seq)\n",
    "    Gs = seq.count('G')\n",
    "    Cs = seq.count('C')\n",
    "    gc_content = (Gs + Cs) / length\n",
    "    return gc_content"
   ]
  },
  {
   "cell_type": "code",
   "execution_count": null,
   "metadata": {},
   "outputs": [],
   "source": [
    "\n",
    "test_dna_seq = 'ATGACTGGACCA'\n",
    "print(get_GC_content(test_dna_seq))  # используем функцию, в качестве аргумента - уже существующая переменная test_dna_seq\n",
    "print(get_GC_content('ACGTACGTTTGCGTACGGAAACGTACACACGTTA'))  # случайный набор букв\n",
    "\n",
    "for dna_prim in ['ACG', 'AACCGT', 'acccgtgc', 'AACcgtTgCAGt', 'ACACCCAGTCACGTTCAG', 'ACCGGTG']:\n",
    "    print('GC for', dna_prim, 'is:')\n",
    "    print(get_GC_content(dna_prim))  # теперь мы можем сколько угодно раз считать GC при помощи одной функции"
   ]
  },
  {
   "cell_type": "markdown",
   "metadata": {},
   "source": [
    "## Простейшая функция"
   ]
  },
  {
   "cell_type": "markdown",
   "metadata": {},
   "source": [
    "Как и для уже изученных нами конструкций (например, циклы, условия) в python для создания (определения) функций используется специальный синтаксис.\\\n",
    "```\n",
    "def <function_name>():\n",
    "     *do_something*`\n",
    "```\n",
    "**def** - сокращение от англ. *define*, затем указываем имя функции (`<function_name>`, сами придумываем), правила такие же, как и для имён переменных. Те самые скобки, о которых говорим с первого занятия, потом по традиции, двоеточие и отступ, чтобы обозначить \"тело функции\", то есть код, который будет выполняться, когда её вызовут."
   ]
  },
  {
   "cell_type": "code",
   "execution_count": null,
   "metadata": {},
   "outputs": [],
   "source": [
    "def useless_print():\n",
    "    print('Useless_string')"
   ]
  },
  {
   "cell_type": "code",
   "execution_count": null,
   "metadata": {},
   "outputs": [],
   "source": [
    "# examples\n",
    "\n",
    "\n",
    "useless_print()\n",
    "useless_print()"
   ]
  },
  {
   "cell_type": "code",
   "execution_count": null,
   "metadata": {},
   "outputs": [],
   "source": []
  },
  {
   "cell_type": "markdown",
   "metadata": {},
   "source": [
    "Да, конечно, такая функция не может похвастаться болшим функционалом, но это простейший пример функци. Зато можно выполнить её 10 раз:"
   ]
  },
  {
   "cell_type": "code",
   "execution_count": null,
   "metadata": {},
   "outputs": [],
   "source": [
    "def zachot_result():\n",
    "    from random import randint  # пока не обращайте внимание, просто чего-то откуда-то достал\n",
    "    res = randint(0, 5)\n",
    "    if res >= 3:\n",
    "        print('Ваша оценка:', res)\n",
    "    else:\n",
    "        print('Увидимся на допсе!:-)')\n",
    "    \n",
    "\n",
    "for student in [...]:\n",
    "    print(\"hello,\", student)\n",
    "    zachot_result()"
   ]
  },
  {
   "cell_type": "code",
   "execution_count": null,
   "metadata": {},
   "outputs": [],
   "source": [
    "result = len('hello')\n",
    "print(result)"
   ]
  },
  {
   "cell_type": "markdown",
   "metadata": {},
   "source": [
    "## Return"
   ]
  },
  {
   "cell_type": "markdown",
   "metadata": {},
   "source": [
    "Оба примера выше результат своей деятельность могут только вывести на печать при помощи функции `print()` (кстати, тут мы можем сделать вывод, что можно функции вызывать внутри других функций. Можно даже саму функцию вызвать внутри себя).\\\n",
    "Но как мы уже могли заметить чаще, функции результат своей деятельности \"возвращают\", что позволяет сохранить его в переменной или добавить в список.\\\n",
    "Если мы хотим, чтобы функция что-нибудь возвращала, мы должны указать это, и указать, что именно она будет возвращать.\n",
    "\n",
    "```\n",
    "def <function_name>():\n",
    "     *do_something*\n",
    "     return <someting>\n",
    "```"
   ]
  },
  {
   "cell_type": "code",
   "execution_count": null,
   "metadata": {},
   "outputs": [],
   "source": [
    "def important_calc():\n",
    "    a = 2\n",
    "    b = 2\n",
    "    result = a * b\n",
    "    return result\n",
    "\n",
    "print(important_calc())  # вывели на печать результат работы функции\n",
    "imp_calc_res = important_calc()  # создали переменую, присвоили ей результат работы функции\n",
    "print(imp_calc_res)\n"
   ]
  },
  {
   "cell_type": "code",
   "execution_count": null,
   "metadata": {},
   "outputs": [],
   "source": [
    "print(16/important_calc())"
   ]
  },
  {
   "cell_type": "markdown",
   "metadata": {},
   "source": [
    "Честно говоря, выглядит, конечно, не самым полезным образом. Дело в том, что мы ещё не использовали *аргументы*, способ передать данные на вход функции, чтобы она могла уже каким-то образом обработать эти данные и получить результат, который сможет вернуть."
   ]
  },
  {
   "cell_type": "markdown",
   "metadata": {},
   "source": [
    "## Аргументы"
   ]
  },
  {
   "cell_type": "code",
   "execution_count": null,
   "metadata": {},
   "outputs": [],
   "source": [
    "def even_square(a):\n",
    "    c = 0\n",
    "    if a % 2 == 0:\n",
    "        a = a*a\n",
    "        return a\n",
    "    else:\n",
    "        return 'NotEven!'\n",
    "    \n",
    "print(even_square(5))\n",
    "print(even_square(2))\n",
    "a = 5\n",
    "print(even_square(a))  # not even\n",
    "print(a)\n",
    "b=5\n",
    "a = 10\n",
    "print(even_square(b))\n",
    "print(c)"
   ]
  },
  {
   "cell_type": "markdown",
   "metadata": {},
   "source": [
    "Аргументы, которая будет использовать функция (в теле) перечисляются в скобках после имени функции (когда мы определяем функцию). Когда мы хотим использовать функцию, мы в скобках указываем уже аргумент с конкретным значением."
   ]
  },
  {
   "cell_type": "markdown",
   "metadata": {},
   "source": [
    "Когда нам нужно использовать больше одного аргумента, мы просто также перечисляем их через запятую. Когда мы вызываем функцию и хотим использовать какие-то значения в качестве аргументов, мы должны соблюдать порядок аргументов."
   ]
  },
  {
   "cell_type": "code",
   "execution_count": null,
   "metadata": {},
   "outputs": [],
   "source": [
    "def ab_sum(a, b):\n",
    "    return a + b\n",
    "\n",
    "print(ab_sum(10, 10))\n",
    "print(ab_sum('Hello', 'World'))\n",
    "print(ab_sum([1, 2], [3, 5]))\n",
    "\n",
    "sum_res = ab_sum(10, '20')  # почему ошибка?\n",
    "print(sum_res)"
   ]
  },
  {
   "cell_type": "code",
   "execution_count": null,
   "metadata": {},
   "outputs": [],
   "source": [
    "def if_longer(text, num):\n",
    "    if len(text) > num:\n",
    "        return True\n",
    "    else:\n",
    "        return False\n",
    "\n",
    "    \n",
    "print(if_longer('ACGT', 5))\n",
    "print(if_longer('ACGGGCG', 5))\n",
    "print(if_longer(10, ';alskdjfasd;k'))"
   ]
  },
  {
   "cell_type": "markdown",
   "metadata": {},
   "source": [
    "При вызове функции можно прямо указывать, к какому именно аргументу относится значение:"
   ]
  },
  {
   "cell_type": "code",
   "execution_count": null,
   "metadata": {},
   "outputs": [],
   "source": [
    "var = if_longer(text='some_str', num=50)\n",
    "print(if_longer(num=50, text='some_str'))\n",
    "print(var)"
   ]
  },
  {
   "cell_type": "markdown",
   "metadata": {},
   "source": [
    "При таком вызове функции, можно передавать аргументы в любом порядке:"
   ]
  },
  {
   "cell_type": "code",
   "execution_count": null,
   "metadata": {},
   "outputs": [],
   "source": [
    "if_longer(num=50, text='some_str')"
   ]
  },
  {
   "cell_type": "markdown",
   "metadata": {},
   "source": [
    "### Аргументы по-умолчанию (дефолтные значения аргумента)"
   ]
  },
  {
   "cell_type": "markdown",
   "metadata": {},
   "source": [
    "В качестве примера можно рассмотреть аргументы функции `print()`. \\\n",
    "Обычно мы используем только порядковые аргументы. Мы их можем передавать, сколько угодно. \\\n",
    "Однако у функции `print()` есть и аргументы, у которых есть значения по умолчанию:"
   ]
  },
  {
   "cell_type": "code",
   "execution_count": null,
   "metadata": {},
   "outputs": [],
   "source": [
    "help(print)"
   ]
  },
  {
   "cell_type": "code",
   "execution_count": null,
   "metadata": {},
   "outputs": [],
   "source": [
    "print(\"hello\", 3, [\"1\", 2])"
   ]
  },
  {
   "cell_type": "code",
   "execution_count": null,
   "metadata": {},
   "outputs": [],
   "source": [
    "print(\"hello\", 3, [\"1\", 2], sep=\"\\t\\t\")"
   ]
  },
  {
   "cell_type": "code",
   "execution_count": null,
   "metadata": {},
   "outputs": [],
   "source": [
    "example_list = [\"hello\", 3, [\"1\", 2]]\n",
    "\n",
    "for value in example_list:\n",
    "    print(value)"
   ]
  },
  {
   "cell_type": "code",
   "execution_count": null,
   "metadata": {},
   "outputs": [],
   "source": [
    "for val in example_list:\n",
    "    print(val, sep=\", \")"
   ]
  },
  {
   "cell_type": "code",
   "execution_count": null,
   "metadata": {},
   "outputs": [],
   "source": [
    "for item in example_list:\n",
    "    print(item, 10000, sep=\" : \", end=\"...\")"
   ]
  },
  {
   "cell_type": "code",
   "execution_count": null,
   "metadata": {},
   "outputs": [],
   "source": [
    "with open(\"test_print.txt\", \"w\") as file:\n",
    "    print(\"Тестовый текст\", file=file)"
   ]
  },
  {
   "cell_type": "markdown",
   "metadata": {},
   "source": [
    "При определении функции можно создать \"дефолтные\" (по умолчанию) аргументы. Если не указывать для них значение при вызове, то будет исползовано то значение, которое указано при определении функции. Для примера рассмотрим функцию, которая по сути имеет два режима работы, один из которых работает по дефолту:"
   ]
  },
  {
   "cell_type": "code",
   "execution_count": null,
   "metadata": {},
   "outputs": [],
   "source": [
    "def content(seq, B=True):\n",
    "    if B:\n",
    "        cont = [seq.count('G'), seq.count('C')]\n",
    "    else:\n",
    "        cont = [seq.count('A'), seq.count('T')]\n",
    "    length = len(seq)\n",
    "    content = (cont[0] + cont[1]) / length\n",
    "    content = sum(cont) / length\n",
    "    return content\n",
    "\n",
    "print(content('ACGGCGT'))  # работает по умолчанию, рассчитывает GC-content\n",
    "print(content('ACGTTCTAT', B=False))  # рассчитывает AT-content\n",
    "print(content('AACGA', False))  # то же самое"
   ]
  },
  {
   "cell_type": "code",
   "execution_count": null,
   "metadata": {},
   "outputs": [],
   "source": [
    "print(content('ACGGGGGTGC'))  # > .5\n",
    "print(content('ACGGGGGTGC', GC=False))  # < .5\n",
    "print(content('ACGGGGGTGC', False))  # <.5"
   ]
  },
  {
   "cell_type": "markdown",
   "metadata": {},
   "source": [
    "# Упражнения"
   ]
  },
  {
   "cell_type": "markdown",
   "metadata": {},
   "source": [
    "Замените `pass` так, чтобы в результате получилось `True`"
   ]
  },
  {
   "cell_type": "code",
   "execution_count": 2,
   "metadata": {},
   "outputs": [
    {
     "name": "stdout",
     "output_type": "stream",
     "text": [
      "True\n"
     ]
    }
   ],
   "source": [
    "def divide(num1, num2):\n",
    "    return num1 / num2\n",
    "\n",
    "print(divide(10, 2) == 5)"
   ]
  },
  {
   "cell_type": "code",
   "execution_count": 4,
   "metadata": {},
   "outputs": [
    {
     "name": "stdout",
     "output_type": "stream",
     "text": [
      "True\n"
     ]
    }
   ],
   "source": [
    "def hello(lower=True):\n",
    "    if lower:\n",
    "        message = 'HELLO'.lower()\n",
    "    else:\n",
    "        message = 'HELLO'\n",
    "    return message\n",
    "\n",
    "print(hello() == 'hello')"
   ]
  },
  {
   "cell_type": "code",
   "execution_count": 6,
   "metadata": {},
   "outputs": [
    {
     "name": "stdout",
     "output_type": "stream",
     "text": [
      "True\n",
      "True\n"
     ]
    }
   ],
   "source": [
    "def recurs(x):\n",
    "    if x < 10:\n",
    "        y = x + 1\n",
    "        return recurs(y)\n",
    "    else:\n",
    "        return x\n",
    "    \n",
    "print(recurs(1) == 10)\n",
    "print(recurs(20) == 20)"
   ]
  },
  {
   "cell_type": "code",
   "execution_count": 8,
   "metadata": {},
   "outputs": [
    {
     "name": "stdout",
     "output_type": "stream",
     "text": [
      "1\n",
      "2\n",
      "6\n",
      "24\n",
      "True\n"
     ]
    }
   ],
   "source": [
    "def factorial(n):\n",
    "    if n==1:\n",
    "        return 1\n",
    "    else:\n",
    "        return n * factorial(n-1)\n",
    "    \n",
    "for num in range(1,5):\n",
    "    print(factorial(num))\n",
    "    \n",
    "print(factorial(6) == 720)"
   ]
  },
  {
   "cell_type": "code",
   "execution_count": 12,
   "metadata": {},
   "outputs": [
    {
     "name": "stdout",
     "output_type": "stream",
     "text": [
      "True\n"
     ]
    }
   ],
   "source": [
    "def is_root(x, a=2, b=-5):\n",
    "    if a*x + b == 0:\n",
    "        return True\n",
    "    else:\n",
    "        return False\n",
    "\n",
    "print(is_root(2.5))"
   ]
  },
  {
   "cell_type": "markdown",
   "metadata": {},
   "source": [
    "# Домашнее задание"
   ]
  },
  {
   "cell_type": "markdown",
   "metadata": {},
   "source": [
    "**Задача 1**\n",
    "Нужно написать функцию, которая на вход принимает последовательность аминокислот и одно кислотное основание, и возвращает процент содержаниея этого основания в целой цепочке"
   ]
  },
  {
   "cell_type": "code",
   "execution_count": 8,
   "metadata": {},
   "outputs": [],
   "source": [
    "def amino_percentage(sequence, residue):\n",
    "    sequence = sequence.lower()\n",
    "    residue = residue.lower()\n",
    "    percent = sequence.count(residue)/len(sequence)*100\n",
    "    return percent"
   ]
  },
  {
   "cell_type": "code",
   "execution_count": 10,
   "metadata": {},
   "outputs": [
    {
     "name": "stdout",
     "output_type": "stream",
     "text": [
      "True\n",
      "True\n",
      "True\n",
      "True\n"
     ]
    }
   ],
   "source": [
    "test_sequence1 = 'MSRSLLLRFLLFLLLLPPLP'\n",
    "test_sequence2 = 'msrslllrfllfllllpplp'\n",
    "test_sequence3 = 'MSRSLLLRFLLFLLLLPPLP'\n",
    "\n",
    "print(amino_percentage(test_sequence1, \"M\") == 5)\n",
    "print(amino_percentage(test_sequence1, \"r\") == 10)\n",
    "print(amino_percentage(test_sequence2, \"L\") == 50)\n",
    "print(amino_percentage(test_sequence3, 'Y') == 0)"
   ]
  },
  {
   "cell_type": "markdown",
   "metadata": {},
   "source": [
    "**Задача 2**\n",
    "То же самое, только функция теперь должна принимать на вход сиквенс аминокислот и список оснований, общее содержание которых она вычислит."
   ]
  },
  {
   "cell_type": "code",
   "execution_count": 12,
   "metadata": {},
   "outputs": [],
   "source": [
    "def amino_percentage_l(sequence, residues=''):  #Чтобы не было ошибки, residues=''\n",
    "    perc = 0\n",
    "    sequence = sequence.lower()\n",
    "    for residue in residues:\n",
    "        perc += sequence.count(residue.lower())/len(sequence)*100\n",
    "    return perc"
   ]
  },
  {
   "cell_type": "code",
   "execution_count": 14,
   "metadata": {},
   "outputs": [
    {
     "name": "stdout",
     "output_type": "stream",
     "text": [
      "True\n",
      "True\n",
      "True\n",
      "False\n"
     ]
    }
   ],
   "source": [
    "print(amino_percentage_l(test_sequence1, ['M']) == 5)\n",
    "print(amino_percentage_l(test_sequence1, ['M', 'l']) == 55)\n",
    "print(amino_percentage_l(test_sequence1, ['f', 'S', 'L']) == 70)\n",
    "print(amino_percentage_l(test_sequence1) == 65)"
   ]
  },
  {
   "cell_type": "markdown",
   "metadata": {},
   "source": [
    "**Задача 3** Последовательность Фибоначчи. Реализовать три функции, каждая из которых находит число Фибоначчи своим способом:\n",
    "При помощи цикла `while`, `for`, и при помощи рекурсивной функции."
   ]
  },
  {
   "attachments": {
    "image.png": {
     "image/png": "[encoded data removed]"
    }
   },
   "cell_type": "markdown",
   "metadata": {},
   "source": [
    "![image.png](attachment:image.png)"
   ]
  },
  {
   "cell_type": "code",
   "execution_count": 54,
   "metadata": {},
   "outputs": [
    {
     "name": "stdout",
     "output_type": "stream",
     "text": [
      "True\n",
      "True\n"
     ]
    }
   ],
   "source": [
    "def fib_while(n):\n",
    "    count = 1\n",
    "    last_num = 0\n",
    "    num = 1\n",
    "    while count < n:\n",
    "        count += 1\n",
    "        num, last_num = num + last_num, num\n",
    "    return num\n",
    "    \n",
    "\n",
    "print(fib_while(1) == 1)\n",
    "print(fib_while(9) == 34)"
   ]
  },
  {
   "cell_type": "code",
   "execution_count": 94,
   "metadata": {},
   "outputs": [
    {
     "name": "stdout",
     "output_type": "stream",
     "text": [
      "True\n",
      "True\n"
     ]
    }
   ],
   "source": [
    "def fib_for(n):\n",
    "    last_num = 0\n",
    "    num = 1\n",
    "    for _ in range(n - 1):\n",
    "        num, last_num = num + last_num, num\n",
    "    return num\n",
    "\n",
    "print(fib_for(1) == 1)\n",
    "print(fib_for(8) == 21)"
   ]
  },
  {
   "cell_type": "code",
   "execution_count": 56,
   "metadata": {},
   "outputs": [
    {
     "name": "stdout",
     "output_type": "stream",
     "text": [
      "True\n",
      "True\n"
     ]
    }
   ],
   "source": [
    "def fib_rec(n):\n",
    "    if n == 1 or n == 2:\n",
    "        return 1\n",
    "    else:\n",
    "        num = fib_rec(n-1) + fib_rec(n-2)\n",
    "        return num\n",
    "\n",
    "print(fib_rec(1) == 1)\n",
    "print(fib_rec(10) == 55)"
   ]
  },
  {
   "cell_type": "markdown",
   "metadata": {},
   "source": [
    "**Задача 4** Напишите функцию `anneal_temp`, которая примерно вычисляет температуру отжига для праймера (например для ПЦР, там важно подбирать праймеры-затравки таким образом, чтобы у них была оптимальная температура). Формула для примерного вычиления температуры отжига - $T_m = 2(A + T) + 4(G + C)$, где $A, T, G, C$ - количество соответствующих нуклеотидов.\\\n",
    "Для выполнения этого задания используйте уже готовую функцию `content`, которую вы можете вызвать в теле функции `anneal_temp`."
   ]
  },
  {
   "cell_type": "code",
   "execution_count": 98,
   "metadata": {},
   "outputs": [
    {
     "name": "stdout",
     "output_type": "stream",
     "text": [
      "True\n",
      "True\n",
      "True\n",
      "True\n"
     ]
    }
   ],
   "source": [
    "def content(seq, GC=True):\n",
    "    if GC:\n",
    "        cont = [seq.count('G'), seq.count('C')]\n",
    "    else:\n",
    "        cont = [seq.count('A'), seq.count('T')]\n",
    "    length = len(seq)\n",
    "    content = (cont[0] + cont[1]) / length\n",
    "    return content\n",
    "\n",
    "def anneal_temp(prim):\n",
    "    prim = prim.upper()\n",
    "    seq_len = len(prim)\n",
    "    t = 2 * content(prim, False) * seq_len + 4 * content(prim) * seq_len\n",
    "    return t\n",
    "\n",
    "print(anneal_temp('ACGT') == 12)\n",
    "print(anneal_temp('ACCCCaacacGGTCGT') == 52)\n",
    "print(anneal_temp('AAAAAAAAAAACGT') == 32)\n",
    "print(anneal_temp('a'*10 + 't'*20) == 60)"
   ]
  },
  {
   "cell_type": "code",
   "execution_count": null,
   "metadata": {},
   "outputs": [],
   "source": []
  }
 ],
 "metadata": {
  "kernelspec": {
   "display_name": "Python 3 (ipykernel)",
   "language": "python",
   "name": "python3"
  },
  "language_info": {
   "codemirror_mode": {
    "name": "ipython",
    "version": 3
   },
   "file_extension": ".py",
   "mimetype": "text/x-python",
   "name": "python",
   "nbconvert_exporter": "python",
   "pygments_lexer": "ipython3",
   "version": "3.12.4"
  }
 },
 "nbformat": 4,
 "nbformat_minor": 4
}
