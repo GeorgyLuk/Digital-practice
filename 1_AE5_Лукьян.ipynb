{
 "cells": [
  {
   "cell_type": "markdown",
   "id": "9ac990d7",
   "metadata": {},
   "source": [
    "## Новый тип данных - логические (boolean)\n",
    "У логического типа может быть только два возможных значения: `True` или `False` (в отличие от предыдущих типов, у которых бесконечно много различных значений возможных."
   ]
  },
  {
   "cell_type": "code",
   "execution_count": null,
   "id": "666ac0bb",
   "metadata": {},
   "outputs": [],
   "source": [
    "# Мы можем сами создать переменную с логическим (boolean) типом\n",
    "some_true_var = True\n",
    "some_false_var = False\n",
    "\n",
    "print(some_true_var)\n",
    "print(some_false_var)"
   ]
  },
  {
   "cell_type": "code",
   "execution_count": null,
   "id": "567eb89e",
   "metadata": {},
   "outputs": [],
   "source": [
    "# также такой объект может быть получен в результате действия логических операторов\n",
    "print(4 > 5)  # выведет на печать результат проверки, больше ли 4, чем 5\n",
    "print(5 == 5)  # выведет на печать результат проверки, равны ли два числа (5 и 5)\n",
    "comparison_out = 3 >= 10  # вычисляет сравнение 3 и 10, сохраняет результат в переменную\n",
    "print(comparison_out)  # выводит на печать переменную, в которой результат сравнения (предыдущая строка)"
   ]
  },
  {
   "cell_type": "code",
   "execution_count": null,
   "id": "13785c5e",
   "metadata": {},
   "outputs": [],
   "source": [
    "print(type(False))"
   ]
  },
  {
   "cell_type": "markdown",
   "id": "ffc77c6e",
   "metadata": {},
   "source": [
    "Некоторые **операторы**, результат которых - логическое значение:\n",
    "\n",
    "- `==` - True, если равны, False, если нет\n",
    "- `>`, `<` - больше или меньше\n",
    "- `>=`, `<=` - больше или равно, меньше или равно (как говорим, в таком же порядке и знаки)\n",
    "- `!=` - не равно\n",
    "- `in` для проверки, входит ли значение в список (или в строку)\n",
    "\n",
    "**Как использовать**\\\n",
    "`*some_var*` - переменная, которую вы сами создаёте (пишите, что хотите)\\\n",
    "`*value*` - какое-то значение, может быть просто написано, например `5`, `'ACCGT'`, `'hello, world'`, etc. А может быть тут результат выполенения какой-то другой операции. Или переменная, которая содержит проверяемое значение.\n",
    "\n",
    "\n",
    "`*some_var* = *value1* == *value2*`  -- если равны - кладёт True в `some_var`, если не равны - False\\\n",
    "-\\\n",
    "`print(*value1* >= *value2*)` -- выводит на печать результат сравнения (логическое значение)\\\n",
    "-\\\n",
    "`*some_var1* = [el1, el2, el2, .... eln]` --- просто создали список чего-нибудь\\\n",
    "`*some_var2* = *value* in *some_var1*` --- в переменную `*some_var2*` кладётся True, если в списке есть `*value*`"
   ]
  },
  {
   "cell_type": "code",
   "execution_count": null,
   "id": "b0caf93f",
   "metadata": {},
   "outputs": [],
   "source": [
    "useless_list = [1, 2, 5, 10]\n",
    "is10_in_list = 10 in useless_list\n",
    "print(is10_in_list)"
   ]
  },
  {
   "cell_type": "code",
   "execution_count": null,
   "id": "3baa29fc",
   "metadata": {},
   "outputs": [],
   "source": [
    "some_str = 'aminoacid --> peptide --> protein --> ...?'\n",
    "\n",
    "print('amino' in some_str)\n",
    "print('acidamino' in some_str)\n",
    "print('peptide' in some_str)\n",
    "print('carbonhydrate' in some_str)"
   ]
  },
  {
   "cell_type": "code",
   "execution_count": null,
   "id": "9e93951e",
   "metadata": {},
   "outputs": [],
   "source": [
    "is3 = 3 in useless_list\n",
    "print(is3)"
   ]
  },
  {
   "cell_type": "code",
   "execution_count": null,
   "id": "09451a52",
   "metadata": {},
   "outputs": [],
   "source": []
  },
  {
   "cell_type": "markdown",
   "id": "1b921180",
   "metadata": {},
   "source": [
    "Логическое значение можно получить и в результате вызова некоторых методов:\n",
    "\n",
    "- *str*.startswith(*sub_str*) - начинается ли строка *str* с подстроки *sub_str*\n",
    "- *str*.endswith(*sub_str*) - заканчивается ли строка *str* подстрокой *sub_str*\n",
    "- *str*.isupper() - написана ли вся строка *str* в верхнем регистре\n",
    "- *str*.islower() - написана ли в нижнем регистре\n",
    "\n",
    "Здесь - *str* - какая-то строка, может быть в переменной, может быть в чистом виде (например, 'hello, vsem', 'AACGAT'), а может быть результатом выполнения другой операции"
   ]
  },
  {
   "cell_type": "code",
   "execution_count": null,
   "id": "8e6634f5",
   "metadata": {},
   "outputs": [],
   "source": [
    "print(\"ASDFASDFSAD;;;;*^&123\".isupper())"
   ]
  },
  {
   "cell_type": "code",
   "execution_count": null,
   "id": "22142f58",
   "metadata": {},
   "outputs": [],
   "source": [
    "isstr_lower = 'asajks;kla'.islower()\n",
    "print(isstr_lower)"
   ]
  },
  {
   "cell_type": "code",
   "execution_count": null,
   "id": "d3ad07c9",
   "metadata": {},
   "outputs": [],
   "source": [
    "print(\"ABvgd\".startswith(\"AB\"))"
   ]
  },
  {
   "cell_type": "markdown",
   "id": "a2edc5eb",
   "metadata": {},
   "source": [
    "## if - выполнится ли код?\n",
    "Теперь мы можем научиться писать код, который будет выполняться или нет в зависимости от условий.\n",
    "Сначала мы указываем условие, при котором нужно выполнить код:\\\n",
    "`if <some_condition>:`\n",
    "\n",
    "\n",
    "Вместо `<some_condition>` у вас должно оказаться какое-то логическое значение, например результат логического оператора, результат метода, который возвращает логическое значение или переменная, которая хранит логическое значение.\\\n",
    "После \"шапки\", самого условия, мы пишем код, который должен выполниться:\\\n",
    "`if <some_condition>:\n",
    "    *do_something*`\n",
    "\n",
    "\n",
    "`*do_someting*` - это код, который будет выполнен, если <some_contion> равно True, будет выполнен весь код, который написан с отступом."
   ]
  },
  {
   "cell_type": "code",
   "execution_count": null,
   "id": "f4eba4cb",
   "metadata": {},
   "outputs": [],
   "source": [
    "# примеры\n",
    "if 11 > 10:\n",
    "    print('Условие выполнено')\n",
    "    print('И этот print будет выполнен')\n",
    "    x = 5 + 4  # этот код тоже выполнится\n",
    "    \n",
    "print(x)\n",
    "\n",
    "if 10 > 11:\n",
    "    print('А вот эта строчка код не будет выполнена')\n",
    "    print('Эта тоже')\n",
    "    x = 10 * 20  # Это строчка не выполнится, чему равно x?\n",
    "\n",
    "x = x + 2\n",
    "\n",
    "print(x)    \n",
    "print('У этой строчки нет отступа, она выполняется вообще не глядя ни на какие условия')"
   ]
  },
  {
   "cell_type": "code",
   "execution_count": null,
   "id": "0067043f",
   "metadata": {},
   "outputs": [],
   "source": [
    "# пример, логическое значение, как результат строкового метода\n",
    "some_string = 'AACGT'\n",
    "if some_string.islower():\n",
    "    print(some_string)\n",
    "    \n",
    "if some_string.isupper():\n",
    "    print(some_string.lower())"
   ]
  },
  {
   "cell_type": "code",
   "execution_count": null,
   "id": "373d41ef",
   "metadata": {},
   "outputs": [],
   "source": [
    "# по сути то же самое, только иначе написанное\n",
    "some_string = 'AACGT'\n",
    "is_somestring_lower = some_string.islower()\n",
    "is_somestring_upper = some_string.isupper()\n",
    "if is_somestring_lower:\n",
    "    print('it is lower')\n",
    "    \n",
    "if is_somestring_upper:\n",
    "    print('it is upper')\n",
    "    "
   ]
  },
  {
   "cell_type": "code",
   "execution_count": null,
   "id": "11d6066a",
   "metadata": {},
   "outputs": [],
   "source": [
    "# опять то же самое\n",
    "if 'AACGT'.isupper():\n",
    "    print('it is upper')\n",
    "    \n",
    "if 'AACGT'.islower():\n",
    "    print('nothing')"
   ]
  },
  {
   "cell_type": "code",
   "execution_count": null,
   "id": "5e2d3eee",
   "metadata": {},
   "outputs": [],
   "source": [
    "if 'AACGT'.isupper(): print('it is upper')\n",
    "if 'AACGT'.islower(): print('nothing')"
   ]
  },
  {
   "cell_type": "markdown",
   "id": "a4a22d6b",
   "metadata": {},
   "source": [
    "## if --- else\n",
    "Эта конструкция работает тогда, когда вам нужно выполнить один или второй вариант кода в зависимости от того, выполняется ли нужное условие. Например, если в морозилке есть пельмени (это условия, может быть `True`, а может быть `False`), то варим пельмени (первый код), а если нет пельменей, значит, варим макароны.\\\n",
    "В коде можно испльзовать такую конструкцию:\\\n",
    "`if <some_condition>:\n",
    "    *do_something1*\n",
    " else:\n",
    "    *do_something2*`\n",
    "\n",
    "`<some_condition>` -- это какой-то код, результатом работы которого является логическое значение,\\\n",
    "`*do_something1*` --- это код, который выполниться, если <some_condition> окажется равным True,\\\n",
    "`*so_something2*` --- это код, который выполниться, если <some_condition> окажется равным False"
   ]
  },
  {
   "cell_type": "code",
   "execution_count": null,
   "id": "406ab53b",
   "metadata": {},
   "outputs": [],
   "source": [
    "# примеры\n",
    "a = 5\n",
    "b = 10\n",
    "\n",
    "if a > b:\n",
    "    print('a > b')\n",
    "else:\n",
    "    print('a < b')"
   ]
  },
  {
   "cell_type": "code",
   "execution_count": null,
   "id": "745641ae",
   "metadata": {},
   "outputs": [],
   "source": [
    "prim1 = 'AACGT'\n",
    "prim2 = 'ACGTG'\n",
    "\n",
    "if len(prim1) >= len(prim2):\n",
    "    print('prim1 > prim2')\n",
    "    prim1 = prim1 + 'GACTGACA'\n",
    "else:\n",
    "    print('prim1 < prim2')\n",
    "    prim2 = prim2 + 'AAA'\n",
    "    \n",
    "print('prim1:', prim1)\n",
    "print('prim2:', prim2)"
   ]
  },
  {
   "cell_type": "code",
   "execution_count": null,
   "id": "7070fecc",
   "metadata": {},
   "outputs": [],
   "source": [
    "# вспомнин и про циклы\n",
    "primers = ['ATGCG', \"aa\", 'actatga', 'GAactgT', 'aCAtTT', 'AAACGTG', 'accgtAGt']  # случайный набор праймеров\n",
    "\n",
    "for x in primers:\n",
    "    if len(x) >= 5:\n",
    "        print(x, 'is a long primer')\n",
    "    else:\n",
    "        print(x, 'is a short primer')\n",
    "        \n",
    "    if x.isupper():\n",
    "        print(x)\n",
    "    else:\n",
    "        print(x.upper())"
   ]
  },
  {
   "cell_type": "markdown",
   "id": "af45b6ab",
   "metadata": {},
   "source": [
    "## if --- elif\n",
    "Как вы могли заметить, в предыдущем примере мы варили макароны, когда не было пельменей. Однако мы даже не пытались проверить, а есть ли у нас макароны (так можно делать, если мы априори считаем, что макароны есть). Но что если нам нужно перебирать несколько условий?\\\n",
    "`if <condition1>:\n",
    "    *do_something1*\n",
    " elif <condition2>:\n",
    "    *do_something2*`\\\n",
    "    При такой конструкции мы выполним код `*do_something1*`, если `<condition1>` равно `True`,\\\n",
    "    Код вместо `*do_something2*` выполнится, если с одной стороны, `<condition1>` равно `False`, а при этом `<condition2>` равно `True`.\\\n",
    "\n",
    "`elif` - это сокращённая версия от else if\n",
    "\n",
    "\n",
    "А вообще можно было ещё и в конце `else` без условия добавить:\\\n",
    "`if <condition1>:\n",
    "    *do_something1*\n",
    " elif <condition2>:\n",
    "    *do_something2*\n",
    " else:\n",
    "     *do_something3*`"
   ]
  },
  {
   "cell_type": "code",
   "execution_count": null,
   "id": "838ca503",
   "metadata": {},
   "outputs": [],
   "source": [
    "a = 10\n",
    "b = 5\n",
    "c = 2\n",
    "\n",
    "if a > b:\n",
    "    print('a > b')\n",
    "    print(a, '>', b)\n",
    "elif a > c:\n",
    "    print('a > c')\n",
    "    print(a, '>', 'c')\n",
    "else:\n",
    "    print('a == b')\n",
    "    \n",
    "print('here!')"
   ]
  },
  {
   "cell_type": "code",
   "execution_count": null,
   "id": "55f6a32c",
   "metadata": {},
   "outputs": [],
   "source": [
    "some_numbers = [1, -5, 20, 6, -19, 456, 21, 73, -500]\n",
    "pos_even = []\n",
    "pos_odd = []\n",
    "negative = []\n",
    "\n",
    "for number in some_numbers:\n",
    "    if number > 0:\n",
    "        if number % 2 == 0:\n",
    "            pos_even.append(number)\n",
    "        else:\n",
    "            pos_odd.append(number)\n",
    "    else:\n",
    "        negative.append(number)\n",
    "        \n",
    "print(pos_even)\n",
    "print(pos_odd)\n",
    "print(negative)"
   ]
  },
  {
   "cell_type": "code",
   "execution_count": null,
   "id": "c38040a1",
   "metadata": {},
   "outputs": [],
   "source": [
    "# Другой код, но тот же результат\n",
    "some_numbers = [1, -5, 20, 6, -19, 456, 21, 73, -500]\n",
    "pos_even = []\n",
    "pos_odd = []\n",
    "negative = []\n",
    "\n",
    "for number in some_numbers:\n",
    "    if number > 0:\n",
    "        if number % 2 == 0:\n",
    "            pos_even.append(number)\n",
    "        elif number % 2 == 1:\n",
    "            pos_odd.append(number)\n",
    "    elif number <= 0:\n",
    "        negative.append(number)\n",
    "        \n",
    "print(pos_even)\n",
    "print(pos_odd)\n",
    "print(negative)"
   ]
  },
  {
   "cell_type": "code",
   "execution_count": null,
   "id": "b021e994",
   "metadata": {},
   "outputs": [],
   "source": [
    "# вспоминаем, что такое fasta формат\n",
    "\n",
    "fasta_file = open('some_fasta_file.fasta', 'r')\n",
    "\n",
    "names = []\n",
    "sequences = []\n",
    "\n",
    "for line in fasta_file:\n",
    "    if line.startswith('>'):\n",
    "        names.append(line.replace(\"\\n\", \"\"))\n",
    "    else:\n",
    "        sequences.append(line.replace(\"\\n\", \"\"))\n",
    "\n",
    "fasta_file.close()"
   ]
  },
  {
   "cell_type": "code",
   "execution_count": null,
   "id": "7d21a8ca",
   "metadata": {},
   "outputs": [],
   "source": [
    "names"
   ]
  },
  {
   "cell_type": "code",
   "execution_count": null,
   "id": "8869a28a",
   "metadata": {},
   "outputs": [],
   "source": [
    "sequences"
   ]
  },
  {
   "cell_type": "markdown",
   "id": "6f57200a",
   "metadata": {},
   "source": [
    "## while\n",
    "Как мы уже поняли, циклы, это способ несколько раз выполнить один и тот же код (хотя значения переменных в этом коде могут меняться во время выполнения цикла). Вот только до этого мы пользовались циклом **for**, который позволяет перебирать элементы списка (строки, файла итд.). А теперь мы посмотрим на цикл который просто выполняет один и тот же код до тех пор, пока не выполниться какое-то условие.\\\n",
    "\n",
    "`while <some_condition>:\n",
    "    *do_something*`\\\n",
    "`*do_something*` будет выполняться до тех пор, пока `<some_condition>` равно False, то есть, когда оно измениться на True, цикл перестанет выполняться."
   ]
  },
  {
   "cell_type": "code",
   "execution_count": null,
   "id": "d2841d51",
   "metadata": {},
   "outputs": [],
   "source": [
    "# boiling_time | time\n",
    "# 0            |  0 sec\n",
    "# 1            |  2 sec\n",
    "# 2            |  4 sec\n",
    "# ...          |  ..."
   ]
  },
  {
   "cell_type": "code",
   "execution_count": null,
   "id": "9b913906",
   "metadata": {},
   "outputs": [],
   "source": [
    "boiling_time = 0\n",
    "\n",
    "while boiling_time < 5:\n",
    "    print('Макароны ещё варятся, ожидайте...')\n",
    "    print(f\"С начала варки прошло {boiling_time*2} секунд!\")\n",
    "    from time import sleep\n",
    "    sleep(2)\n",
    "    boiling_time = boiling_time + 1\n",
    "    \n",
    "print('Макароны готовы!1!')\n",
    "print(boiling_time*2)"
   ]
  },
  {
   "cell_type": "markdown",
   "id": "390fd84d",
   "metadata": {},
   "source": [
    "## Сложные условия\n",
    "Как и говорится в начале этого занятия, у нас сегодня новый тип данных, а именно, логический. И как раньше говорилось, типы даннхы отличаются тем, что можно с этими данными сделать. Так вот если целые числа можно складывать и умножать (и конечно, прочая математика), со строками можно вообще ужас, сколько всего делать (python string methods)\\\n",
    "Но что можно делать с логическими значениями?\\\n",
    "- `and` - логическое \"И\"\n",
    "- `or` - логическое \"ИЛИ\"\n",
    "- `not` - \"НЕ\"\n",
    "\n",
    "`*some_var* = True and False` - в переменную `*some_var*` вернётся результат логического умножения, для данного примера `False`\\\n",
    "`*som_var* = True or True` - в переменную `*som_var*` вернётся результат логического сложения, для данного примера - `True`\\\n",
    "`*some_var* = not *bool_val*` - в переменную `*some_var*` вернётся противоположное значение от `*bool_val*`\n"
   ]
  },
  {
   "cell_type": "code",
   "execution_count": null,
   "id": "dd668e89",
   "metadata": {},
   "outputs": [],
   "source": [
    "bool_var1 = 5 > 10\n",
    "bool_var2 = 20 == 40\n",
    "print(bool_var1 and bool_var2)\n",
    "print(bool_var1 or bool_var2)\n",
    "print(not bool_var1)"
   ]
  },
  {
   "cell_type": "code",
   "execution_count": null,
   "id": "f5f7cafb",
   "metadata": {},
   "outputs": [],
   "source": [
    "print(10>5 and 40>20)\n",
    "print(10>2 or 60<5)\n",
    "print(not 21 < 73)"
   ]
  },
  {
   "cell_type": "code",
   "execution_count": null,
   "id": "247ace6f",
   "metadata": {},
   "outputs": [],
   "source": [
    "some_numbers = [1, -5, 20, 6, -19, 456, 21, 73, -500]\n",
    "pos_even = []\n",
    "pos_odd = []\n",
    "negative = []\n",
    "\n",
    "for number in some_numbers:\n",
    "    if number > 0 and number % 2 == 0:\n",
    "        pos_even.append(number)\n",
    "    elif number > 0 and number % 2 == 1:\n",
    "            pos_odd.append(number)\n",
    "    else:\n",
    "        negative.append(number)\n",
    "        \n",
    "print(pos_even)\n",
    "print(pos_odd)\n",
    "print(negative)"
   ]
  },
  {
   "cell_type": "markdown",
   "id": "522e62b0",
   "metadata": {},
   "source": [
    "## Задачи"
   ]
  },
  {
   "cell_type": "code",
   "execution_count": null,
   "id": "c3a71523",
   "metadata": {},
   "outputs": [],
   "source": [
    "# при помощи цикла вычитать из числа N 2 (N - 2 много раз), пока N не станет равным 10\n",
    "N = 100\n",
    "# продолжить"
   ]
  },
  {
   "cell_type": "code",
   "execution_count": null,
   "id": "3ac82a98",
   "metadata": {},
   "outputs": [],
   "source": [
    "# написать программу, которая фильтрует разрешённые и запрещённые имена переменных\n",
    "names = [\"123var\", \"some_var2\", \"^&((*))\", \"goodvar\"]\n",
    "good_names = []\n",
    "bad_names = []"
   ]
  },
  {
   "cell_type": "code",
   "execution_count": 14,
   "id": "28778858",
   "metadata": {},
   "outputs": [
    {
     "name": "stdin",
     "output_type": "stream",
     "text": [
      "6 6\n"
     ]
    },
    {
     "name": "stdout",
     "output_type": "stream",
     "text": [
      "720\n"
     ]
    }
   ],
   "source": [
    "# Факториал - 5! = 1*2*3*4*5\n",
    "# Факториал 3! = 1*2*3\n",
    "n = int(input())\n",
    "num = 1\n",
    "for i in range(1, n+1):\n",
    "    num = num * i\n",
    "print(num)\n"
   ]
  },
  {
   "cell_type": "markdown",
   "id": "8d7608b8",
   "metadata": {},
   "source": [
    "## Упражнения"
   ]
  },
  {
   "cell_type": "code",
   "execution_count": 2,
   "id": "360f4c7d",
   "metadata": {},
   "outputs": [
    {
     "name": "stdout",
     "output_type": "stream",
     "text": [
      "True\n",
      "True\n",
      "True\n"
     ]
    }
   ],
   "source": [
    "# Вместо `pass` добавить код так, чтобы везде на печать было выведено `True`\n",
    "\n",
    "string = 'Aadfasfasdfa'\n",
    "a = not string.startswith('d')\n",
    "print(a)\n",
    "\n",
    "b = 'Homo sapiends sapiens'.endswith('s') or False\n",
    "print(b)\n",
    "\n",
    "c = 10 == 10\n",
    "b = 10 < 10\n",
    "print(c or b)"
   ]
  },
  {
   "cell_type": "code",
   "execution_count": 4,
   "id": "5eb135ff",
   "metadata": {},
   "outputs": [
    {
     "name": "stdout",
     "output_type": "stream",
     "text": [
      "it is upper\n",
      "True\n",
      "3\n"
     ]
    }
   ],
   "source": [
    "# изменить pass так, чтобы 'it is upper' было выведено на печать\n",
    "if 'ACGT'.isupper():\n",
    "    print('it is upper')\n",
    "else:\n",
    "    print('not upper')\n",
    "    \n",
    "# изменить pass так, чтобы значение переменной condition2 было равно True\n",
    "condition1 = 4 >= 4\n",
    "condition2 = 10 != 10\n",
    "if condition1:\n",
    "    condition2 = True\n",
    "else:\n",
    "    print(condition2)\n",
    "print(condition2)\n",
    "\n",
    "# изменить так, чтобы посчитать, сколько слов содержат букву 'e'\n",
    "c = 0\n",
    "some_string = 'some useless and meaningful string'\n",
    "for word in some_string.split(' '):\n",
    "    if 'e' in word:\n",
    "        c = c+1\n",
    "        \n",
    "print(c)"
   ]
  },
  {
   "cell_type": "code",
   "execution_count": 6,
   "id": "7a9ab4d5",
   "metadata": {},
   "outputs": [
    {
     "name": "stdout",
     "output_type": "stream",
     "text": [
      "25\n",
      "23\n",
      "21\n",
      "19\n",
      "17\n",
      "15\n",
      "13\n",
      "11\n",
      "9\n",
      "7\n",
      "5\n",
      "3\n"
     ]
    }
   ],
   "source": [
    "# заменить pass на число так, чтобы цикл выполнился 12 раз\n",
    "counter = 25\n",
    "while(counter > 1):\n",
    "    print(counter)\n",
    "    counter = counter-2"
   ]
  },
  {
   "cell_type": "code",
   "execution_count": 16,
   "id": "778c2c0e",
   "metadata": {},
   "outputs": [
    {
     "name": "stdout",
     "output_type": "stream",
     "text": [
      "[0, 1, 4, 9, 16, 25, 36, 49, 64, 81]\n",
      "Upper and Lower: AACgt\n",
      "Upper and Lower: AcGt\n",
      "Upper and Lower: ACGtgca\n",
      "lowercases: ['ggcttcga', 'ccactgtca', 'aacgt']\n",
      "-.-.-.-.-.-.-.-.-.-.-.-.-.-.-.-.-.-.-.-.\n",
      "uppercases: ['AACGT', 'TGTCAGT']\n"
     ]
    }
   ],
   "source": [
    "# заменить pass так, чтобы список squares содержал квадраты чисел от 0 до 9\n",
    "squares = []\n",
    "for i in range(10):\n",
    "    squares.append(i**2)\n",
    "\n",
    "print(squares)\n",
    "\n",
    "# заменить pass, чтобы работало\n",
    "lowercases = []\n",
    "uppercases = []\n",
    "primers = ['AACGT', 'ggcttcga', 'AACgt', 'TGTCAGT', 'AcGt', 'ccactgtca', 'ACGtgca', 'aacgt']\n",
    "for primer in primers:\n",
    "    if primer.isupper():\n",
    "        uppercases.append(primer)\n",
    "    elif primer.islower():\n",
    "        lowercases.append(primer)\n",
    "    else:\n",
    "        print('Upper and Lower:', primer)\n",
    "        \n",
    "print('lowercases:', lowercases)\n",
    "print('-.'*20)\n",
    "print('uppercases:', uppercases)"
   ]
  },
  {
   "cell_type": "markdown",
   "id": "e0bd3b50",
   "metadata": {},
   "source": [
    "## Домашнее задание"
   ]
  },
  {
   "cell_type": "code",
   "execution_count": 29,
   "id": "ba8c19b6",
   "metadata": {},
   "outputs": [
    {
     "name": "stdout",
     "output_type": "stream",
     "text": [
      "92 4 7\n",
      "['Scandium', 'Molybdenum', 'Europium', 'Polonium', 'Dubnium']\n",
      "1 средняя\n",
      "2 Noble Gas\n",
      "3 низкая\n",
      "4 средняя\n",
      "5 средняя\n",
      "6 высокая\n",
      "7 высокая\n",
      "8 высокая\n",
      "9 высокая\n",
      "10 Noble Gas\n",
      "11 низкая\n",
      "12 низкая\n",
      "13 средняя\n",
      "14 средняя\n",
      "15 средняя\n",
      "16 высокая\n",
      "17 высокая\n",
      "18 Noble Gas\n",
      "19 низкая\n",
      "20 низкая\n",
      "18\n",
      "['Zr', 'Nb', 'Mo', 'Tc', 'Ru', 'Rh', 'Pd', 'Ag', 'Cd', 'Hf']\n"
     ]
    }
   ],
   "source": [
    "with open(\"Periodic Table of Elements.csv\", \"r\") as file:\n",
    "    all_lines = file.readlines()\n",
    "    topic = all_lines[0].split(',')\n",
    "    elems = list(map(lambda x: x.rstrip().split(','), all_lines[1:]))\n",
    "\n",
    "met_cnt = 0  #1\n",
    "hal_cnt = 0  #1\n",
    "nob_cnt = 0  #1\n",
    "list_21 = []  #2\n",
    "cu_cnt = 0  #4\n",
    "list_trans = []  #5\n",
    "\n",
    "for elem in elems:\n",
    "    #1\n",
    "    metal_index = topic.index('Metal')\n",
    "    type_index = topic.index('Type')\n",
    "    if elem[metal_index] == 'yes':\n",
    "        met_cnt += 1\n",
    "    elif elem[type_index] == 'Halogen':\n",
    "        hal_cnt += 1\n",
    "    elif elem[type_index] == 'Noble Gas':\n",
    "        nob_cnt += 1\n",
    "    # 2\n",
    "    if int(elem[0]) % 21 == 0:\n",
    "        list_21.append(elem[1])\n",
    "    # 4\n",
    "    name = elem[1].lower()\n",
    "    if 'c' in name and 'u' in name:\n",
    "        cu_cnt += 1\n",
    "    # 5\n",
    "    if elem[topic.index('Type')] == 'Transition Metal' and 90 <= round(float(elem[topic.index('AtomicMass')])) <= 180:\n",
    "        list_trans.append(elem[topic.index('Symbol')])\n",
    "\n",
    "print(met_cnt, hal_cnt, nob_cnt)  #1\n",
    "print(list_21)  #2\n",
    "\n",
    "#3\n",
    "for i in range(20):\n",
    "    elem = elems[i]\n",
    "    en_index = topic.index('Electronegativity')\n",
    "    en_num_s = elem[en_index]\n",
    "    if en_num_s == '':\n",
    "        en = 'Noble Gas'\n",
    "    else:\n",
    "        en_num = float(elem[en_index])\n",
    "        if en_num < 1.5:\n",
    "            en = 'низкая'\n",
    "        elif en_num >= 2.5:\n",
    "            en = 'высокая'\n",
    "        else:\n",
    "            en = 'средняя'\n",
    "    print(i + 1, en)\n",
    "\n",
    "print(cu_cnt)  #4\n",
    "print(list_trans)  #5\n"
   ]
  },
  {
   "cell_type": "markdown",
   "id": "916a5ceb",
   "metadata": {},
   "source": [
    "1. Посчитать, сколько металов, галогенов и благородных газов\n",
    "2. Создать список из имём элементов, порядковый номер которых кратен 21\n",
    "3. Для первых 20 элементов вывести текст об электроотрицательности: **низкая** (<1.5), **средняя** (1.5< <2.5), **высокая** (>=2.5)\n",
    "4. Посчитать, сколько элементов содержат в названии символы 'c' и 'u' (вне зависимости от регистра)\n",
    "5. Составить список символов переходных металлов с атомной массой от 90 до 180"
   ]
  },
  {
   "cell_type": "code",
   "execution_count": 24,
   "id": "20e815ee-6643-4ba6-b818-0888a62d84cb",
   "metadata": {},
   "outputs": [
    {
     "name": "stdout",
     "output_type": "stream",
     "text": [
      "Help on method_descriptor:\n",
      "\n",
      "index(...) unbound builtins.str method\n",
      "    S.index(sub[, start[, end]]) -> int\n",
      "\n",
      "    Return the lowest index in S where substring sub is found,\n",
      "    such that sub is contained within S[start:end].  Optional\n",
      "    arguments start and end are interpreted as in slice notation.\n",
      "\n",
      "    Raises ValueError when the substring is not found.\n",
      "\n",
      "Help on method_descriptor:\n",
      "\n",
      "find(...) unbound builtins.str method\n",
      "    S.find(sub[, start[, end]]) -> int\n",
      "\n",
      "    Return the lowest index in S where substring sub is found,\n",
      "    such that sub is contained within S[start:end].  Optional\n",
      "    arguments start and end are interpreted as in slice notation.\n",
      "\n",
      "    Return -1 on failure.\n",
      "\n"
     ]
    }
   ],
   "source": [
    "help(str.index)\n",
    "help(str.find)"
   ]
  },
  {
   "cell_type": "code",
   "execution_count": 26,
   "id": "cf98a58b-db7b-442c-95b8-079dad2e1d3d",
   "metadata": {},
   "outputs": [
    {
     "name": "stdout",
     "output_type": "stream",
     "text": [
      "8.0\n"
     ]
    }
   ],
   "source": [
    "import math\n",
    "\n",
    "print(math.sqrt(64))"
   ]
  },
  {
   "cell_type": "code",
   "execution_count": null,
   "id": "e90f5a80-b26c-4e95-9389-077d4a95f112",
   "metadata": {},
   "outputs": [],
   "source": []
  }
 ],
 "metadata": {
  "kernelspec": {
   "display_name": "Python 3 (ipykernel)",
   "language": "python",
   "name": "python3"
  },
  "language_info": {
   "codemirror_mode": {
    "name": "ipython",
    "version": 3
   },
   "file_extension": ".py",
   "mimetype": "text/x-python",
   "name": "python",
   "nbconvert_exporter": "python",
   "pygments_lexer": "ipython3",
   "version": "3.12.4"
  }
 },
 "nbformat": 4,
 "nbformat_minor": 5
}
