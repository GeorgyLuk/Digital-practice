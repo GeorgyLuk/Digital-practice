{
 "cells": [
  {
   "cell_type": "markdown",
   "id": "d0a1045f",
   "metadata": {},
   "source": [
    "# Что такое объектно-ориентированное программирование (ООП)? object-oriented programming (oop)"
   ]
  },
  {
   "cell_type": "markdown",
   "id": "54cf1256",
   "metadata": {},
   "source": [
    "**Объектно-ориентированное программирование** - это парадигма в программировании, в рамках которой программа (а программы нужны, чтобы решать проблемы из реального мира) моделирует процесс в виде **объектов** и взаимодействия между ними. Каждый объект описывается набором данных и функционалом, который может быть выполнен над этими данными.\\\n",
    "Таким образом, в парадигме ООП реальный процесс или проблема моделируется в виде объектов, комбинация действий которых приводит к решению задачи.\\\n",
    "Для примера, процедурное программирование (это тоже парадигма программирования) представляет программу, как последовательность действий, выполнение которой приводит к нужному результату.\\\n",
    "Оказывается, что испльзование ООП упрощает разработку и поддержку больших проектов, в которых испльзуется большое количество объектов, так, ООП используют такие языки программирования, как C++ и Java (и другие, конечно, просто привожу пример наиболее испльзуемых в мире разработки программного обеспечения.\\\n",
    "Нам же с вам нужно познакомиться с основными принципами и способами испльзования ООП, так как придётся сталкиваться с **библиотеками** и сложными программами, которые скорее всего будут написаны в рамках ООП. Более того, мы уже сталкивались с ООП ранее, так как сам по себе язык python объектно-ориенторованный, многое, чем мы пользовались, являются объектами. Давайте перейдём к сути и вы заметите объекты в том, что испльзовали ранее."
   ]
  },
  {
   "cell_type": "markdown",
   "id": "7671a4aa",
   "metadata": {},
   "source": [
    "# Классы\n",
    "**Классы** в python можно представить, как чертёж будущего объекта. Классы описывают данные, присущие объекту и его поведение.\\\n",
    "Синтаксис создания объекта:\n",
    "```\n",
    "class <ClassName>:\n",
    "     pass\n",
    "```\n",
    " тут мы видим ключевое слово `class`, далее идёт имя класса (сами даём имя, принято испльзовать заглавнвые буквы для имён классов), ключевое слово `pass`, затычка, показывает, что тут пока что делать нечего, но в последствии будет код."
   ]
  },
  {
   "cell_type": "code",
   "execution_count": 1,
   "id": "681b0a79",
   "metadata": {},
   "outputs": [
    {
     "name": "stdout",
     "output_type": "stream",
     "text": [
      "<class 'int'>\n"
     ]
    }
   ],
   "source": [
    "print(type(10))"
   ]
  },
  {
   "cell_type": "code",
   "execution_count": 6,
   "id": "55642c59",
   "metadata": {},
   "outputs": [
    {
     "name": "stdout",
     "output_type": "stream",
     "text": [
      "<class 'builtin_function_or_method'>\n"
     ]
    }
   ],
   "source": [
    "print(type(print))"
   ]
  },
  {
   "cell_type": "code",
   "execution_count": 7,
   "id": "f013983e",
   "metadata": {},
   "outputs": [
    {
     "name": "stdout",
     "output_type": "stream",
     "text": [
      "<class 'method_descriptor'>\n"
     ]
    }
   ],
   "source": [
    "print(type(str.upper))"
   ]
  },
  {
   "cell_type": "code",
   "execution_count": 8,
   "id": "da5bb5e1",
   "metadata": {},
   "outputs": [],
   "source": [
    "def my_f():\n",
    "    ..."
   ]
  },
  {
   "cell_type": "code",
   "execution_count": 9,
   "id": "c3465519",
   "metadata": {},
   "outputs": [
    {
     "name": "stdout",
     "output_type": "stream",
     "text": [
      "<class 'function'>\n"
     ]
    }
   ],
   "source": [
    "print(type(my_f))"
   ]
  },
  {
   "cell_type": "code",
   "execution_count": 5,
   "id": "f0d0b8e3",
   "metadata": {},
   "outputs": [
    {
     "name": "stdout",
     "output_type": "stream",
     "text": [
      "<class 'bool'>\n"
     ]
    }
   ],
   "source": [
    "print(type(False))"
   ]
  },
  {
   "cell_type": "code",
   "execution_count": 1,
   "id": "d835fef4",
   "metadata": {},
   "outputs": [
    {
     "ename": "SyntaxError",
     "evalue": "invalid syntax (1825687431.py, line 1)",
     "output_type": "error",
     "traceback": [
      "\u001b[1;36m  Cell \u001b[1;32mIn[1], line 1\u001b[1;36m\u001b[0m\n\u001b[1;33m    print(type(def))\u001b[0m\n\u001b[1;37m               ^\u001b[0m\n\u001b[1;31mSyntaxError\u001b[0m\u001b[1;31m:\u001b[0m invalid syntax\n"
     ]
    }
   ],
   "source": [
    "print(type(def))"
   ]
  },
  {
   "cell_type": "code",
   "execution_count": 2,
   "id": "e3e012cb",
   "metadata": {},
   "outputs": [
    {
     "ename": "SyntaxError",
     "evalue": "invalid syntax (554924937.py, line 1)",
     "output_type": "error",
     "traceback": [
      "\u001b[0;36m  Cell \u001b[0;32mIn[2], line 1\u001b[0;36m\u001b[0m\n\u001b[0;31m    print(type(+))\u001b[0m\n\u001b[0m                ^\u001b[0m\n\u001b[0;31mSyntaxError\u001b[0m\u001b[0;31m:\u001b[0m invalid syntax\n"
     ]
    }
   ],
   "source": [
    "print(type(+))"
   ]
  },
  {
   "cell_type": "code",
   "execution_count": null,
   "id": "77c54d56",
   "metadata": {},
   "outputs": [],
   "source": [
    "# example\n",
    "class Gene:\n",
    "    pass"
   ]
  },
  {
   "cell_type": "markdown",
   "id": "95114fa6",
   "metadata": {},
   "source": [
    "Как можно догадаться, толку от такого класса, конечно же, не очень много, это как если бы мы просто создали пустую функцию, которая ничего не делает. Классы могут хранить данные и поведение, давайте нашему классу добавим данные.\\\n",
    "```\n",
    "class <ClassName>:\n",
    "     <attribute_name1> = *attribute_value1*\n",
    "     <attribute_name2> = *attribute_value2*\n",
    "     ...\n",
    "```\n",
    "Это как бы переменные, которые принадлежат, находятся внутри описанного класса."
   ]
  },
  {
   "cell_type": "code",
   "execution_count": 10,
   "id": "ed3fa5f7",
   "metadata": {},
   "outputs": [],
   "source": [
    "# опишем класс с атрибутами\n",
    "class Gene:\n",
    "    source = 'human genome'\n"
   ]
  },
  {
   "cell_type": "markdown",
   "id": "32fb46f5",
   "metadata": {},
   "source": [
    "Как и в случае с функциями, которые мы сначала *объявляем* (описываем принцип их работы), а потом *вызываем* (то есть уже реально используем), классы также сначала объявляются, а затем испльзуются. Но в отличие от функций, которые мы вызываем и получаем результат их работы, классы позволяют нас создавать отдельные объекты этого класса. Если класс - это как бы чертёж объекта, его описание, то по этому чертежу мы теперь можем создавать отдельные объекты и пользоваться ими."
   ]
  },
  {
   "cell_type": "code",
   "execution_count": 11,
   "id": "dec7b489",
   "metadata": {},
   "outputs": [],
   "source": [
    "# создание объекта класса Gene\n",
    "gene1 = Gene()\n",
    "gene2 = Gene()"
   ]
  },
  {
   "cell_type": "code",
   "execution_count": 12,
   "id": "8bd10355",
   "metadata": {},
   "outputs": [
    {
     "name": "stdout",
     "output_type": "stream",
     "text": [
      "<class '__main__.Gene'>\n"
     ]
    }
   ],
   "source": [
    "print(type(gene1))"
   ]
  },
  {
   "cell_type": "code",
   "execution_count": 13,
   "id": "0b84aa8a",
   "metadata": {},
   "outputs": [
    {
     "name": "stdout",
     "output_type": "stream",
     "text": [
      "<class 'str'>\n"
     ]
    }
   ],
   "source": [
    "print(type('asdfjas'))"
   ]
  },
  {
   "cell_type": "code",
   "execution_count": null,
   "id": "bec331da",
   "metadata": {},
   "outputs": [],
   "source": [
    "print(gene1)"
   ]
  },
  {
   "cell_type": "markdown",
   "id": "a43e52cd",
   "metadata": {},
   "source": [
    "Мы создали два объекта, описанного ранее класса. У этого класса мы пока что не описывали никакого поведения, только один атрибут - `source`. Теперь, когда мы создали два объекта, можем испльзовать в нашей программе, пока что мы только можем получить доступ к атрибуту `.source`"
   ]
  },
  {
   "cell_type": "code",
   "execution_count": null,
   "id": "a43960ba",
   "metadata": {},
   "outputs": [],
   "source": []
  },
  {
   "cell_type": "code",
   "execution_count": null,
   "id": "8d62ddf4",
   "metadata": {},
   "outputs": [],
   "source": [
    "print(gene1.source)\n",
    "print(gene2.source)"
   ]
  },
  {
   "cell_type": "code",
   "execution_count": null,
   "id": "4a138452",
   "metadata": {},
   "outputs": [],
   "source": [
    "print(gene1.source)"
   ]
  },
  {
   "cell_type": "markdown",
   "id": "e1770a79",
   "metadata": {},
   "source": [
    "Кроме того, чтобы просто получить доступ к атрибуту и затем его испльзовать, мы можем также и изменить значение атрибута объекта или даже самого класса:"
   ]
  },
  {
   "cell_type": "code",
   "execution_count": null,
   "id": "1c7fa1f0",
   "metadata": {},
   "outputs": [],
   "source": [
    "gene1.source = 'mouse genome'\n",
    "print(gene1.source)\n",
    "print(gene2.source)\n",
    "Gene.source = 'bacterial genome'\n",
    "print(Gene.source)\n",
    "\n",
    "gene3 = Gene()"
   ]
  },
  {
   "cell_type": "code",
   "execution_count": null,
   "id": "b3a9caef",
   "metadata": {},
   "outputs": [],
   "source": [
    "# какой результат будет у нового объекта?\n",
    "print(gene1.source)\n",
    "print(gene2.source)\n",
    "print(gene3.source)"
   ]
  },
  {
   "cell_type": "markdown",
   "id": "62a5e818",
   "metadata": {},
   "source": [
    "Мы уже видели такой синтаксис (испльзование точки с объектами), мы испльзовали его для доступа к **методам** объектов (например, когда испльзовали методы строк, так вот, по сути, каждая строка - это объект класса *string*, а у нас два объекта класса *Gene*). \\\n",
    "Тогда мы говорили, что мы *применяем __метод__*, то есть функцию, и применяем к конкретному объекту:"
   ]
  },
  {
   "cell_type": "code",
   "execution_count": null,
   "id": "d40e7476",
   "metadata": {},
   "outputs": [],
   "source": [
    "# вспомним методы строк\n",
    "test_string = 'Hello, world'\n",
    "O_count = test_string.count('o')  # мы применяем метод .count() к конкретному объекту, строке 'test_string'\n",
    "print(O_count)"
   ]
  },
  {
   "cell_type": "markdown",
   "id": "1ed57e03",
   "metadata": {},
   "source": [
    "Теперь давайте к нашему классу `Gene` тоже добавим методы, то есть функции, которые применяются к объекту класса, а значит, имеют доступ к описанию этого объекта (пока что это только атрибут `.source`). Иными словами, теперь ещё кроме описания (атрибут `.source`) добавим также *поведение*."
   ]
  },
  {
   "cell_type": "markdown",
   "id": "68692bc4",
   "metadata": {},
   "source": [
    "В первую очередь мы хотим описать поведение ещё при создании объекта. Сейчас, когда мы создаём новые объекты (*инстансы* - это синонимы), они изначально все одинаковые, у них всего один атрибут, и при создании значение атрибута одинаковое для всех новых объектов, потому что так описан наш класс:"
   ]
  },
  {
   "cell_type": "code",
   "execution_count": null,
   "id": "54d93b86",
   "metadata": {},
   "outputs": [],
   "source": [
    "# напоминание определения (описания) класса\n",
    "class Gene:\n",
    "    source = 'human genome'"
   ]
  },
  {
   "cell_type": "code",
   "execution_count": null,
   "id": "c90dc95a",
   "metadata": {},
   "outputs": [],
   "source": [
    "# создаём два инстанса (объекта)\n",
    "gene1 = Gene()\n",
    "gene2 = Gene()"
   ]
  },
  {
   "cell_type": "code",
   "execution_count": null,
   "id": "eafa723c",
   "metadata": {},
   "outputs": [],
   "source": [
    "# у них одинаквый атрибут, по сути они ничем не отличаются:\n",
    "print(gene1.source)\n",
    "print(gene2.source)"
   ]
  },
  {
   "cell_type": "markdown",
   "id": "69441a40",
   "metadata": {},
   "source": [
    "Обычно, объекты всё-таки отличаются по описанию. Часто полезно эти отличия описать в момент именно создания объекта. Создание объекта описывается в методе `.__init__()`. С точки зрения синтаксиса, **методы** - это функции, которые определены внутри класса (нужно вспомнить, как работают функции). Давайте добавим этот метод в определение нашего класса:"
   ]
  },
  {
   "cell_type": "code",
   "execution_count": null,
   "id": "74ce3dd1",
   "metadata": {},
   "outputs": [],
   "source": [
    "# каждый раз, когда меняете класс, нужно не забыть перезапустить ячейку, чтобы выполнился актуальный код\n",
    "# и перезаписал старый, в котором нет нового кода\n",
    "# в случае этого ноутбука, я просто определяю класс каждый раз заново для удобства чтения\n",
    "\n",
    "class Gene:\n",
    "    source = 'human genome'  # пока что без изменений\n",
    "    \n",
    "    def __init__(self, input_name, input_sequence):\n",
    "        self.name = input_name\n",
    "        self.sequence = input_sequence\n",
    "\n",
    "    def __repr__(self):\n",
    "        return self.name + \": \" + self.sequence[:3] + \"...\""
   ]
  },
  {
   "cell_type": "markdown",
   "id": "83bd59cc",
   "metadata": {},
   "source": [
    "Мы описали метод `__init__()`. Этот метод принимает два обязательных аргумента - `input_name` и `input_sequence`. Название и последовательность нуклеотидов. Но вы можете увидеть, что в коде внутри скобок в определении метода указано 3 аргумента: `(self, input_name, input_sequence):`. Более того, это странное `self` испльзуется внутри тела функции. Дело в том, что `self` - это по сути ссылка на конкертный объект. Помните, как мы говорили, что методы это по сути функции, которые применяются к конкретному объекту (`gene1`, `gene2`, например). \\\n",
    "Конкретно в нашем примере, метод `__init__` примнимает на вход (от нас) название гена и последовательность НК. А затем обращается к атрибуту `name` и `sequence`, примваивает им соответствующие значения. Указание через `self.name` нужно чтобы указать, что именно этому объекту приваивается такое значение атрибута `name`."
   ]
  },
  {
   "cell_type": "code",
   "execution_count": null,
   "id": "cf9ef363",
   "metadata": {},
   "outputs": [],
   "source": [
    "gene1 = Gene('HIV_receptor1', 'AACACGT...')  # аргумент self указывает на gene1\n",
    "alb_gene = Gene('HUMalbumin25', 'AGCTACGT...')\n",
    "\n",
    "print(gene1.source)  # без изменений\n",
    "print(alb_gene.source)\n",
    "\n",
    "print(gene1.name)  # self указывает на gene1, у него своё значение  атрибута .name\n",
    "print(alb_gene.name)"
   ]
  },
  {
   "cell_type": "code",
   "execution_count": null,
   "id": "1081209e",
   "metadata": {},
   "outputs": [],
   "source": [
    "print(alb_gene)"
   ]
  },
  {
   "cell_type": "code",
   "execution_count": null,
   "id": "133c1118",
   "metadata": {},
   "outputs": [],
   "source": [
    "print(gene1.sequence)\n",
    "print(alb_gene.sequence)"
   ]
  },
  {
   "cell_type": "markdown",
   "id": "051d8715",
   "metadata": {},
   "source": [
    "Также мы можем не только испльзовать атрибуты разных объектов, но и менять их:"
   ]
  },
  {
   "cell_type": "code",
   "execution_count": null,
   "id": "3f67b3f7",
   "metadata": {},
   "outputs": [],
   "source": [
    "gene1.name = 'another gene name'\n",
    "print(gene1.name)\n",
    "print(alb_gene.name)  # без изменений"
   ]
  },
  {
   "cell_type": "markdown",
   "id": "28240311",
   "metadata": {},
   "source": [
    "На данный момент мы описали новый класс, по сути новый типа данных - `Gene`, который пока что годиться только для хранения информации о генах, чего иногда бывает достаточно, но вообще парадигма ООП предполагает, что мы можем задавть не только описание объектов, но и их поведение. Поведение объектов мы описываем через определение методов, которые действуют на объекты (в том смысле, что методы имею досутуп к описанию конкретного объекта, то есть атрибутам этого объекта. Давайте добавим метод нашему классу:"
   ]
  },
  {
   "cell_type": "code",
   "execution_count": null,
   "id": "823e87ec",
   "metadata": {},
   "outputs": [],
   "source": [
    "class Gene:\n",
    "    source = 'numan genome'\n",
    "    \n",
    "    def __init__(self, name, sequence):  # небольшие изменения\n",
    "        self.name = name\n",
    "        self.sequence = sequence  # заметьте, что self.name и name - это не одно и тоже, просто name\n",
    "                                  # это аргмумент метода, то, что передаётся в скобках, когда\n",
    "                                  # создаётся объект, а self.name - это обращение а атрибуту name\n",
    "                                  # этого конкретного объекта, который создаётся\n",
    "    \n",
    "    def transcribe(self):  # указываем, что метод будет работать от конкретного объекта\n",
    "        rna = self.sequence.replace('A', 't')\n",
    "        rna = rna.replace('G', 'c')\n",
    "        rna = rna.replace('C', 'g')\n",
    "        rna = rna.replace('T', 'a')\n",
    "        rna = rna.upper()\n",
    "        return rna\n"
   ]
  },
  {
   "cell_type": "markdown",
   "id": "7e8d2474",
   "metadata": {},
   "source": [
    "У создаваемых нами объектами теперь есть *методы*, которые действуют на эти самые конкретные объекты:"
   ]
  },
  {
   "cell_type": "code",
   "execution_count": null,
   "id": "c6f1bf14",
   "metadata": {},
   "outputs": [],
   "source": [
    "some_gene = Gene('test gene', 'ACCGTCGT')\n",
    "print(some_gene.transcribe())  # теперь (), так python понимает, что это метод, а не атрибут"
   ]
  },
  {
   "cell_type": "code",
   "execution_count": null,
   "id": "bb0d8052",
   "metadata": {},
   "outputs": [],
   "source": [
    "new_gene = Gene(\"name\", \"ACGTAAAAA\")"
   ]
  },
  {
   "cell_type": "code",
   "execution_count": null,
   "id": "9dce8ebb",
   "metadata": {},
   "outputs": [],
   "source": [
    "new_gene.name"
   ]
  },
  {
   "cell_type": "code",
   "execution_count": null,
   "id": "8401525c",
   "metadata": {},
   "outputs": [],
   "source": [
    "new_gene.sequence"
   ]
  },
  {
   "cell_type": "code",
   "execution_count": null,
   "id": "51780e59",
   "metadata": {},
   "outputs": [],
   "source": [
    "new_gene.transcribe()"
   ]
  },
  {
   "cell_type": "markdown",
   "id": "03f66f72",
   "metadata": {},
   "source": [
    "Конечно, у классов, которые мы определяем может быть сколько угодно атрибутов и методов, давайте добавим:"
   ]
  },
  {
   "cell_type": "code",
   "execution_count": null,
   "id": "8263b808",
   "metadata": {},
   "outputs": [],
   "source": [
    "# изменяем класс\n",
    "class Gene:\n",
    "    source = 'human genome'\n",
    "    \n",
    "    def __init__(self, name, sequence, genbank_id=None):\n",
    "        self.name = name\n",
    "        self.sequence = sequence\n",
    "        self.genbank_id = genbank_id\n",
    "        \n",
    "    def transcribe(self):\n",
    "        rna = self.sequence.replace('A', 't')\n",
    "        rna = rna.replace('T', 'a')\n",
    "        rna = rna.replace('G', 'c')\n",
    "        rna = rna.replace('C', 'g')\n",
    "        rna = rna.upper()\n",
    "        \n",
    "    def translate(self):\n",
    "        rna = self.transcribe()\n",
    "        # peptide = rna2amino(rna)\n",
    "        return peptide"
   ]
  },
  {
   "cell_type": "code",
   "execution_count": null,
   "id": "601d8819",
   "metadata": {},
   "outputs": [],
   "source": [
    "# используем новые методы\n",
    "keratin16_gene = Gene('human keratin 16', 'GTGACCCTGG', 'S72493.2')\n",
    "keratin_rna = keratin16_gene.transcribe()\n",
    "keratin_protein = keratin16_gene.translate()"
   ]
  },
  {
   "cell_type": "markdown",
   "id": "671b9a77",
   "metadata": {},
   "source": [
    "## Классы и методы, которые мы уже знаем\n",
    "Как уже и говорилось ранее, на самом деле, мы с вами уже всем этим пользовались. Только до этого мы испльзовали классы, который изначально определены в самом языке python, теперь мы научились свои классы определять. Мы посмотрели только на самые основы, мы не обсуждаем ещё очень и очень много чего связанного с объектно-ориентированным программированием, такие вещи как наследование, публичные и приватные поля и много всякого другого. Сейчас мы примерно познакомились с тем, как классы выглядят изнутри для того, чтобы нам проще было пользоваться классами, которые описаны не нами, и может быть, самим создавать несложные классы, когда нам это понадобиться. Ну и конечно, когда вы дойдёте до более серьёзного уровня, вам будет проще в них погружаться.\n",
    "\n",
    "А теперь мы можем посмотреть на методы, которые мы уже испльзовали и сравнить с тем, что только что узнали:"
   ]
  },
  {
   "cell_type": "markdown",
   "id": "cbd3fc2b",
   "metadata": {},
   "source": [
    "Как вы знаете, у строк существует много методов, вот только некоторые из них:\n",
    "- *str*.replace('sub_str1', 'sub_str2')  (под *str* имеется в виду любой объект строки)\n",
    "- *str*.index('sub_str')\n",
    "- *str*.count('sub_str')\n",
    "- *str*.upper()\n",
    "- *str*.isupper()  (помните, чем отличаются два последних метода?)\n",
    "- *str*.title()\n",
    "- etc...\n",
    "\n",
    "У нашего класса **Gene** существует только два метода (но мы можем определить сколько нам угодно)"
   ]
  },
  {
   "cell_type": "code",
   "execution_count": null,
   "id": "d67378eb",
   "metadata": {},
   "outputs": [],
   "source": [
    "class BactGene(Gene):\n",
    "    source = \"Bacterial genome\"\n",
    "    \n",
    "gene5 = BactGene('kl', 'AAAACGTGCGTAGA')\n",
    "gene6 = Gene('dkd', 'AAAAAAA')\n",
    "\n",
    "print(gene5.source)\n",
    "print(gene6.source)"
   ]
  },
  {
   "cell_type": "code",
   "execution_count": null,
   "id": "3412279f",
   "metadata": {},
   "outputs": [],
   "source": [
    "gene5.transcribe()"
   ]
  },
  {
   "cell_type": "code",
   "execution_count": null,
   "id": "c39add76",
   "metadata": {},
   "outputs": [],
   "source": [
    "gene6.transcribe()"
   ]
  },
  {
   "cell_type": "code",
   "execution_count": null,
   "id": "15874394",
   "metadata": {},
   "outputs": [],
   "source": [
    "# а вот применение методов к объектам уже одинаково выглядит (в отличие от создания)\n",
    "\n",
    "A_idx = some_string.index('A')\n",
    "some_rna = some_gene.transcribe()"
   ]
  },
  {
   "cell_type": "markdown",
   "id": "af2598a0",
   "metadata": {},
   "source": [
    "На самом деле, наибольшее значение, понимание классов в python нам понадобится, когда мы будем испльзовать сторонние библиотеки (следующее занятие), чтобы упростить работу и перейти к более серьёзным проектам, нежели просто упраженения. Как раз таки более-менее сложные и важные библиотеки построены в парадигме ООП, и нам бы лучше понимать, как это устроено."
   ]
  },
  {
   "cell_type": "markdown",
   "id": "7a4ae0fd",
   "metadata": {},
   "source": [
    "### Упражнение 1"
   ]
  },
  {
   "cell_type": "code",
   "execution_count": 4,
   "id": "9a28e5c7",
   "metadata": {},
   "outputs": [],
   "source": [
    "class Dog:\n",
    "    species = 'canis familiaris'\n",
    "    \n",
    "    def __init__(self, name, breed):\n",
    "        self.name = name\n",
    "        self.breed = breed\n"
   ]
  },
  {
   "cell_type": "markdown",
   "id": "68c74128",
   "metadata": {},
   "source": [
    "#### 1.1\n",
    "Используя описанный класс, создайте два объекта (инстанса), самостоятельно подберите клички и породы. Напишите свой код вместо `pass`\\\n",
    "*Пример*\\\n",
    "`dog1 = Dog('Zhuchka', 'немецкая овчарка')`"
   ]
  },
  {
   "cell_type": "code",
   "execution_count": 6,
   "id": "50325cec",
   "metadata": {},
   "outputs": [],
   "source": [
    "doge = Dog('Sharik', 'korgy')\n",
    "dog = Dog(\"Baloon\", \"husky\")"
   ]
  },
  {
   "cell_type": "markdown",
   "id": "37b3b698",
   "metadata": {},
   "source": [
    "#### 1.2\n",
    "Добавьте дополнительный атрибут при создании инстанса класса так, чтобы у истансов была информации о возрасте. Вместо `pass` напишите свой код, который позволит вам создать объект `doge`:"
   ]
  },
  {
   "cell_type": "code",
   "execution_count": 5,
   "id": "2ce09eb0",
   "metadata": {},
   "outputs": [],
   "source": [
    "class Dog:\n",
    "    def __init__(self, name, breed, age):\n",
    "        self.name = name\n",
    "        self.breed = breed\n",
    "        self.age = age\n",
    "    \n",
    "doge = Dog(\"Baloon\", \"husky\", 2)"
   ]
  },
  {
   "cell_type": "markdown",
   "id": "fc8aa28c",
   "metadata": {},
   "source": [
    "#### 1.3\n",
    "Давайте добавим метод, который позволит получить представление об объекте класса Dog. Добавьте код вместо `pass` и допишите последнюю строчку кода таким образом, чтобы получить описание конкретного объекта."
   ]
  },
  {
   "cell_type": "code",
   "execution_count": 7,
   "id": "422044ac",
   "metadata": {},
   "outputs": [
    {
     "name": "stdout",
     "output_type": "stream",
     "text": [
      "Woof, my friends! My name is ZhuchkaI'm 4 years old.And my breed is ovcharka!\n"
     ]
    }
   ],
   "source": [
    "class Dog:\n",
    "    species = 'canis familiaris'\n",
    "    \n",
    "    def __init__(self, name, breed, age):\n",
    "        self.name = name\n",
    "        self.breed = breed\n",
    "        self.age = age\n",
    "        \n",
    "    def get_description(self):\n",
    "        description = ('Woof, my friends! My name is ' + \\\n",
    "                       self.name + 'Im' + str(self.age) + \\\n",
    "                       'years old. And my breed is ' \\\n",
    "                       + self.breed)\n",
    "        description = (f\"Woof, my friends! My name is {self.name}. \"\n",
    "                       f\"I'm {self.age} years old. \"\n",
    "                       f\"And my breed is {self.breed}!\")\n",
    "        return description\n",
    "    \n",
    "doge = Dog('Zhuchka', \"ovcharka\", 4)\n",
    "\n",
    "print(doge.get_description())"
   ]
  },
  {
   "cell_type": "markdown",
   "id": "af06856a",
   "metadata": {},
   "source": [
    "### Упражнение 2\n",
    "#### Упражнение 2.1\n",
    "Допишите код таким образом, чтобы у объектов класса `Gene` появилась возможность хранить информацию о количестве случившихся мутаций, а также метод, который при вызове от объекта увеличивает на 1 количество мутаций у данного объекта."
   ]
  },
  {
   "cell_type": "code",
   "execution_count": 6,
   "id": "85ff690d",
   "metadata": {},
   "outputs": [
    {
     "name": "stdout",
     "output_type": "stream",
     "text": [
      "6\n",
      "11\n"
     ]
    }
   ],
   "source": [
    "class Gene:\n",
    "    \n",
    "    def __init__(self, name, seq, mutation_count):\n",
    "        self.name = name\n",
    "        self.seq = seq\n",
    "        self.mutations = mutation_count\n",
    "        \n",
    "    def mutate(self):\n",
    "        self.mutations += 1\n",
    "        \n",
    "gene = Gene('rhodopsin', 'aatttttaca', 5)\n",
    "gene.mutate()\n",
    "print(gene.mutations)\n",
    "\n",
    "for i in range(5):\n",
    "    gene.mutate()\n",
    "    \n",
    "print(gene.mutations)"
   ]
  },
  {
   "cell_type": "markdown",
   "id": "f9578893",
   "metadata": {},
   "source": [
    "#### 2.2\n",
    "То же самое, только теперь метод `.mutate(number)` будет иметь количество мутаций, на которое нужно увеличить счётчик. Если метод вызывается без аргументов, тогда на 1."
   ]
  },
  {
   "cell_type": "code",
   "execution_count": 8,
   "id": "4b2400a4",
   "metadata": {},
   "outputs": [
    {
     "name": "stdout",
     "output_type": "stream",
     "text": [
      "True\n",
      "True\n"
     ]
    }
   ],
   "source": [
    "class Gene:\n",
    "    \n",
    "    def __init__(self, name, seq, mutation_count=0):\n",
    "        self.name = name\n",
    "        self.seq = seq\n",
    "        self.mutations = mutation_count\n",
    "        \n",
    "    def mutate(self, n=1):\n",
    "        self.mutations += n\n",
    "    \n",
    "rk1_gene = Gene('rk1', 'AAACGT')\n",
    "kA_gene = Gene('kA', 'AACG', 5)\n",
    "\n",
    "rk1_gene.mutate(3)\n",
    "kA_gene.mutate()\n",
    "\n",
    "print(rk1_gene.mutations == 3)\n",
    "print(kA_gene.mutations == 6)"
   ]
  },
  {
   "cell_type": "code",
   "execution_count": null,
   "id": "ca99a30e",
   "metadata": {},
   "outputs": [],
   "source": []
  },
  {
   "cell_type": "markdown",
   "id": "f6d3fd64",
   "metadata": {},
   "source": [
    "## Задания"
   ]
  },
  {
   "cell_type": "markdown",
   "id": "c325e4e4",
   "metadata": {},
   "source": [
    "*предисловие*\\\n",
    "Пока что мы немного начинаем отходить от упражнений к более творческим, но пока что ещё \"игрушечным\" задачам. Постепенно мы будем двигаться в сторону полноценных реальных проектов."
   ]
  },
  {
   "cell_type": "markdown",
   "id": "a7a41158",
   "metadata": {},
   "source": [
    "### Класс для описания игровых персонажей\n",
    "Представьте, что мы создаём комьпютерную игру (или хотим создать модель поведения групп людей в фирме или ещё какое-нибудь социологическое моделирование сделать). Конечно, мы сейчас будем делать только маленький кусочек, а именно, мы создадим код, который позволит описывать поведение персонажей. Сначала нужно создать класс, который будет как бы общим чертежом, который позволит создать разных персонажей.\\\n",
    "*мы по сути тут имитируем работу над маленьким кусочком игры, только описание персонажей, мы не думаем о глобальной логике, игровых механиках, общей архитектуре, но это пока что просто учебное задание*\n",
    "1. Нужно создать сам класс, дать ему нормальное название (e.g. Person, Character etc...)\n",
    "2. Добавить атрибут класса (описание, которое будет у всех объектов этого класса, которое скорее всего почти у всех одинаковое)\n",
    "3. Теперь нужно определить метод `__init__(...)`, перечислить обязательные и дефолтные атрибуты объектов:\n",
    "    1. Имя персонажа\n",
    "    2. Возраст\n",
    "    3. *придумайте самостоятельно ещё одну характеристику*\n",
    "4. Так как это рпг игра (или симулятор чего-нибудь), нам нужны характеристики (Сила, Ловкость, Интеллект проч...) или ещё что-нибудь, какие-то параметры, числовые значения которых характеризуют персонажа.\n",
    "    1. Определите метод, который устанавливает характеристики персонажа (например в атирбут self.stats = ...)\n",
    "    2. характеристики пусть храняться в виде словаря (ключи - названия характеристик, значения, собственно значения этих характеристик)\n",
    "5. Метод для установления характеристик - в некотором роде служебный, нужен, чтобы дополнить описания объекта (или менять его, прокачка объекта или -дебаффы), теперь нужно добавить функционал игровой (модельный):\n",
    "    1. Определите метод, при помощи которого объект (персонаж) будет представляться\n",
    "    2. Определите метод, который описание игровой действие персонажа, которое основывается на его характеристике/ках\n",
    "6. Теперь можно начать тестирование и попытаться что-то смоделировать\n",
    "    1. Создайте объект (или несколько), задайте характеристики, попробуйте испльзовать их методы, чтобы смоделировать игровое действие\n",
    "    2. Попробуйте сделать такие методы, чтобы несколько персонажей могли взаимодействовать и был бы некоторый результат."
   ]
  },
  {
   "cell_type": "code",
   "execution_count": 42,
   "id": "8a61e518",
   "metadata": {},
   "outputs": [],
   "source": [
    "import random\n",
    "\n",
    "class Person:\n",
    "    race = 'human'\n",
    "    \n",
    "    def __init__(self, name, age, job):\n",
    "        self.name = name\n",
    "        self.age = age\n",
    "        self.job = job\n",
    "\n",
    "    def set_stats(self, streight, dexterity, intelligence, charisma, con, wisdom):\n",
    "        self.stats = {'STR': streight, 'DEX': dexterity, 'INT': intelligence, 'CHA': charisma, 'CON': con, 'WIS': wisdom,\n",
    "                      'hp': 4 + con // 9, 'max_hp': 4 + con // 9, 'sanity': 4 + wisdom // 9, 'max_sanity': 4 + wisdom // 9, 'stress': 0}\n",
    "    \n",
    "    def change_resource_stat(self, stat_name, amount):\n",
    "        stat = self.stats[stat_name] + amount\n",
    "        vital = False\n",
    "        if stat_name == 'hp' or stat_name == 'sanity':\n",
    "            max = self.stats['max_'+stat_name]\n",
    "            vital = True\n",
    "        elif stat_name == 'stress':\n",
    "            max = 100\n",
    "        if stat > max:\n",
    "            stat = max  #если значение не вышло за границы, с ним ничего не нужно делать\n",
    "        elif stat <= 0:\n",
    "            if vital:\n",
    "                self.death()\n",
    "            else:\n",
    "                stat = 0\n",
    "        self.stats[stat_name] = stat\n",
    "\n",
    "    def death(self):\n",
    "        del self\n",
    "\n",
    "    def hello_world(self, aditional=''):\n",
    "        print(f\"Hi! I'm glad to see you. My name is {self.name}, I'm {self.age} years old and I work as {self.job}.{aditional}\")\n",
    "\n",
    "    def dodge(self):\n",
    "        dex = self.stats['DEX']\n",
    "        if dex <=4:\n",
    "            chance = dex * 5\n",
    "        else:\n",
    "            chance = 25 + 75 * (1 - 0.9 ** (dex - 5))\n",
    "        dice = random.random() * 100\n",
    "        success = chance >= dice\n",
    "        if success:\n",
    "            return f\"You have succesfully dodged with chance {chance}%.\"\n",
    "        else:\n",
    "            self.change_resource_stat('hp', -1)\n",
    "            return f\"You have not dodged. Your chance was {chance}%.\"\n",
    "\n",
    "    def greetings(self, another):\n",
    "        self.change_resource_stat('sanity', 1)\n",
    "        another.change_resource_stat('sanity', 1)\n"
   ]
  },
  {
   "cell_type": "code",
   "execution_count": 51,
   "id": "2806ad6f-598b-4009-a475-672494e0d6b4",
   "metadata": {},
   "outputs": [
    {
     "name": "stdout",
     "output_type": "stream",
     "text": [
      "Hi! I'm glad to see you. My name is Gary, I'm 20 years old and I work as farmer.\n",
      "4\n",
      "You have not dodged. Your chance was 39.25%.\n",
      "3\n",
      "Hi! I'm glad to see you. My name is Vlad, I'm 30 years old and I work as farmer.\n",
      "4\n"
     ]
    }
   ],
   "source": [
    "gary = Person('Gary', 20, 'farmer')\n",
    "gary.set_stats(7, 7, 7, 7, 7, 7)\n",
    "gary.hello_world()\n",
    "print(gary.stats['sanity'])\n",
    "print(gary.dodge())\n",
    "gary.change_resource_stat('sanity', -1)\n",
    "print(gary.stats['sanity'])\n",
    "vlad = Person('Vlad', 30, 'farmer')\n",
    "vlad.set_stats(10, 5, 5, 9, 7, 6)\n",
    "vlad.hello_world()\n",
    "vlad.greetings(gary)\n",
    "print(gary.stats['sanity'])\n"
   ]
  },
  {
   "cell_type": "markdown",
   "id": "24eead8e",
   "metadata": {},
   "source": [
    "### Аминокислоты и белок\n",
    "\n",
    "Разработайте программу для моделирования структуры белка на основе аминокислотных цепочек. Используйте классы для представления аминокислот и самой молекулы белка, а также для выполнения основных биофизических операций.\n",
    "\n",
    "Класс `AminoAcid`:\n",
    "\n",
    "Атрибуты:\n",
    "- `name` (название аминокислоты)\n",
    "- `tlc` (трёхбуквенное сокращение)\n",
    "- `side_chain` (боковая цепь)\n",
    "\n",
    "Метод:\n",
    "- `__str__()` — возвращает строковое представление аминокислоты.\n",
    "\n",
    "\n",
    "Класс `Protein`:\n",
    "\n",
    "Атрибуты:\n",
    "- `name` (название белка)\n",
    "- `sequence` (список объектов AminoAcid, представляющих цепочку белка)\n",
    "\n",
    "Методы:\n",
    "- `add_amino_acid(amino_acid)` — добавляет аминокислоту в конец цепочки.\n",
    "- `remove_amino_acid(position)` — удаляет аминокислоту из цепочки по заданной позиции.\n",
    "- `get_sequence()` — возвращает последовательность белка в виде строкового представления (например, сокращения аминокислот через дефис).\n",
    "- `__str__()` — возвращает строковое представление белка, включая его название и последовательность.\n",
    "Дополнительные требования:\n",
    "\n",
    "Создайте несколько объектов `AminoAcid` для различных аминокислот.\n",
    "Создайте объект `Protein` и сформируйте его последовательность, добавляя аминокислоты.\n",
    "Реализуйте возможность изменения последовательности белка (добавление и удаление аминокислот).\n",
    "Выведите информацию о белке до и после внесения изменений."
   ]
  },
  {
   "cell_type": "code",
   "execution_count": 22,
   "id": "d2f948a1",
   "metadata": {},
   "outputs": [],
   "source": [
    "class AminoAcid:\n",
    "    def __init__(self, name, abbreviation, side_chain):\n",
    "        self.name = name\n",
    "        self.tlc = abbreviation\n",
    "        self.side_chain = side_chain\n",
    "\n",
    "    def __str__(self):\n",
    "        return self.tlc\n",
    "\n",
    "\n",
    "class Protein:\n",
    "    def __init__(self, name, sequence):  #sequence - это список\n",
    "        self.name = name\n",
    "        self.sequence = sequence\n",
    "\n",
    "    def add_amino_acid(self, amino_acid):\n",
    "        self.sequence.append(amino_acid)\n",
    "\n",
    "    def remove_amino_acid(self, position):\n",
    "        self.sequence.pop(position)\n",
    "\n",
    "    def get_sequence(self):\n",
    "        return '-'.join([str(x) for x in self.sequence])\n",
    "\n",
    "    def __str__(self):\n",
    "        return self.name + \": \" + self.get_sequence()\n",
    "\n"
   ]
  },
  {
   "cell_type": "code",
   "execution_count": 24,
   "id": "ca39815e",
   "metadata": {},
   "outputs": [
    {
     "name": "stdout",
     "output_type": "stream",
     "text": [
      "ExampleProtein: Ala-Gly\n",
      "ExampleProtein: Gly\n"
     ]
    }
   ],
   "source": [
    "# пример использования\n",
    "\n",
    "ala = AminoAcid(name=\"Alanine\", abbreviation=\"Ala\", side_chain=\"CH3\")\n",
    "gly = AminoAcid(name=\"Glycine\", abbreviation=\"Gly\", side_chain=\"H\")\n",
    "protein = Protein(name=\"ExampleProtein\", sequence=[])\n",
    "protein.add_amino_acid(ala)\n",
    "protein.add_amino_acid(gly)\n",
    "print(protein)  # Выводит: ExampleProtein: Ala-Gly\n",
    "protein.remove_amino_acid(0)\n",
    "print(protein)  # Выводит: ExampleProtein: Gly"
   ]
  },
  {
   "cell_type": "markdown",
   "id": "06433ecf",
   "metadata": {},
   "source": [
    "### Дополнительная литература"
   ]
  },
  {
   "cell_type": "markdown",
   "id": "459d37fb",
   "metadata": {},
   "source": [
    "- https://realpython.com/python3-object-oriented-programming/"
   ]
  },
  {
   "cell_type": "code",
   "execution_count": null,
   "id": "d40d55f3",
   "metadata": {},
   "outputs": [],
   "source": []
  }
 ],
 "metadata": {
  "kernelspec": {
   "display_name": "Python 3 (ipykernel)",
   "language": "python",
   "name": "python3"
  },
  "language_info": {
   "codemirror_mode": {
    "name": "ipython",
    "version": 3
   },
   "file_extension": ".py",
   "mimetype": "text/x-python",
   "name": "python",
   "nbconvert_exporter": "python",
   "pygments_lexer": "ipython3",
   "version": "3.12.4"
  }
 },
 "nbformat": 4,
 "nbformat_minor": 5
}
