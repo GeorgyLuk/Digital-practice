{
 "cells": [
  {
   "cell_type": "markdown",
   "id": "b15aacc3",
   "metadata": {},
   "source": [
    "# Вспомним былое...\n",
    "\n",
    "<details>\n",
    "<summary>Назовите три неизменяемых типа данных в python</summary>\n",
    "\n",
    "    string (строки), integer (целые числа), bool, float ...\n",
    "</details>\n",
    "\n",
    "<details>\n",
    "<summary>Назовите три изменяемых типа данных в python?</summary>\n",
    "\n",
    "    list (списки), set (множества), dictionary (словари)\n",
    "</details>\n",
    "\n",
    "<details>\n",
    "    \n",
    "<summary>Как получить каждый второй элемент списка или строки?</summary>\n",
    "\n",
    "    При помощи среза: my_var[::2]\n",
    "</details>\n",
    "\n",
    "<details>\n",
    "<summary>Что произойдёт в результате такой операции: \"ABCD\"[2] = \"c\"?</summary>\n",
    "\n",
    "    Ошибка! Строки неизменяемый тип данных\n",
    "</details>\n",
    "\n",
    "<details>\n",
    "<summary>Что должно быть написано после ключевого слова if чтобы программа работала корректно?</summary>\n",
    "\n",
    "    Выражение, результат которого будет логическим значением. Или результат, который может быть превращён в логическое значение\n",
    "</details>"
   ]
  },
  {
   "cell_type": "markdown",
   "id": "200a649a",
   "metadata": {},
   "source": [
    "# Кортежи (tuples)"
   ]
  },
  {
   "cell_type": "markdown",
   "id": "aa0aff20",
   "metadata": {},
   "source": [
    "Программирование можно рассматривать как процесс преобразования данных. А данные бывают разных типов, в том числе таких типов, которые представляют собой контейнеры для хранения более простых данных. И конечно, вы уже догадались, что списки (lists) как раз являются примером таких контейнеров. Списки позволяют нам хранить набор данных, получать доступ к одному элементу через индекс, брать срезы (slices) из подряд идущих элементов. В python также поддерживается очень похожий на списки тип данных - **кортежи (tuples)**. Кортежи очень похожи на списки, отличие заключается только в том, что кортежи нельзя изменять."
   ]
  },
  {
   "cell_type": "code",
   "execution_count": null,
   "id": "149ee11e",
   "metadata": {},
   "outputs": [],
   "source": [
    "num_list = [1, 2, 3, 5]  # list example\n",
    "num_tup = (1, 2, 3)  # tuple example\n",
    "print(num_list[2])  # third element in list\n",
    "print(num_tup[1])  # second element in tuple"
   ]
  },
  {
   "cell_type": "code",
   "execution_count": null,
   "id": "df1c09ff",
   "metadata": {},
   "outputs": [],
   "source": [
    "num_list[0] = 10\n",
    "print(num_list)"
   ]
  },
  {
   "cell_type": "code",
   "execution_count": null,
   "id": "e435c44b",
   "metadata": {},
   "outputs": [],
   "source": [
    "# списки можно изменять\n",
    "print(num_list)\n",
    "num_list.append(10)  # какое значение возвращает метод 'append'?\n",
    "print(num_list)\n",
    "num_list[3] = 20\n",
    "print(num_list)"
   ]
  },
  {
   "cell_type": "code",
   "execution_count": null,
   "id": "c57f524c",
   "metadata": {},
   "outputs": [],
   "source": [
    "num_tup.append(10)  # нет метода 'append' (неизменяемый тип)"
   ]
  },
  {
   "cell_type": "code",
   "execution_count": null,
   "id": "662e68aa",
   "metadata": {},
   "outputs": [],
   "source": [
    "num_tup[1] = 10  # нельзя присваивать (неизменяемый тип)"
   ]
  },
  {
   "cell_type": "code",
   "execution_count": null,
   "id": "7233d76b",
   "metadata": {},
   "outputs": [],
   "source": [
    "num_tup"
   ]
  },
  {
   "cell_type": "code",
   "execution_count": null,
   "id": "694244a0",
   "metadata": {},
   "outputs": [],
   "source": [
    "# также можно перебирать при помощи цикла\n",
    "for num in num_tup:\n",
    "    print(num)"
   ]
  },
  {
   "cell_type": "code",
   "execution_count": null,
   "id": "263b6f97",
   "metadata": {},
   "outputs": [],
   "source": [
    "some_list = [\"a\", 'b', \"c\"]\n",
    "some_tup = tuple(some_list)\n",
    "print(type(some_tup))"
   ]
  },
  {
   "cell_type": "markdown",
   "id": "e489c388",
   "metadata": {},
   "source": [
    "Кортежи таким образом применяются в тех случаях, когда вам нужно использовать неизменяемый набор данных, например, когда вы хотите \"защитить\" данные от случайного изменения. Также (на масштабе больших данных) кортежи работают быстрее и занимают меньше памяти."
   ]
  },
  {
   "cell_type": "markdown",
   "id": "23bc254c",
   "metadata": {},
   "source": [
    "Также, если функция возвращает несколько значений, она возвращает именно кортеж, состоящий из этих значений:"
   ]
  },
  {
   "cell_type": "code",
   "execution_count": null,
   "id": "2ae743c7",
   "metadata": {},
   "outputs": [],
   "source": [
    "random_tuple = (1, 2.5, \"abd\", [1,2,3], (True, False))\n"
   ]
  },
  {
   "cell_type": "code",
   "execution_count": null,
   "id": "8ffdc983",
   "metadata": {},
   "outputs": [],
   "source": [
    "def func():\n",
    "    return 1, 2, 3\n",
    "\n",
    "print(func())\n",
    "print(type(func()))"
   ]
  },
  {
   "cell_type": "markdown",
   "id": "e1d48db2",
   "metadata": {},
   "source": [
    "Значения из кортежей и списков можно \"распаковать\" в несколько переменных (количество переменных должно совадать с длиной кортежа/списка):"
   ]
  },
  {
   "cell_type": "code",
   "execution_count": null,
   "id": "86e957e7",
   "metadata": {},
   "outputs": [],
   "source": [
    "some_list = [1,2,3]\n",
    "a, b, c = some_list\n",
    "print(a,b,c)"
   ]
  },
  {
   "cell_type": "code",
   "execution_count": null,
   "id": "c25ad0dc",
   "metadata": {},
   "outputs": [],
   "source": [
    "seq1, seq2, seq3 = ('AA', 'CC', 'GG')\n",
    "s_1, s_2, s_3, s_4 = ['ava', 'ttq', 'gtg', 'jk']\n",
    "print(seq1)\n",
    "print(s_2)"
   ]
  },
  {
   "cell_type": "code",
   "execution_count": null,
   "id": "24739e86",
   "metadata": {},
   "outputs": [],
   "source": [
    "def gc(seq):\n",
    "    ln = len(seq)\n",
    "    a_count = seq.count('A')\n",
    "    c_count = seq.count('C')\n",
    "    g_count = seq.count('G')\n",
    "    t_count = seq.count('T')\n",
    "    \n",
    "    at = (a_count + t_count) / ln\n",
    "    gc = (g_count + c_count) / ln\n",
    "    return gc, at  # возвращаем два значения"
   ]
  },
  {
   "cell_type": "code",
   "execution_count": null,
   "id": "957fcadb",
   "metadata": {},
   "outputs": [],
   "source": [
    "gc_aaa, at_aaa = gc('AAA')\n",
    "print(gc_aaa)\n",
    "print(at_aaa)\n",
    "gc_at = gc('AAA')\n",
    "print(gc_at[0])\n",
    "print(gc_at)"
   ]
  },
  {
   "cell_type": "code",
   "execution_count": null,
   "id": "e7d7b679",
   "metadata": {},
   "outputs": [],
   "source": [
    "gc_c, _ = gc('AAA')\n",
    "print(gc_c)\n",
    "print(_)"
   ]
  },
  {
   "cell_type": "code",
   "execution_count": null,
   "id": "4bfccb4b",
   "metadata": {},
   "outputs": [],
   "source": [
    "a = 'XYZ'\n",
    "x, y, z = a\n",
    "\n",
    "print(x)\n",
    "print(y)\n",
    "print(z)\n",
    "print(a)"
   ]
  },
  {
   "cell_type": "markdown",
   "id": "d8fe56ed",
   "metadata": {},
   "source": [
    "# Словари (dictionaries)"
   ]
  },
  {
   "cell_type": "markdown",
   "id": "f3a7ac58",
   "metadata": {},
   "source": [
    "И если новые для вас кортежи были очень похожи по своему функционалу на известные уже списки, чуть более интересный способ хранить набор значений предоставляют **словари**. Фишка словарей состоит в том, что индексация хранимых значений происходит не при помощи порядковых номеров элементов, а при помощи _\"ключей\"_. Таким образом, словари из себя представляют набор пар \"ключ-значение\":"
   ]
  },
  {
   "cell_type": "markdown",
   "id": "e69adfed",
   "metadata": {},
   "source": [
    "Простейший способ создать словарь, описать его при помощи фигурных скобок `{ }`. Ключ и его значение обозначаются через `:`, а несколько таких пар, как водится перечисляются при помощи запятой:\n",
    "\n",
    "`dict_name = { key1 : value1, key2 : value2, ...}`"
   ]
  },
  {
   "cell_type": "code",
   "execution_count": null,
   "id": "145d0d4e",
   "metadata": {},
   "outputs": [],
   "source": [
    "nernst_potentials = {'K': -88, 'Na': +60, 'Cl': -61}  # словарь их трёх пар"
   ]
  },
  {
   "cell_type": "markdown",
   "id": "6a1c85fa",
   "metadata": {},
   "source": [
    "В примере выше мы создали словарь, который для трёх ионов (калий, натрий и хлор) содержит соответствующие им равновесные мембранные потенциалы (то есть, какой вклад каждый из ионов вносит в элетрический потенциал на мембране нейрона в условии покоя).\n",
    "Теперь, для того, чтобы узнать, какой равновесный потенциал соответствует иону, мы можем просто вызвать его по \"ключу\":\n"
   ]
  },
  {
   "cell_type": "code",
   "execution_count": null,
   "id": "3e66faf0",
   "metadata": {},
   "outputs": [],
   "source": [
    "# для калия:\n",
    "K_pot = nernst_potentials['K']  # индексация не по порядку, а по ключу\n",
    "print('Равновесный потенциал для калия равен', K_pot)\n",
    "\n",
    "print('Для натрия', nernst_potentials['Na'])\n",
    "\n",
    "Cl_key = 'Cl'\n",
    "print('А для хлора', nernst_potentials[Cl_key])"
   ]
  },
  {
   "cell_type": "code",
   "execution_count": null,
   "id": "d27b1565",
   "metadata": {},
   "outputs": [],
   "source": [
    "ions = ['Na', 'Na', \"Cl\", 'K', 'Na']\n",
    "for ion in ions:\n",
    "    print(nernst_potentials[ion])"
   ]
  },
  {
   "cell_type": "markdown",
   "id": "dfafc454",
   "metadata": {},
   "source": [
    "Создавать словари можно не обязательно сразу описывая все пары ключ-значение, их можно также добавлять и по ходу:"
   ]
  },
  {
   "cell_type": "code",
   "execution_count": null,
   "id": "67ce1acb",
   "metadata": {},
   "outputs": [],
   "source": [
    "grades = {'Физика': 5, 'Биология': 5}\n",
    "phys = grades[\"Физика\"]\n",
    "biol = grades[\"Биология\"]\n",
    "# После следующего экзамена\n",
    "math = grades['Математика']  # несуществующий ключ"
   ]
  },
  {
   "cell_type": "code",
   "execution_count": null,
   "id": "85b9f5bd",
   "metadata": {},
   "outputs": [],
   "source": [
    "grades['Математика'] = 3  # присваиваем новое значение к новому ключу\n",
    "print('Оценка за математику:', grades['Математика'])"
   ]
  },
  {
   "cell_type": "code",
   "execution_count": null,
   "id": "5d984ba5",
   "metadata": {},
   "outputs": [],
   "source": [
    "grades"
   ]
  },
  {
   "cell_type": "code",
   "execution_count": null,
   "id": "622ade9a",
   "metadata": {},
   "outputs": [],
   "source": [
    "grades['Математика'] = 4\n",
    "grades"
   ]
  },
  {
   "cell_type": "markdown",
   "id": "366a17c9",
   "metadata": {},
   "source": [
    "Также можно создавать словари при помощи встроенной функции `dict`. Она работает несколькими способами, первый - когда вы передаёте последовательность пар ключ-значение:"
   ]
  },
  {
   "cell_type": "code",
   "execution_count": null,
   "id": "7046dd6e",
   "metadata": {},
   "outputs": [],
   "source": [
    "one_pair = ('Arginine', 'NMDA')\n",
    "all_pairs = [one_pair, ('Glutamate', 'NMDA'), ('Serotonin', '5-HT_3'), ('Acetylcholine', 'Nicotinic ACh r.')]\n",
    "some_receptors = dict(all_pairs)"
   ]
  },
  {
   "cell_type": "code",
   "execution_count": null,
   "id": "0180ded2",
   "metadata": {},
   "outputs": [],
   "source": [
    "print(some_receptors)\n",
    "\n",
    "print(some_receptors['Glutamate'])\n",
    "\n",
    "print(type(some_receptors))\n",
    "print(len(some_receptors))"
   ]
  },
  {
   "cell_type": "code",
   "execution_count": null,
   "id": "0a116c65",
   "metadata": {},
   "outputs": [],
   "source": [
    "print(type(one_pair))\n",
    "print(len(one_pair))\n"
   ]
  },
  {
   "cell_type": "code",
   "execution_count": null,
   "id": "fb8afb37",
   "metadata": {},
   "outputs": [],
   "source": [
    "print(type(all_pairs))\n",
    "print(len(all_pairs))"
   ]
  },
  {
   "cell_type": "markdown",
   "id": "b99dfa9b",
   "metadata": {},
   "source": [
    "Ещё один способ исползовать `dict`:"
   ]
  },
  {
   "cell_type": "code",
   "execution_count": null,
   "id": "70503d46",
   "metadata": {},
   "outputs": [],
   "source": [
    "def some_func(a, b, c):\n",
    "    return a + b + c\n",
    "\n",
    "some_func(b=3, a=4, c=0)"
   ]
  },
  {
   "cell_type": "code",
   "execution_count": null,
   "id": "bc984784",
   "metadata": {},
   "outputs": [],
   "source": [
    "some_func(**{\"b\": 3, \"a\": 4, \"c\": 0})"
   ]
  },
  {
   "cell_type": "code",
   "execution_count": null,
   "id": "f6d5dfec",
   "metadata": {},
   "outputs": [],
   "source": [
    "some_func(1,2,3)"
   ]
  },
  {
   "cell_type": "code",
   "execution_count": null,
   "id": "10c87eff",
   "metadata": {},
   "outputs": [],
   "source": [
    "some_dict = dict(ghjfhfgh=100_000, key2=5e-2)\n",
    "print(some_dict)"
   ]
  },
  {
   "cell_type": "markdown",
   "id": "406fcf36",
   "metadata": {},
   "source": [
    "Конечно, можно не только одиночные объекты (типа числа или строки) использовать в качестве значения словаря, также ключи и значения могут быть разного типа:"
   ]
  },
  {
   "cell_type": "code",
   "execution_count": null,
   "id": "dd6fc85f",
   "metadata": {},
   "outputs": [],
   "source": [
    "trash_dict = {10: 'some string',\n",
    "              'text': [1, 3, 4],\n",
    "              10.01: ('a', 'b', 'c'),\n",
    "              (5e-6, 's', True): ['', {}]}"
   ]
  },
  {
   "cell_type": "code",
   "execution_count": null,
   "id": "55fb77dc",
   "metadata": {},
   "outputs": [],
   "source": [
    "print(trash_dict[1])\n",
    "print(trash_dict[10.01])"
   ]
  },
  {
   "cell_type": "markdown",
   "id": "0916ef1d",
   "metadata": {},
   "source": [
    "**Важно!**\n",
    "\n",
    "Ключами словаря могут быть только значения *неизменяемых* типов данных."
   ]
  },
  {
   "cell_type": "markdown",
   "id": "3763725f",
   "metadata": {},
   "source": [
    "Вернёмся к словарю рецепторов:"
   ]
  },
  {
   "cell_type": "code",
   "execution_count": null,
   "id": "d15bbd2c",
   "metadata": {},
   "outputs": [],
   "source": [
    "some_receptors"
   ]
  },
  {
   "cell_type": "markdown",
   "id": "35717a5c",
   "metadata": {},
   "source": [
    "Глутамат (Glu) действует не только на NMDA рецепторы, но и на AMPA, давайте заменим это значение словаря на список:"
   ]
  },
  {
   "cell_type": "code",
   "execution_count": null,
   "id": "81365cfc",
   "metadata": {},
   "outputs": [],
   "source": [
    "glu = 'Glutamate'\n",
    "some_receptors[glu] = [some_receptors[glu], 'AMPA']  # присваиваем новое значение элементу под ключом \"Glutamate\"\n",
    "print(some_receptors)"
   ]
  },
  {
   "cell_type": "markdown",
   "id": "b92e05d9",
   "metadata": {},
   "source": [
    "Как выдумаете, словари являются изменяемым или неизменяемым типом?"
   ]
  },
  {
   "cell_type": "markdown",
   "id": "5dfc7a5f",
   "metadata": {},
   "source": [
    "**Вопрос:** \\\n",
    "Какие из операций ниже можно выполнить?"
   ]
  },
  {
   "cell_type": "code",
   "execution_count": null,
   "id": "30383215",
   "metadata": {},
   "outputs": [],
   "source": [
    "a = 10\n",
    "a = 15\n",
    "a = a - 10\n",
    "\n",
    "b = [12, \"a\", None, 50]\n",
    "b[1] = \"b\"\n",
    "b[0] = b[0] + 2\n",
    "\n",
    "c = \"ABCD\"\n",
    "c[3] = \"G\"\n",
    "c[3] = c[3] + \"dd\"\n",
    "\n",
    "d = \"ABCD\"\n",
    "d[3] = 5\n",
    "\n",
    "e = {\"a\": 1, \"bb\": 3.0, \"C\": (55, 44)}\n",
    "e[\"bb\"] = 10\n",
    "e[\"C\"][0] = 66\n",
    "e[\"C\"] = (1,2,3)\n",
    "e[\"a\"] = e[\"a\"] + e[\"bb\"] + e[\"C\"][1]"
   ]
  },
  {
   "cell_type": "markdown",
   "id": "9b3ca486",
   "metadata": {},
   "source": [
    "## Вложенные словари (словари как элементы словарей):"
   ]
  },
  {
   "cell_type": "code",
   "execution_count": null,
   "id": "29e14e0c",
   "metadata": {},
   "outputs": [],
   "source": [
    "elements = {'Metal': None,\n",
    "            'Non-metal': None,\n",
    "            'Halogen': None}"
   ]
  },
  {
   "cell_type": "code",
   "execution_count": null,
   "id": "81221ec0",
   "metadata": {},
   "outputs": [],
   "source": [
    "print(elements)"
   ]
  },
  {
   "cell_type": "code",
   "execution_count": null,
   "id": "fdb7ebdf",
   "metadata": {},
   "outputs": [],
   "source": [
    "hydrogen = {'name': 'hydrogen', 'symbol': 'H', 'mass': 1.008, 'q num': (0, 0, 1)}  # отдельный словарь только для водорода"
   ]
  },
  {
   "cell_type": "code",
   "execution_count": null,
   "id": "4fe1f12a",
   "metadata": {},
   "outputs": [],
   "source": [
    "elements['Halogen'] = {}\n",
    "print('before:',elements)\n",
    "\n",
    "\n",
    "elements['Halogen'][1] = hydrogen  # обращаемся к пустому словарю с новым ключом\n",
    "print('after:', elements)"
   ]
  },
  {
   "cell_type": "code",
   "execution_count": null,
   "id": "f270a174",
   "metadata": {},
   "outputs": [],
   "source": [
    "elements['Halogen'][1]['mass']"
   ]
  },
  {
   "cell_type": "code",
   "execution_count": null,
   "id": "8219bba6",
   "metadata": {},
   "outputs": [],
   "source": [
    "elements['Halogen'][1]['q num'][2]"
   ]
  },
  {
   "cell_type": "code",
   "execution_count": null,
   "id": "50079823",
   "metadata": {},
   "outputs": [],
   "source": [
    "elements['Metal'] = {}\n",
    "elements['Metal'][11] = {'name': 'sodium', 'symbol': 'Na', 'mass': 22.98, 'q num': (0, 0, 3)}\n",
    "elements"
   ]
  },
  {
   "cell_type": "code",
   "execution_count": null,
   "id": "1dddf217",
   "metadata": {},
   "outputs": [],
   "source": [
    "# что делать, если я хочу добавить метал в таком виде?\n",
    "fe = {26: {'name': 'ferrum', 'symbol': 'Fe', 'mass': 55.845, 'q num': (2, -2, 3)}}\n",
    "elements['Metal'] = fe  # перезапишет то, что там сейчас, проблема\n",
    "elements"
   ]
  },
  {
   "cell_type": "markdown",
   "id": "9cd79b0b",
   "metadata": {},
   "source": [
    "## У словарей есть методы"
   ]
  },
  {
   "cell_type": "markdown",
   "id": "9bf044dc",
   "metadata": {},
   "source": [
    "### .get()"
   ]
  },
  {
   "cell_type": "code",
   "execution_count": 1,
   "id": "dd3277f8",
   "metadata": {},
   "outputs": [],
   "source": [
    "passwords = {'admin':'admin',\n",
    "             'john228': 'qwerty',\n",
    "             'super_boy95': '12345',\n",
    "             'Иван Васильевич': 'password1234'}"
   ]
  },
  {
   "cell_type": "code",
   "execution_count": 3,
   "id": "e365fa8b",
   "metadata": {},
   "outputs": [
    {
     "data": {
      "text/plain": [
       "'admin'"
      ]
     },
     "execution_count": 3,
     "metadata": {},
     "output_type": "execute_result"
    }
   ],
   "source": [
    "passwords['admin']"
   ]
  },
  {
   "cell_type": "code",
   "execution_count": 5,
   "id": "13e15422",
   "metadata": {},
   "outputs": [
    {
     "data": {
      "text/plain": [
       "'admin'"
      ]
     },
     "execution_count": 5,
     "metadata": {},
     "output_type": "execute_result"
    }
   ],
   "source": [
    "passwords.get('admin')"
   ]
  },
  {
   "cell_type": "code",
   "execution_count": 7,
   "id": "d44b3659",
   "metadata": {},
   "outputs": [
    {
     "data": {
      "text/plain": [
       "'qwerty'"
      ]
     },
     "execution_count": 7,
     "metadata": {},
     "output_type": "execute_result"
    }
   ],
   "source": [
    "passwords.get(\"john228\")"
   ]
  },
  {
   "cell_type": "code",
   "execution_count": 9,
   "id": "cf8ed719",
   "metadata": {},
   "outputs": [
    {
     "ename": "KeyError",
     "evalue": "'user1'",
     "output_type": "error",
     "traceback": [
      "\u001b[1;31m---------------------------------------------------------------------------\u001b[0m",
      "\u001b[1;31mKeyError\u001b[0m                                  Traceback (most recent call last)",
      "Cell \u001b[1;32mIn[9], line 1\u001b[0m\n\u001b[1;32m----> 1\u001b[0m passwords[\u001b[38;5;124m'\u001b[39m\u001b[38;5;124muser1\u001b[39m\u001b[38;5;124m'\u001b[39m]\n",
      "\u001b[1;31mKeyError\u001b[0m: 'user1'"
     ]
    }
   ],
   "source": [
    "passwords['user1']"
   ]
  },
  {
   "cell_type": "code",
   "execution_count": 11,
   "id": "b5a113f3",
   "metadata": {},
   "outputs": [
    {
     "name": "stdout",
     "output_type": "stream",
     "text": [
      "None\n"
     ]
    }
   ],
   "source": [
    "print(passwords.get('user1'))"
   ]
  },
  {
   "cell_type": "markdown",
   "id": "6b3c13c9",
   "metadata": {},
   "source": [
    "### .items()"
   ]
  },
  {
   "cell_type": "code",
   "execution_count": 13,
   "id": "2a2ed918",
   "metadata": {},
   "outputs": [
    {
     "data": {
      "text/plain": [
       "{'admin': 'admin',\n",
       " 'john228': 'qwerty',\n",
       " 'super_boy95': '12345',\n",
       " 'Иван Васильевич': 'password1234'}"
      ]
     },
     "execution_count": 13,
     "metadata": {},
     "output_type": "execute_result"
    }
   ],
   "source": [
    "passwords"
   ]
  },
  {
   "cell_type": "code",
   "execution_count": 15,
   "id": "58024330",
   "metadata": {},
   "outputs": [
    {
     "data": {
      "text/plain": [
       "[('admin', 'admin'),\n",
       " ('john228', 'qwerty'),\n",
       " ('super_boy95', '12345'),\n",
       " ('Иван Васильевич', 'password1234')]"
      ]
     },
     "execution_count": 15,
     "metadata": {},
     "output_type": "execute_result"
    }
   ],
   "source": [
    "list(passwords.items())  # где-то такое уже видели"
   ]
  },
  {
   "cell_type": "code",
   "execution_count": 17,
   "id": "574ddf78",
   "metadata": {},
   "outputs": [
    {
     "data": {
      "text/plain": [
       "{'admin': 'admin',\n",
       " 'john228': 'qwerty',\n",
       " 'super_boy95': '12345',\n",
       " 'Иван Васильевич': 'password1234'}"
      ]
     },
     "execution_count": 17,
     "metadata": {},
     "output_type": "execute_result"
    }
   ],
   "source": [
    "passwords2 = dict(passwords.items())\n",
    "passwords2"
   ]
  },
  {
   "cell_type": "code",
   "execution_count": 19,
   "id": "0fd52662",
   "metadata": {},
   "outputs": [
    {
     "name": "stdout",
     "output_type": "stream",
     "text": [
      "{1: '1', 2: '2'}\n"
     ]
    }
   ],
   "source": [
    "a = {1: '1', 2: '2'}\n",
    "b = dict(a.items())\n",
    "print(b)"
   ]
  },
  {
   "cell_type": "code",
   "execution_count": null,
   "id": "20b5b2d0",
   "metadata": {},
   "outputs": [],
   "source": []
  },
  {
   "cell_type": "markdown",
   "id": "20246655",
   "metadata": {},
   "source": [
    "### .values() и .keys()"
   ]
  },
  {
   "cell_type": "code",
   "execution_count": null,
   "id": "fa068944",
   "metadata": {},
   "outputs": [],
   "source": [
    "passwords"
   ]
  },
  {
   "cell_type": "code",
   "execution_count": null,
   "id": "4281abeb",
   "metadata": {},
   "outputs": [],
   "source": [
    "list(passwords.values())"
   ]
  },
  {
   "cell_type": "code",
   "execution_count": null,
   "id": "a97e579b",
   "metadata": {},
   "outputs": [],
   "source": [
    "list(passwords.keys())"
   ]
  },
  {
   "cell_type": "markdown",
   "id": "40ce2a5b",
   "metadata": {},
   "source": [
    "### .update()"
   ]
  },
  {
   "cell_type": "code",
   "execution_count": null,
   "id": "1464f3b5",
   "metadata": {},
   "outputs": [],
   "source": [
    "passwords"
   ]
  },
  {
   "cell_type": "code",
   "execution_count": null,
   "id": "44443b29",
   "metadata": {},
   "outputs": [],
   "source": [
    "passwords['admin'] = 'admin3'\n",
    "passwords"
   ]
  },
  {
   "cell_type": "code",
   "execution_count": null,
   "id": "62dc800f",
   "metadata": {},
   "outputs": [],
   "source": [
    "passwords.update({'admin': 'admin2'})\n",
    "passwords"
   ]
  },
  {
   "cell_type": "code",
   "execution_count": null,
   "id": "7f4ec98b",
   "metadata": {},
   "outputs": [],
   "source": [
    "passwords.update({'new_user1337': '!@#$!@#$', '113': '001'})\n",
    "passwords"
   ]
  },
  {
   "cell_type": "code",
   "execution_count": null,
   "id": "814d7a86",
   "metadata": {},
   "outputs": [],
   "source": [
    "passwords.update([('vasya', '0000'), ('kolyaN', '09051999')])  # можно сразу несколько пар\n",
    "passwords"
   ]
  },
  {
   "cell_type": "markdown",
   "id": "caf976e0",
   "metadata": {},
   "source": [
    "### Как решить проблему?"
   ]
  },
  {
   "cell_type": "code",
   "execution_count": null,
   "id": "6a5c9b97",
   "metadata": {},
   "outputs": [],
   "source": [
    "fe"
   ]
  },
  {
   "cell_type": "code",
   "execution_count": null,
   "id": "87a94cb8",
   "metadata": {},
   "outputs": [],
   "source": [
    "elements"
   ]
  },
  {
   "cell_type": "code",
   "execution_count": null,
   "id": "06c24ae8",
   "metadata": {},
   "outputs": [],
   "source": [
    "elements['Metal']"
   ]
  },
  {
   "cell_type": "code",
   "execution_count": null,
   "id": "f1810842",
   "metadata": {},
   "outputs": [],
   "source": [
    "elements['Metal'].update(fe)\n",
    "elements"
   ]
  },
  {
   "cell_type": "markdown",
   "id": "ae0e9def",
   "metadata": {},
   "source": [
    "### Циклы и словари"
   ]
  },
  {
   "cell_type": "code",
   "execution_count": null,
   "id": "011e4c35",
   "metadata": {},
   "outputs": [],
   "source": [
    "simple_dict = {'a': 0, 'b': 1, 'c': 2, 'd': 3}\n",
    "for var in simple_dict:\n",
    "    print(var)\n",
    "    print(simple_dict[var])"
   ]
  },
  {
   "cell_type": "code",
   "execution_count": null,
   "id": "7d85552f",
   "metadata": {},
   "outputs": [],
   "source": [
    "sd_keys = simple_dict.keys()\n",
    "for key in sd_keys:\n",
    "    print(key)\n",
    "    print(simple_dict[key])"
   ]
  },
  {
   "cell_type": "code",
   "execution_count": null,
   "id": "d010d808",
   "metadata": {},
   "outputs": [],
   "source": [
    "for value in simple_dict.values():\n",
    "    print(value)"
   ]
  },
  {
   "cell_type": "code",
   "execution_count": null,
   "id": "3c2558b2",
   "metadata": {},
   "outputs": [],
   "source": [
    "print(simple_dict.items())"
   ]
  },
  {
   "cell_type": "code",
   "execution_count": null,
   "id": "0af8f632",
   "metadata": {},
   "outputs": [],
   "source": [
    "print(simple_dict.items())\n",
    "print('-.'*10)\n",
    "for key, value in simple_dict.items():\n",
    "    print('Ключ:', key)\n",
    "    print('Значение:', value)"
   ]
  },
  {
   "cell_type": "markdown",
   "id": "03f8ec57",
   "metadata": {},
   "source": [
    "# Упражнения"
   ]
  },
  {
   "cell_type": "markdown",
   "id": "d0a24dd4",
   "metadata": {},
   "source": [
    "Измените `pass` на свой код так, чтобы на печать выводилось `True`."
   ]
  },
  {
   "cell_type": "code",
   "execution_count": null,
   "id": "7179cf9c",
   "metadata": {},
   "outputs": [],
   "source": [
    "my_dict = {'a': 1, 'b': 2, 'c': 3}\n",
    "key_to_check = 'b'\n",
    "\n",
    "dict_contains_key = pass\n",
    "\n",
    "print(dict_contains_key)"
   ]
  },
  {
   "cell_type": "code",
   "execution_count": null,
   "id": "cd8a1ae8",
   "metadata": {},
   "outputs": [],
   "source": [
    "my_dict = {'name': 'Alice', 'age': 25}\n",
    "my_dict pass = \"New York\"\n",
    "\n",
    "is_city_key = 'city' in my_dict\n",
    "\n",
    "print(is_city_key)"
   ]
  },
  {
   "cell_type": "code",
   "execution_count": null,
   "id": "5d56e069",
   "metadata": {},
   "outputs": [],
   "source": [
    "my_dict = {'p': 5, 'q': 20}\n",
    "my_dict.update(pass)\n",
    "\n",
    "print(my_dict['q'] == 25)"
   ]
  },
  {
   "cell_type": "code",
   "execution_count": null,
   "id": "393c814e",
   "metadata": {},
   "outputs": [],
   "source": [
    "dict1 = {'a': 1, 'b': 2}\n",
    "dict2 = {'b': 3, 'c': 4}\n",
    "\n",
    "pass\n",
    "\n",
    "print(dict1['b'] == 3 and dict1['c'] == 4)"
   ]
  },
  {
   "cell_type": "markdown",
   "id": "ca032108",
   "metadata": {},
   "source": [
    "Измените `pass` на свой код так, чтобы на печать выводились ключи и значения"
   ]
  },
  {
   "cell_type": "code",
   "execution_count": null,
   "id": "5720c4b2",
   "metadata": {},
   "outputs": [],
   "source": [
    "my_dict = {'k1': 'v1', 'k2': 'v2'}\n",
    "\n",
    "for key, value in pass:\n",
    "    print(key, value)"
   ]
  },
  {
   "cell_type": "markdown",
   "id": "f9c749ad",
   "metadata": {},
   "source": [
    "#  Домашнее задание"
   ]
  },
  {
   "cell_type": "markdown",
   "id": "3022556a",
   "metadata": {},
   "source": [
    "### 1. Трансляция\n",
    "Напишите и протестируйте функцию, которая преобразует мРНК в виде строки в строку, содержащую соответствующую последовательность аминокислот. Для сопоставления коднов и аминокислот используйте словарь приведённый ниже."
   ]
  },
  {
   "cell_type": "code",
   "execution_count": 34,
   "id": "06572254",
   "metadata": {},
   "outputs": [
    {
     "name": "stdout",
     "output_type": "stream",
     "text": [
      "1\n",
      "GCU\n",
      "GGU\n",
      "CGA\n",
      "UCG\n",
      "AUC\n",
      "GAG\n",
      "CUG\n",
      "GCC\n",
      "AlaGlyArgSerIleGluLeuAla\n"
     ]
    }
   ],
   "source": [
    "def rna2amino(rna):\n",
    "    rna = rna.upper()\n",
    "    # проверка количества стоп-кодонов\n",
    "    stop_count = rna.count('UAA') + rna.count('UAG') + rna.count('UGA')\n",
    "    print(stop_count)\n",
    "    if stop_count == 0:\n",
    "        return 'нет стоп-кодона'\n",
    "    elif stop_count > 1:\n",
    "        return 'больше одного стоп-кодона'\n",
    "    # поиск стоп-кодона\n",
    "    if 'UAA' in rna:\n",
    "        stop_i = rna.index('UAA')\n",
    "    elif 'UAG' in rna:\n",
    "        stop_i = rna.index('UAG')\n",
    "    else:\n",
    "        stop_i = rna.index('UGA')\n",
    "    # в переменной stop_i положение стоп-кодона в последовательности, всё после стоп-кодона отпрасываем\n",
    "    # теперь возьмём только целые триплеты до стоп-кодона: найдём остаток от деления длины последовательности (индекса стоп-кодона) на 3\n",
    "    start_i = stop_i % 3\n",
    "    seq = rna[start_i:stop_i]\n",
    "\n",
    "    amino = ''\n",
    "    for i in range(0, stop_i - start_i, 3):\n",
    "        index = seq[i:i+3]\n",
    "        print(index)\n",
    "        amino += STANDARD_GENETIC_CODE[index]\n",
    "    return amino\n",
    "\n",
    "\n",
    "by_rna = \"AGCUGGUCGAUCGAUCGAGCUGGCCUAAUGGUGG\"\n",
    "my_amino = rna2amino(by_rna)\n",
    "print(my_amino)\n",
    "\n",
    "# my_rna = 'ACGUGUCGUACGUCGU'\n",
    "# my_amino = rna2amino(my_rna)"
   ]
  },
  {
   "cell_type": "code",
   "execution_count": null,
   "id": "9af06770",
   "metadata": {},
   "outputs": [],
   "source": [
    "my_amino = 'PhePheSerCysLeu'"
   ]
  },
  {
   "cell_type": "code",
   "execution_count": 22,
   "id": "6f706ea7",
   "metadata": {},
   "outputs": [],
   "source": [
    "STANDARD_GENETIC_CODE = {\n",
    "                            'UUU':'Phe', 'UUC':'Phe', 'UCU':'Ser', 'UCC':'Ser',\n",
    "                            'UAU':'Tyr', 'UAC':'Tyr', 'UGU':'Cys', 'UGC':'Cys',\n",
    "                            'UUA':'Leu', 'UCA':'Ser', 'UAA':None, 'UGA':None,\n",
    "                            'UUG':'Leu', 'UCG':'Ser', 'UAG':None, 'UGG':'Trp',\n",
    "                            'CUU':'Leu', 'CUC':'Leu', 'CCU':'Pro', 'CCC':'Pro',\n",
    "                            'CAU':'His', 'CAC':'His', 'CGU':'Arg', 'CGC':'Arg',\n",
    "                            'CUA':'Leu', 'CUG':'Leu', 'CCA':'Pro', 'CCG':'Pro',\n",
    "                            'CAA':'Gln', 'CAG':'Gln', 'CGA':'Arg', 'CGG':'Arg',\n",
    "                            'AUU':'Ile', 'AUC':'Ile', 'ACU':'Thr', 'ACC':'Thr',\n",
    "                            'AAU':'Asn', 'AAC':'Asn', 'AGU':'Ser', 'AGC':'Ser',\n",
    "                            'AUA':'Ile', 'ACA':'Thr', 'AAA':'Lys', 'AGA':'Arg',\n",
    "                            'AUG':'Met', 'ACG':'Thr', 'AAG':'Lys', 'AGG':'Arg',\n",
    "                            'GUU':'Val', 'GUC':'Val', 'GCU':'Ala', 'GCC':'Ala',\n",
    "                            'GAU':'Asp', 'GAC':'Asp', 'GGU':'Gly', 'GGC':'Gly',\n",
    "                            'GUA':'Val', 'GUG':'Val', 'GCA':'Ala', 'GCG':'Ala',\n",
    "                            'GAA':'Glu', 'GAG':'Glu', 'GGA':'Gly', 'GGG':'Gly'\n",
    "                            }"
   ]
  },
  {
   "cell_type": "markdown",
   "id": "3e0f11e9",
   "metadata": {},
   "source": [
    "### 2. Примерная оценка массы\n",
    "Напишите и протестируйте функцию для примерного расчёта массы молекулы (протестируйте для всех типов молекул). Для значений испльзуйте словарь ниже:"
   ]
  },
  {
   "cell_type": "code",
   "execution_count": 36,
   "id": "6718c1a4",
   "metadata": {},
   "outputs": [],
   "source": [
    "residue_masses = {\n",
    "    \"DNA\": {\"G\": 329.21, \"C\": 289.18, \"A\": 323.21, \"T\": 304.19},\n",
    "    \"RNA\": {\"G\": 345.21, \"C\": 305.18, \"A\": 329.21, \"U\": 302.16},\n",
    "    \"protein\": {\"A\": 71.07, \"R\": 156.18, \"N\": 114.08, \"D\": 115.08,\n",
    "                \"C\": 103.10, \"Q\": 128.13, \"E\": 129.11, \"G\": 57.05,\n",
    "                \"H\": 137.14, \"I\": 113.15, \"L\": 113.15, \"K\":128.17,\n",
    "                \"M\": 131.19, \"F\": 147.17, \"P\": 97.11, \"S\": 87.07,\n",
    "                \"T\": 101.10, \"W\": 186.20, \"Y\": 163.17, \"V\": 99.13}\n",
    "}"
   ]
  },
  {
   "cell_type": "code",
   "execution_count": 44,
   "id": "1b6ffb8e-37d6-4a8a-9d88-a5ba0c6f6992",
   "metadata": {},
   "outputs": [
    {
     "name": "stdout",
     "output_type": "stream",
     "text": [
      "\n",
      "True\n",
      "842.93\n",
      "3875.35\n",
      "5272.34\n"
     ]
    }
   ],
   "source": [
    "'''\n",
    "def mass_func(residue, r_type=False):\n",
    "    if not r_type:\n",
    "        # определяем тип\n",
    "        if any([(x in residue) for x in \"RNDQEHILKMFPSWYV\"]):\n",
    "            r_type = \"protein\"\n",
    "        elif \"T\" in residue:\n",
    "            r_type = \"DNA\"\n",
    "        else:\n",
    "            r_type = \"RNA\"\n",
    "    masses = residue_masses[r_type]\n",
    "    mass = 0.0\n",
    "    for codon in residue:\n",
    "        mass += masses[codon]\n",
    "    return(mass)\n",
    "'''\n",
    "def mass_func(residue, r_type):\n",
    "    masses = residue_masses[r_type]\n",
    "    mass = 0.0\n",
    "    for codon in residue:\n",
    "        mass += masses[codon]\n",
    "    return(mass)\n",
    "\n",
    "\n",
    "print()\n",
    "dna = 'AT'\n",
    "print(mass_func(dna, 'DNA') == 627.4)\n",
    "print(mass_func('ACGIQEKL', \"protein\"))\n",
    "print(mass_func('ACGCCGCAAUAG', \"RNA\"))\n",
    "print(mass_func('ATCGATCGATCAGGCCT', \"DNA\"))\n"
   ]
  },
  {
   "cell_type": "markdown",
   "id": "fd4d7c1f",
   "metadata": {},
   "source": [
    "### 3. Нуклеотидный состав\n",
    "\n",
    "Напишите функцию `nucleotide_frequency(sequences)`, которая принимает список ДНК-последовательностей и возвращает словарь с частотой появления каждого нуклеотида (A, T, C, G) в этих последовательностях.\n",
    "\n",
    "Пример:\n",
    "```\n",
    "sequences = [  \n",
    "    \"ATGCGATTC\",\n",
    "    \"GCTAGCTA\",\n",
    "    \"ATGCGC\"\n",
    "]\n",
    "\n",
    "freqs = nucleotide_frequency(sequences)\n",
    "print(freqs)\n",
    "# Ожидаемый результат: {'A': 5, 'T': 3, 'G': 5, 'C': 4}\n",
    "```"
   ]
  },
  {
   "cell_type": "code",
   "execution_count": 50,
   "id": "a578764a-1529-40a3-a914-2339b687c8ee",
   "metadata": {},
   "outputs": [
    {
     "name": "stdout",
     "output_type": "stream",
     "text": [
      "{'A': 5, 'T': 6, 'G': 6, 'C': 6}\n"
     ]
    }
   ],
   "source": [
    "def amino_percentage(sequence, residue):\n",
    "    sequence = sequence.lower()\n",
    "    residue = residue.lower()\n",
    "    percent = sequence.count(residue)/len(sequence)*100\n",
    "    return percent\n",
    "\n",
    "def nucleotide_frequency(sequences):\n",
    "    total = ''.join(sequences).lower()\n",
    "    freqs = {}\n",
    "    freqs['A'], freqs['T'], freqs['G'], freqs['C'] = [total.count(x) for x in 'atgc']\n",
    "    return freqs\n",
    "\n",
    "\n",
    "sequences = [  \n",
    "    \"ATGCGATTC\",\n",
    "    \"GCTAGCTA\",\n",
    "    \"ATGCGC\"\n",
    "]\n",
    "\n",
    "freqs = nucleotide_frequency(sequences)\n",
    "print(freqs)\n",
    "# Ожидаемый результат: {'A': 5, 'T': 3, 'G': 5, 'C': 4}\n",
    "    \n",
    "    "
   ]
  },
  {
   "cell_type": "markdown",
   "id": "11b21fd9",
   "metadata": {},
   "source": [
    "### 4. Профиль микробиома\n",
    "\n",
    "Создайте функцию `microbiome_profile(samples)`, которая принимает список названий микроорганизмов и возвращает словарь, где ключами являются названия микроорганизмов, а значениями — их общее количество (например, если название встречается несколько раз).\n",
    "Пример:\n",
    "\n",
    "```\n",
    "exp_data = [\n",
    "    \"Lactobacillus\",\n",
    "    \"Escherichia\",\n",
    "    \"Bifidobacterium\",\n",
    "    \"Lactobacillus\",\n",
    "    \"Escherichia\"\n",
    "]\n",
    "\n",
    "profile = microbiome_profile(exp_data)\n",
    "print(profile)\n",
    "# Ожидаемый результат: {'Lactobacillus': 2, 'Escherichia': 2, 'Bifidobacterium': 1}\n",
    "```"
   ]
  },
  {
   "cell_type": "code",
   "execution_count": 56,
   "id": "9288abf0-dba4-4581-ae39-edaadbcc7993",
   "metadata": {},
   "outputs": [
    {
     "name": "stdout",
     "output_type": "stream",
     "text": [
      "{'Lactobacillus': 2, 'Escherichia': 2, 'Bifidobacterium': 1}\n"
     ]
    }
   ],
   "source": [
    "def microbiome_profile(samples):\n",
    "    keys = set(samples)\n",
    "    biome_dict = {}\n",
    "    for name in samples:\n",
    "        counter = samples.count(name)\n",
    "        biome_dict.update({name: counter})\n",
    "    return biome_dict\n",
    "\n",
    "\n",
    "exp_data = [\n",
    "    \"Lactobacillus\",\n",
    "    \"Escherichia\",\n",
    "    \"Bifidobacterium\",\n",
    "    \"Lactobacillus\",\n",
    "    \"Escherichia\"\n",
    "]\n",
    "\n",
    "profile = microbiome_profile(exp_data)\n",
    "print(profile)\n",
    "# Ожидаемый результат: {'Lactobacillus': 2, 'Escherichia': 2, 'Bifidobacterium': 1}"
   ]
  },
  {
   "cell_type": "markdown",
   "id": "00cd7e32",
   "metadata": {},
   "source": [
    "### 5. Вместимость капилляров\n",
    "\n",
    "В исследовании капиллярной активности у растений были собраны данные о капиллярах (например, радиус и длина) и их вместимости. Нужно рассчитать вместимость каждого из капилляров и сохранить результаты в словаре.\n",
    "\n",
    "Напишите функцию `calculate_capacity(cylinders)`, которая принимает словарь, где ключи — это имена капилляров, а значения — кортежи (радиус, длина), и возвращает словарь, в котором для каждого капилляра записана рассчитанная вместимость (используйте формулу $V = \\pi r^2 h$.\n",
    "\n",
    "Пример:\n",
    "```\n",
    "cylinders_data = {\n",
    "    \"Capillary A\": (0.01, 0.5),\n",
    "    \"Capillary B\": (0.005, 0.3)\n",
    "}\n",
    "\n",
    "cylinders_volume = calculate_capacity(cylinders_data)\n",
    "print(cylinders_volume)\n",
    "\n",
    "# Ожидаемый результат: {'Capillary A': 0.00015707963267948946, 'Capillary B': 0.00023561944901923448}\n",
    "```"
   ]
  },
  {
   "cell_type": "code",
   "execution_count": 24,
   "id": "fea11114-0d1a-46bb-a469-14708e9e3b78",
   "metadata": {},
   "outputs": [],
   "source": [
    "from math import pi\n",
    "\n",
    "\n",
    "def calculate_capacity(cylinders):\n",
    "    answer = {}\n",
    "    for cylinder in list(cylinders.items()):\n",
    "        name, sizes = cylinder\n",
    "        r, h = sizes\n",
    "        volume = pi * h * r ** 2\n",
    "        answer[name] = volume\n",
    "    return answer\n"
   ]
  },
  {
   "cell_type": "code",
   "execution_count": 26,
   "id": "76a958f1-2039-43f2-a08b-aae9b7d463dd",
   "metadata": {},
   "outputs": [
    {
     "name": "stdout",
     "output_type": "stream",
     "text": [
      "{'Capillary A': 0.00015707963267948965, 'Capillary B': 2.356194490192345e-05}\n"
     ]
    }
   ],
   "source": [
    "cylinders_data = {\n",
    "    \"Capillary A\": (0.01, 0.5),\n",
    "    \"Capillary B\": (0.005, 0.3)\n",
    "}\n",
    "\n",
    "cylinders_volume = calculate_capacity(cylinders_data)\n",
    "print(cylinders_volume)\n"
   ]
  },
  {
   "cell_type": "markdown",
   "id": "5cc6791e",
   "metadata": {},
   "source": [
    "# Вопросы для самопроверки\n",
    "\n",
    "\n",
    "<details>\n",
    "<summary>Как создать объект типа кортеж (tuple)?</summary>\n",
    "\n",
    "    Внутри круглых скобок перечислить через запятую значения: tup = (1, \"a\", True)\n",
    "</details> \n",
    "\n",
    "<details>\n",
    "<summary>Кортеж является изменяемым или неизменяемым типом данных?</summary>\n",
    "\n",
    "    Неизменяемый\n",
    "</details>\n",
    "\n",
    "<details>\n",
    "<summary>Есть ли у кортежей метод .append()?</summary>\n",
    "\n",
    "    Может быть, но скорее всего нет, ведь кортежи – неизменяемый тип\n",
    "</details>\n",
    "\n",
    "<details>\n",
    "<summary>Что будет результатом выражения: tup[2]?</summary>\n",
    "\n",
    "    True. Потому что (1, \"a\", True)[2] -- True\n",
    "</details>\n",
    "\n",
    "<details>\n",
    "<summary>А что будет результатом выражения tup[0] = 10 ?</summary>\n",
    "\n",
    "    Ошибка! Нельзя менять значения элементов кортежа\n",
    "</details>\n",
    "\n",
    "<details>\n",
    "<summary>Попробуйте создать словарь из двух пар ключ-значение?</summary>\n",
    "\n",
    "    Например, my_dict = {1: \"a\", \"b\": 2}\n",
    "</details>\n",
    "\n",
    "<details>\n",
    "<summary>Можно ли сделать цикл for по словарю?</summary>\n",
    "\n",
    "    Да. В переменной цикла будут перебираться ключи словаря.\n",
    "</details>\n",
    "\n",
    "<details>\n",
    "<summary>Можно ли в словаре изменить значение под существующим ключом?</summary>\n",
    "\n",
    "    Да, просто обращаемся по ключу и присваиваем значение. my_dict[key] = new_value\n",
    "</details>\n",
    "\n",
    "<details>\n",
    "    \n",
    "<summary>Как сделать цикл только по значениям словаря?</summary>\n",
    "\n",
    "    for val in my_dict.values():\n",
    "</details>\n",
    "\n",
    "<details>\n",
    "<summary>Как получить список всех ключей словаря?</summary>\n",
    "    \n",
    "    keys = list(my_dict.keys())\n",
    "</details>"
   ]
  },
  {
   "cell_type": "code",
   "execution_count": null,
   "id": "b2a65423-0094-4f5b-b5bb-afb75df10a76",
   "metadata": {},
   "outputs": [],
   "source": []
  }
 ],
 "metadata": {
  "kernelspec": {
   "display_name": "Python 3 (ipykernel)",
   "language": "python",
   "name": "python3"
  },
  "language_info": {
   "codemirror_mode": {
    "name": "ipython",
    "version": 3
   },
   "file_extension": ".py",
   "mimetype": "text/x-python",
   "name": "python",
   "nbconvert_exporter": "python",
   "pygments_lexer": "ipython3",
   "version": "3.12.4"
  }
 },
 "nbformat": 4,
 "nbformat_minor": 5
}
