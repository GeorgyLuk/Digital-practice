{
 "cells": [
  {
   "cell_type": "markdown",
   "id": "789873b7",
   "metadata": {},
   "source": [
    "https://roadmap.sh/python\n",
    "\n",
    "https://ru.hexlet.io/courses/python-basics"
   ]
  },
  {
   "cell_type": "markdown",
   "id": "8175e4f0",
   "metadata": {},
   "source": [
    "Не особо системное\n",
    "\n",
    "По мелочи, то что можете встретить, чтобы знать, что это такое."
   ]
  },
  {
   "cell_type": "markdown",
   "id": "cde9a8fd",
   "metadata": {},
   "source": [
    "# Итераторы (iterators)"
   ]
  },
  {
   "cell_type": "markdown",
   "id": "02d42dbe",
   "metadata": {},
   "source": [
    "[english](https://realpython.com/python-iterators-iterables/)  \n",
    "[на русском](https://ru.hexlet.io/courses/python-lists/lessons/iterators/theory_unit)"
   ]
  },
  {
   "cell_type": "code",
   "execution_count": 2,
   "id": "d53370b0",
   "metadata": {},
   "outputs": [],
   "source": [
    "# useless iterator\n",
    "class SequenceIterator:\n",
    "    def __init__(self, sequence):\n",
    "        self._sequence = sequence\n",
    "        self._index = 0\n",
    "\n",
    "    def __iter__(self):\n",
    "        return self\n",
    "\n",
    "    def __next__(self):\n",
    "        if self._index < len(self._sequence):\n",
    "            item = self._sequence[self._index]\n",
    "            self._index += 2\n",
    "            return item\n",
    "        else:\n",
    "            raise StopIteration"
   ]
  },
  {
   "cell_type": "code",
   "execution_count": 18,
   "id": "addab39c",
   "metadata": {},
   "outputs": [],
   "source": [
    "seq_iter_from_list = SequenceIterator([1,3,4,5])\n",
    "seq_iter_from_tup = SequenceIterator((1,2,4,5))"
   ]
  },
  {
   "cell_type": "code",
   "execution_count": 6,
   "id": "d3c45186",
   "metadata": {},
   "outputs": [
    {
     "name": "stdout",
     "output_type": "stream",
     "text": [
      "1\n",
      "4\n"
     ]
    }
   ],
   "source": [
    "for item in seq_iter_from_list:\n",
    "    print(item)"
   ]
  },
  {
   "cell_type": "code",
   "execution_count": 8,
   "id": "eb4026dd",
   "metadata": {},
   "outputs": [],
   "source": [
    "a,b,c = SequenceIterator(\"aBcDe\")"
   ]
  },
  {
   "cell_type": "code",
   "execution_count": 10,
   "id": "ecde25f8",
   "metadata": {},
   "outputs": [
    {
     "name": "stdout",
     "output_type": "stream",
     "text": [
      "a c e\n"
     ]
    }
   ],
   "source": [
    "print(a,b,c)"
   ]
  },
  {
   "cell_type": "code",
   "execution_count": 12,
   "id": "b9f3c10d",
   "metadata": {},
   "outputs": [],
   "source": [
    "for i in seq_iter_from_list:\n",
    "    print(i)"
   ]
  },
  {
   "cell_type": "code",
   "execution_count": 20,
   "id": "362df46e",
   "metadata": {},
   "outputs": [
    {
     "name": "stdout",
     "output_type": "stream",
     "text": [
      "1\n",
      "4\n"
     ]
    }
   ],
   "source": [
    "a,b = seq_iter_from_tup\n",
    "print(a)\n",
    "print(b)"
   ]
  },
  {
   "cell_type": "code",
   "execution_count": null,
   "id": "43e359f8",
   "metadata": {},
   "outputs": [],
   "source": [
    "# funny iterator\n",
    "class SquareIterator:\n",
    "    def __init__(self, sequence):\n",
    "        self._sequence = sequence\n",
    "        self._index = 0\n",
    "\n",
    "    def __iter__(self):\n",
    "        return self\n",
    "\n",
    "    def __next__(self):\n",
    "        if self._index < len(self._sequence):\n",
    "            square = self._sequence[self._index] ** 2\n",
    "            self._index += 2\n",
    "            return square\n",
    "        else:\n",
    "            raise StopIteration"
   ]
  },
  {
   "cell_type": "code",
   "execution_count": null,
   "id": "3cafc9fc",
   "metadata": {},
   "outputs": [],
   "source": [
    "seq_iter_from_list = SquareIterator([1,3,4,5])\n",
    "seq_iter_from_tup = SquareIterator((1,2,4,5))"
   ]
  },
  {
   "cell_type": "code",
   "execution_count": null,
   "id": "3cd1be46",
   "metadata": {},
   "outputs": [],
   "source": [
    "for i_squared in seq_iter_from_list:\n",
    "    print(i_squared)"
   ]
  },
  {
   "cell_type": "code",
   "execution_count": null,
   "id": "f723f728",
   "metadata": {},
   "outputs": [],
   "source": [
    "#a,b,c,d = seq_iter_from_tup\n",
    "e,f,g = seq_iter_from_list\n",
    "print(a)\n",
    "print(b)"
   ]
  },
  {
   "cell_type": "markdown",
   "id": "6fc5dff1",
   "metadata": {},
   "source": [
    "## List comprehension (списковое включение)"
   ]
  },
  {
   "cell_type": "code",
   "execution_count": null,
   "id": "4f326c2c",
   "metadata": {},
   "outputs": [],
   "source": [
    "# типичный способ \"обработать\" список\n",
    "\n",
    "numbers = [1, 2, 3, 10, 20]\n",
    "\n",
    "numbers_cube = []\n",
    "for num in numbers:\n",
    "    numbers_cube.append(num**3)\n",
    "\n",
    "print(numbers_cube)"
   ]
  },
  {
   "cell_type": "code",
   "execution_count": null,
   "id": "f88094a8",
   "metadata": {},
   "outputs": [],
   "source": [
    "# способ \"сократить запись\", синтаксический сахар\n",
    "numbers = [1, 2, 3, 10, 20]\n",
    "\n",
    "numbers_cube = [num**3 for num in numbers]\n",
    "\n",
    "print(numbers_cube)"
   ]
  },
  {
   "cell_type": "code",
   "execution_count": null,
   "id": "09f438ef",
   "metadata": {},
   "outputs": [],
   "source": [
    "print(type(numbers_cube))"
   ]
  },
  {
   "cell_type": "code",
   "execution_count": null,
   "id": "bae27290",
   "metadata": {},
   "outputs": [],
   "source": [
    "tupel = (n - 2 for n in numbers)\n",
    "print(tupel)"
   ]
  },
  {
   "cell_type": "code",
   "execution_count": null,
   "id": "12e59ed2",
   "metadata": {},
   "outputs": [],
   "source": [
    "a = [1,2,3]\n",
    "\n",
    "b = a.__iter__()\n",
    "\n",
    "print(b.__next__())\n",
    "print(b.__next__())\n",
    "print(b.__next__())\n",
    "print(b.__next__())"
   ]
  },
  {
   "cell_type": "code",
   "execution_count": null,
   "id": "ee790eb7",
   "metadata": {},
   "outputs": [],
   "source": [
    "[1,2].__iter__().__next__()"
   ]
  },
  {
   "cell_type": "code",
   "execution_count": null,
   "id": "9d45a7c9",
   "metadata": {},
   "outputs": [],
   "source": [
    "dir(list)"
   ]
  },
  {
   "cell_type": "code",
   "execution_count": null,
   "id": "844c4f3c",
   "metadata": {},
   "outputs": [],
   "source": [
    "dir(tupel)"
   ]
  },
  {
   "cell_type": "code",
   "execution_count": null,
   "id": "200fea31",
   "metadata": {},
   "outputs": [],
   "source": [
    "dir([].__iter__())"
   ]
  },
  {
   "cell_type": "code",
   "execution_count": null,
   "id": "a89b5972",
   "metadata": {},
   "outputs": [],
   "source": [
    "dir(list)"
   ]
  },
  {
   "cell_type": "code",
   "execution_count": null,
   "id": "9b595b4f",
   "metadata": {},
   "outputs": [],
   "source": [
    "numbers"
   ]
  },
  {
   "cell_type": "code",
   "execution_count": null,
   "id": "5df1e409",
   "metadata": {},
   "outputs": [],
   "source": [
    "something = {6 for a in numbers}\n",
    "\n",
    "something"
   ]
  },
  {
   "cell_type": "code",
   "execution_count": null,
   "id": "d81a5519",
   "metadata": {},
   "outputs": [],
   "source": [
    "dicty = {a: a**2 for a in numbers}\n",
    "\n",
    "print(dicty)"
   ]
  },
  {
   "cell_type": "code",
   "execution_count": null,
   "id": "c1e19f97",
   "metadata": {},
   "outputs": [],
   "source": [
    "seqs = [\"AAACGT\", \"AAAC\",\n",
    "        \"AAACGTCACGTA\", \"AAACCCGGTGACA\",\n",
    "        \"AAAggcggCA\", \"aaaaaaaaaaa\"]\n",
    "\n",
    "short_seqs = [\n",
    "    \"5\" if len(a)<5 elif len(a) > 7 \"7\" else \"5-7\" for a in seqs\n",
    "]\n",
    "print(short_seqs)"
   ]
  },
  {
   "cell_type": "code",
   "execution_count": null,
   "id": "d2bf3e60",
   "metadata": {},
   "outputs": [],
   "source": [
    "long_seqs_wout_adapters = [seq[3:] for seq in seqs if len(seq) >= 8]\n",
    "print(long_seqs_wout_adapters)"
   ]
  },
  {
   "cell_type": "markdown",
   "id": "8178d1e5",
   "metadata": {},
   "source": [
    "## Enumerate"
   ]
  },
  {
   "cell_type": "code",
   "execution_count": null,
   "id": "6ebd30e0",
   "metadata": {},
   "outputs": [],
   "source": [
    "new_ls = [ls[i] for i in range(0, len(ls), 3)]\n",
    "new_ls"
   ]
  },
  {
   "cell_type": "code",
   "execution_count": null,
   "id": "aa809ed2",
   "metadata": {},
   "outputs": [],
   "source": [
    "for i, number in enumerate(ls):\n",
    "    if i%2 ==0 or i%3==0:\n",
    "        new_ls.append(number**2 / (i+1))"
   ]
  },
  {
   "cell_type": "code",
   "execution_count": null,
   "id": "bc319aa4",
   "metadata": {},
   "outputs": [],
   "source": [
    "new_ls = "
   ]
  },
  {
   "cell_type": "code",
   "execution_count": null,
   "id": "d9b89abd",
   "metadata": {},
   "outputs": [],
   "source": [
    "ls = list(range(0, 150, 5))\n",
    "new_ls = []\n",
    "\n",
    "for i in range(0, len(ls)):\n",
    "    if i%2 == 0 or i%3 == 0:\n",
    "        new_ls.append(ls[i]**2 / (i+1))\n",
    "\n",
    "new_ls"
   ]
  },
  {
   "cell_type": "code",
   "execution_count": null,
   "id": "1979fcdd",
   "metadata": {},
   "outputs": [],
   "source": [
    "ls = [1,2,3,\"a\"]\n",
    "\n",
    "for i in range(len(ls)):\n",
    "    print(i)"
   ]
  },
  {
   "cell_type": "code",
   "execution_count": null,
   "id": "f7834dab",
   "metadata": {},
   "outputs": [],
   "source": [
    "nums = [\"uno\", \"dos\", \"tres\", \"uno\", \"cuatro\", \"cinco\"]\n",
    "\n",
    "for i in range(len(nums)-1):\n",
    "    print(nums[i])\n",
    "    print(i)\n",
    "    "
   ]
  },
  {
   "cell_type": "code",
   "execution_count": null,
   "id": "22fa60aa",
   "metadata": {},
   "outputs": [],
   "source": [
    "nums = [\"uno\", \"dos\", \"tres\", \"cuatro\", \"cinco\"]\n",
    "\n",
    "for i in range(len(nums)):\n",
    "    print(i+1)\n",
    "    print(nums[i])"
   ]
  },
  {
   "cell_type": "code",
   "execution_count": null,
   "id": "f127c2b4",
   "metadata": {},
   "outputs": [],
   "source": [
    "nums = [\"uno\", \"dos\", \"tres\", \"cuatro\", \"cinco\"]\n",
    "\n",
    "for idx, word in enumerate(nums):\n",
    "    print(idx)\n",
    "    print(word.upper())"
   ]
  },
  {
   "cell_type": "code",
   "execution_count": null,
   "id": "c5ee8836",
   "metadata": {},
   "outputs": [],
   "source": [
    "# если нужно итерировать значения и порядковый номер\n",
    "prot = \"MALWMRLLPLLALLAL\"\n",
    "for i, aa in enumerate(prot, start=1):\n",
    "    print(\"Аминокислотный остаток: \", aa)\n",
    "    print(\"Его порядковый номер: \", i)"
   ]
  },
  {
   "cell_type": "code",
   "execution_count": null,
   "id": "9699ea97",
   "metadata": {},
   "outputs": [],
   "source": [
    "list(enumerate(prot))"
   ]
  },
  {
   "cell_type": "markdown",
   "id": "a750406a",
   "metadata": {},
   "source": [
    "## Zip"
   ]
  },
  {
   "cell_type": "code",
   "execution_count": 2,
   "id": "e64fa1be",
   "metadata": {},
   "outputs": [
    {
     "data": {
      "text/plain": [
       "<zip at 0x21c8a137240>"
      ]
     },
     "execution_count": 2,
     "metadata": {},
     "output_type": "execute_result"
    }
   ],
   "source": [
    "a = [10, 20, 4]\n",
    "b = [2, 3, 10]\n",
    "\n",
    "zip(a,b)"
   ]
  },
  {
   "cell_type": "code",
   "execution_count": 4,
   "id": "6b4600c9",
   "metadata": {},
   "outputs": [
    {
     "data": {
      "text/plain": [
       "[(10, 2), (20, 3), (4, 10)]"
      ]
     },
     "execution_count": 4,
     "metadata": {},
     "output_type": "execute_result"
    }
   ],
   "source": [
    "list(zip(a,b))"
   ]
  },
  {
   "cell_type": "code",
   "execution_count": 8,
   "id": "2d3341e9",
   "metadata": {},
   "outputs": [],
   "source": [
    "for aa, bb, cc in a, b:\n",
    "    b\n",
    "    (aa, bb)"
   ]
  },
  {
   "cell_type": "code",
   "execution_count": 10,
   "id": "9da26170",
   "metadata": {},
   "outputs": [
    {
     "name": "stdout",
     "output_type": "stream",
     "text": [
      "100\n",
      "8000\n",
      "1048576\n"
     ]
    }
   ],
   "source": [
    "for aa, bb in zip(a,b):\n",
    "    print(aa**bb)"
   ]
  },
  {
   "cell_type": "code",
   "execution_count": 12,
   "id": "41d16f6b",
   "metadata": {},
   "outputs": [
    {
     "name": "stdout",
     "output_type": "stream",
     "text": [
      "1 A 2\n",
      "2 A 3\n"
     ]
    }
   ],
   "source": [
    "for i,j,k in zip([1,2,3], \"AAASDEFASDF\", (2,3)):\n",
    "    print(i, j, k)"
   ]
  },
  {
   "cell_type": "code",
   "execution_count": 14,
   "id": "3107789f",
   "metadata": {},
   "outputs": [
    {
     "name": "stdout",
     "output_type": "stream",
     "text": [
      "16\n",
      "31\n",
      "106\n"
     ]
    }
   ],
   "source": [
    "a = [10, 20, 4]\n",
    "b = [2, 3, 10]\n",
    "\n",
    "for i, j in zip(a,b):\n",
    "    print((i+2)+j**2)"
   ]
  },
  {
   "cell_type": "code",
   "execution_count": 16,
   "id": "8999672b",
   "metadata": {},
   "outputs": [
    {
     "name": "stdout",
     "output_type": "stream",
     "text": [
      "[(10, 2), (20, 3), (4, 10)]\n"
     ]
    }
   ],
   "source": [
    "print(list(zip(a,b)))"
   ]
  },
  {
   "cell_type": "code",
   "execution_count": 18,
   "id": "5dd5cd28",
   "metadata": {},
   "outputs": [
    {
     "name": "stdout",
     "output_type": "stream",
     "text": [
      "[(10, 2, 1), (20, 3, 0), (4, 10, 1)]\n"
     ]
    }
   ],
   "source": [
    "print(list(zip(a,b,[1,0,1])))"
   ]
  },
  {
   "cell_type": "code",
   "execution_count": 20,
   "id": "15f22927",
   "metadata": {},
   "outputs": [
    {
     "data": {
      "text/plain": [
       "[(10, 12), (11, 13), (12, 14), (13, 15)]"
      ]
     },
     "execution_count": 20,
     "metadata": {},
     "output_type": "execute_result"
    }
   ],
   "source": [
    "list(zip(range(10,14), range(12,16)))"
   ]
  },
  {
   "cell_type": "code",
   "execution_count": 22,
   "id": "5d9ded9e",
   "metadata": {},
   "outputs": [
    {
     "name": "stdout",
     "output_type": "stream",
     "text": [
      "Help on class zip in module builtins:\n",
      "\n",
      "class zip(object)\n",
      " |  zip(*iterables, strict=False) --> Yield tuples until an input is exhausted.\n",
      " |\n",
      " |     >>> list(zip('abcdefg', range(3), range(4)))\n",
      " |     [('a', 0, 0), ('b', 1, 1), ('c', 2, 2)]\n",
      " |\n",
      " |  The zip object yields n-length tuples, where n is the number of iterables\n",
      " |  passed as positional arguments to zip().  The i-th element in every tuple\n",
      " |  comes from the i-th iterable argument to zip().  This continues until the\n",
      " |  shortest argument is exhausted.\n",
      " |\n",
      " |  If strict is true and one of the arguments is exhausted before the others,\n",
      " |  raise a ValueError.\n",
      " |\n",
      " |  Methods defined here:\n",
      " |\n",
      " |  __getattribute__(self, name, /)\n",
      " |      Return getattr(self, name).\n",
      " |\n",
      " |  __iter__(self, /)\n",
      " |      Implement iter(self).\n",
      " |\n",
      " |  __next__(self, /)\n",
      " |      Implement next(self).\n",
      " |\n",
      " |  __reduce__(...)\n",
      " |      Return state information for pickling.\n",
      " |\n",
      " |  __setstate__(...)\n",
      " |      Set state information for unpickling.\n",
      " |\n",
      " |  ----------------------------------------------------------------------\n",
      " |  Static methods defined here:\n",
      " |\n",
      " |  __new__(*args, **kwargs)\n",
      " |      Create and return a new object.  See help(type) for accurate signature.\n",
      "\n"
     ]
    }
   ],
   "source": [
    "help(zip)"
   ]
  },
  {
   "cell_type": "code",
   "execution_count": null,
   "id": "e81d9b74",
   "metadata": {},
   "outputs": [],
   "source": [
    "headers = [\">NP_001191615.1 insulin precursor [Aplysia californica]\",\n",
    "           \">AAA40590.1 insulin [Octodon degus]\",\n",
    "           \">KAB1251309.1 Insulin [Camelus dromedarius]\",\n",
    "           \">NP_001035835.1 insulin, isoform 2 precursor [Homo sapiens]\"]\n",
    "sequences = [\"MSKFLLQSHSANACLLTLLLTLASNLDISLANFEHSCNGYMRPHPRGLCGEDLHVIISNLCSSLGGNRRF\",\n",
    "             \"MAPWMHLLTVLALLALWGPNSVQAYSSQHLCGSNLVEALYMTCGRSGFYRPHDRRELEDLQVEQAELGLE\",\n",
    "             \"MALWTRLLALLALLALGAPTPARAFANQHLCGSHLVEALYLVCGERGFFYTPKARREVEDTQVGGVELGG\",\n",
    "             \"MALWMRLLPLLALLALWGPDPAAAFVNQHLCGSHLVEALYLVCGERGFFYTPKTRREAEDLQASALSLSS\"]\n",
    "\n",
    "for header, sequence in zip(headers, sequences):\n",
    "    print(header)\n",
    "    print(sequence)\n",
    "    print(\"-*\"*10)\n"
   ]
  },
  {
   "cell_type": "code",
   "execution_count": null,
   "id": "f211ab41",
   "metadata": {},
   "outputs": [],
   "source": [
    "for var in zip(headers, sequences):\n",
    "    print(var)"
   ]
  },
  {
   "cell_type": "code",
   "execution_count": null,
   "id": "b116bbb8",
   "metadata": {},
   "outputs": [],
   "source": [
    "a = [1,2,3]\n",
    "b = \"ABC\"\n",
    "c = (True, False)\n",
    "\n",
    "for i, j, k in zip(a,b,c):  # сколько раз выполнится цикл?\n",
    "    print(\"Номер: \", i, \"Буква: \", j, \"Логика: \", k)"
   ]
  },
  {
   "cell_type": "markdown",
   "id": "5977bf0f",
   "metadata": {},
   "source": [
    "### Unzip"
   ]
  },
  {
   "cell_type": "code",
   "execution_count": null,
   "id": "9226957a",
   "metadata": {},
   "outputs": [],
   "source": [
    "a = [1,23,4,5,6]\n",
    "b = 'ABCDEFGH'\n",
    "\n",
    "zipped = zip(a,b)\n",
    "unzip1, unzip2 = zip(*zipped)\n",
    "\n",
    "print(unzip1, unzip2)"
   ]
  },
  {
   "cell_type": "code",
   "execution_count": null,
   "id": "ed265c27",
   "metadata": {},
   "outputs": [],
   "source": [
    "dicty = {\"a\": 1, \"b\":2, \"c\":3}\n",
    "dicty.items()"
   ]
  },
  {
   "cell_type": "code",
   "execution_count": null,
   "id": "baa77444",
   "metadata": {},
   "outputs": [],
   "source": [
    "keys, items = zip(*dicty.items())"
   ]
  },
  {
   "cell_type": "code",
   "execution_count": null,
   "id": "80f3e697",
   "metadata": {},
   "outputs": [],
   "source": [
    "keys "
   ]
  },
  {
   "cell_type": "code",
   "execution_count": null,
   "id": "91185e7c",
   "metadata": {},
   "outputs": [],
   "source": [
    "items"
   ]
  },
  {
   "cell_type": "code",
   "execution_count": 24,
   "id": "a42625ff",
   "metadata": {},
   "outputs": [
    {
     "name": "stdout",
     "output_type": "stream",
     "text": [
      "(1, 2, 3, 4)\n",
      "('a', 'b', 'c', 'd')\n"
     ]
    }
   ],
   "source": [
    "pairs = [(1, 'a'), (2, 'b'), (3, 'c'), (4, 'd')]\n",
    "\n",
    "numbers, letters = zip(*pairs)  # это что такое?\n",
    "\n",
    "print(numbers)\n",
    "print(letters)"
   ]
  },
  {
   "cell_type": "code",
   "execution_count": null,
   "id": "8baf9242",
   "metadata": {},
   "outputs": [],
   "source": [
    "def some_func1(a, b, c):\n",
    "    return a - c + b"
   ]
  },
  {
   "cell_type": "code",
   "execution_count": null,
   "id": "5bd79011",
   "metadata": {},
   "outputs": [],
   "source": [
    "some_func1(1,2,3)"
   ]
  },
  {
   "cell_type": "code",
   "execution_count": null,
   "id": "ff0e15ff",
   "metadata": {},
   "outputs": [],
   "source": [
    "def some_func(*args):\n",
    "    print(args)"
   ]
  },
  {
   "cell_type": "code",
   "execution_count": null,
   "id": "dda12c37",
   "metadata": {},
   "outputs": [],
   "source": [
    "some_func(1, 3, 4, 5)"
   ]
  },
  {
   "cell_type": "code",
   "execution_count": null,
   "id": "7aaf5fe2",
   "metadata": {},
   "outputs": [],
   "source": [
    "def my_sum(a, b):\n",
    "    return a + b\n",
    "\n",
    "c,d = 4,5\n",
    "result = my_sum(c, d)\n",
    "result2 = my_sum(b=c, a=d)\n",
    "print(result)\n",
    "print(my_sum(30,40))"
   ]
  },
  {
   "cell_type": "code",
   "execution_count": null,
   "id": "36842b1c",
   "metadata": {},
   "outputs": [],
   "source": [
    "my_sum(*(30,40))"
   ]
  },
  {
   "cell_type": "code",
   "execution_count": null,
   "id": "e2460faf",
   "metadata": {},
   "outputs": [],
   "source": []
  },
  {
   "cell_type": "code",
   "execution_count": null,
   "id": "2881a12e",
   "metadata": {},
   "outputs": [],
   "source": [
    "my_sum(*ls)"
   ]
  },
  {
   "cell_type": "code",
   "execution_count": null,
   "id": "d8a2520e",
   "metadata": {},
   "outputs": [],
   "source": [
    "ls = [1,2]\n",
    "\n",
    "my_sum(ls[0], ls[1])"
   ]
  },
  {
   "cell_type": "code",
   "execution_count": null,
   "id": "8a15f9d7",
   "metadata": {},
   "outputs": [],
   "source": [
    "a,b = ls\n",
    "my_sum(a,b)"
   ]
  },
  {
   "cell_type": "code",
   "execution_count": null,
   "id": "a4c7b56a",
   "metadata": {},
   "outputs": [],
   "source": [
    "my_sum(*ls)"
   ]
  },
  {
   "cell_type": "code",
   "execution_count": null,
   "id": "916e8213",
   "metadata": {},
   "outputs": [],
   "source": [
    "def mega_sum(a,b,c,d):\n",
    "    return sum([a,b,c,d])"
   ]
  },
  {
   "cell_type": "code",
   "execution_count": null,
   "id": "27c942bd",
   "metadata": {},
   "outputs": [],
   "source": [
    "mega_sum(10, 20, *[1,2])"
   ]
  },
  {
   "cell_type": "code",
   "execution_count": null,
   "id": "deb0aae7",
   "metadata": {},
   "outputs": [],
   "source": [
    "def expo(a, *x):\n",
    "    return [xx**a for xx in x]"
   ]
  },
  {
   "cell_type": "code",
   "execution_count": null,
   "id": "ae6258a7",
   "metadata": {},
   "outputs": [],
   "source": [
    "expo(1, 3,a=10, 2, 5)"
   ]
  },
  {
   "cell_type": "code",
   "execution_count": null,
   "id": "ad129f96",
   "metadata": {},
   "outputs": [],
   "source": [
    "def my_sum(*a):\n",
    "    count = 0\n",
    "    print(type(a))\n",
    "    for number in a:\n",
    "        count += number\n",
    "    \n",
    "    return count\n",
    "\n",
    "print(my_sum(10,10,20))\n",
    "print(my_sum(10))\n",
    "print(my_sum(*[1,2,3,4])) == my_sum(1,2,3,4)\n",
    "print(my_sum([1,2,3,4]))  # wrong!\n",
    "print(my_sum(1, 2, 3, 4))"
   ]
  },
  {
   "cell_type": "code",
   "execution_count": null,
   "id": "cebf2cf2",
   "metadata": {},
   "outputs": [],
   "source": [
    "def some_kwargs_func(*args, **kwargs):\n",
    "    print(kwargs)"
   ]
  },
  {
   "cell_type": "code",
   "execution_count": null,
   "id": "92e72bad",
   "metadata": {},
   "outputs": [],
   "source": [
    "some_kwargs_func(a=1, b=\"b\", c=True)"
   ]
  },
  {
   "cell_type": "code",
   "execution_count": null,
   "id": "05beab00",
   "metadata": {},
   "outputs": [],
   "source": [
    "def kwargs_as_args(a,b,c,d):\n",
    "    return (a,b,c,d)\n",
    "\n",
    "\n",
    "kwargs_as_args(1, 2, **{\"d\": 10, \"c\":30})"
   ]
  },
  {
   "cell_type": "code",
   "execution_count": null,
   "id": "fa218eb9",
   "metadata": {},
   "outputs": [],
   "source": [
    "def sick_of_examples(q,w,e,r,t,y):\n",
    "    return q-e+w"
   ]
  },
  {
   "cell_type": "code",
   "execution_count": null,
   "id": "76b3d9d3",
   "metadata": {},
   "outputs": [],
   "source": [
    "sick_of_examples(1,2,3,r=10,y=23,t=2)"
   ]
  },
  {
   "cell_type": "code",
   "execution_count": null,
   "id": "c3a719b2",
   "metadata": {},
   "outputs": [],
   "source": [
    "def read_authors(*names, **authors):\n",
    "    print(\"list of names wihtout books\")\n",
    "    for name in names:\n",
    "        print(\"Name: \", name)\n",
    "    for name, book in authors.items():\n",
    "        print(\"Name: \", name)\n",
    "        print(\"Book: \", book)"
   ]
  },
  {
   "cell_type": "code",
   "execution_count": null,
   "id": "f8d30e48",
   "metadata": {},
   "outputs": [],
   "source": [
    "read_authors(Dostoevski=\"Besi\", Gogol=\"Revizor\")"
   ]
  },
  {
   "cell_type": "code",
   "execution_count": null,
   "id": "991e55ea",
   "metadata": {},
   "outputs": [],
   "source": [
    "read_authors(\"besi\", King=\"Kristhina\")"
   ]
  },
  {
   "cell_type": "markdown",
   "id": "65a1842e",
   "metadata": {},
   "source": [
    "# Функциональное программирование в python\n",
    "\n",
    "Официальная документация: https://docs.python.org/3/howto/functional.html\n",
    "\n",
    "Подробно и по шагам (англ.): https://realpython.com/python-functional-programming/\n",
    "\n",
    "Основый на русском языке: https://habr.com/ru/articles/555378/ , https://habr.com/ru/companies/kaspersky/articles/762788/"
   ]
  },
  {
   "cell_type": "markdown",
   "id": "838e1acc",
   "metadata": {},
   "source": [
    "## Генераторы"
   ]
  },
  {
   "cell_type": "code",
   "execution_count": null,
   "id": "407f865d",
   "metadata": {},
   "outputs": [],
   "source": [
    "a = range(10)\n",
    "b = iter(a)  # создаём итератор вручную\n",
    "\n",
    "print(next(b))\n",
    "print(next(b))"
   ]
  },
  {
   "cell_type": "code",
   "execution_count": null,
   "id": "58d8e422",
   "metadata": {},
   "outputs": [],
   "source": [
    "for i in b:\n",
    "    print(i)"
   ]
  },
  {
   "cell_type": "code",
   "execution_count": null,
   "id": "ab920900",
   "metadata": {},
   "outputs": [],
   "source": [
    "for i in a:  # iter автоматически вызывается, чтобы итератор использовать в цикле\n",
    "    print(i)  # автоматически вызывается next()"
   ]
  },
  {
   "cell_type": "code",
   "execution_count": null,
   "id": "f1d076d1",
   "metadata": {},
   "outputs": [],
   "source": [
    "def generate_ints(N):  # генераторы – специальные функции\n",
    "    for i in range(N):\n",
    "        yield i**2  # ключевое слово, вместо return"
   ]
  },
  {
   "cell_type": "code",
   "execution_count": null,
   "id": "a8f5ea22",
   "metadata": {},
   "outputs": [],
   "source": [
    "for num in generate_ints(10):\n",
    "    print(num)"
   ]
  },
  {
   "cell_type": "code",
   "execution_count": null,
   "id": "050d7a0f",
   "metadata": {},
   "outputs": [],
   "source": [
    "import sys\n",
    "\n",
    "\n",
    "long_list = [i**2 for i in range(1000)]  # хранит все значения\n",
    "long_iter = generate_ints(1000)  # ждёт, когда попросят вычислить\n",
    "\n",
    "print(sys.getsizeof(long_list))\n",
    "print(sys.getsizeof(long_iter))"
   ]
  },
  {
   "cell_type": "code",
   "execution_count": null,
   "id": "efaebe9a",
   "metadata": {},
   "outputs": [],
   "source": [
    "very_long_list = [i**2 for i in range(100_000)]\n",
    "very_long_iter = generate_ints(100_000)\n",
    "\n",
    "print(sys.getsizeof(very_long_list))\n",
    "print(sys.getsizeof(very_long_iter))"
   ]
  },
  {
   "cell_type": "code",
   "execution_count": null,
   "id": "f08040e3",
   "metadata": {},
   "outputs": [],
   "source": [
    "def fibonacci(n):\n",
    "    a, b = 0, 1\n",
    "    for _ in range(n):\n",
    "        yield a\n",
    "        a, b = b, a + b\n",
    "        "
   ]
  },
  {
   "cell_type": "code",
   "execution_count": null,
   "id": "4e065ece",
   "metadata": {},
   "outputs": [],
   "source": [
    "print(fibonacci(10))\n",
    "print(fibonacci(100))"
   ]
  },
  {
   "cell_type": "code",
   "execution_count": null,
   "id": "eeaf5313",
   "metadata": {},
   "outputs": [],
   "source": [
    "for fib_num in fibonacci(10):\n",
    "    print(fib_num)"
   ]
  },
  {
   "cell_type": "code",
   "execution_count": null,
   "id": "c2ea8420",
   "metadata": {},
   "outputs": [],
   "source": [
    "# берём только последний элемент:\n",
    "*_, last = fibonacci(100)\n",
    "\n",
    "\n",
    "print(last)"
   ]
  },
  {
   "cell_type": "code",
   "execution_count": null,
   "id": "535c49d2",
   "metadata": {},
   "outputs": [],
   "source": [
    "print(_)"
   ]
  },
  {
   "cell_type": "code",
   "execution_count": null,
   "id": "1543db0b",
   "metadata": {},
   "outputs": [],
   "source": [
    "# для больших данных (не хотим забивать память промежуточными значениями)"
   ]
  },
  {
   "cell_type": "code",
   "execution_count": null,
   "id": "ced0bf4b",
   "metadata": {},
   "outputs": [],
   "source": [
    "from collections import deque\n",
    "\n",
    "fib_iter = iter(fibonacci(1000))\n",
    "\n",
    "fib_deque = deque(fib_iter, maxlen=1)\n",
    "last_element = fib_deque.pop()\n",
    "\n",
    "print(last_element)"
   ]
  },
  {
   "cell_type": "markdown",
   "id": "2403d0a4",
   "metadata": {},
   "source": [
    "## Функция map()"
   ]
  },
  {
   "cell_type": "markdown",
   "id": "c24497ba",
   "metadata": {},
   "source": [
    "Функция `map()` позволяет применять функцию ко всем элементам итератора. Возвращает итератор."
   ]
  },
  {
   "cell_type": "code",
   "execution_count": null,
   "id": "fe69b605",
   "metadata": {},
   "outputs": [],
   "source": [
    "def square(x):\n",
    "    return x**2\n",
    "\n",
    "nums = [1,2,10, 52]\n",
    "\n",
    "squares_from_nums = list(map(square, nums))  # map() – возвращает итератор\n",
    "\n",
    "print(squares_from_nums)"
   ]
  },
  {
   "cell_type": "code",
   "execution_count": null,
   "id": "f707157d",
   "metadata": {},
   "outputs": [],
   "source": [
    "def power(x, a):\n",
    "    return x**a\n",
    "\n",
    "nums = [1,2,10, 52]\n",
    "powers = [1, 2, 4, 0]\n",
    "\n",
    "print(list(map(power, nums, powers)))"
   ]
  },
  {
   "cell_type": "code",
   "execution_count": null,
   "id": "fa19efe9",
   "metadata": {},
   "outputs": [],
   "source": [
    "# тот же самый результат, но не в функциональном стиле:\n",
    "\n",
    "exps = []\n",
    "for num, power in zip(nums, powers):\n",
    "    exps.append(num**power)\n",
    "\n",
    "print(exps)"
   ]
  },
  {
   "cell_type": "code",
   "execution_count": null,
   "id": "ee6e8761",
   "metadata": {},
   "outputs": [],
   "source": [
    "exps = [num**power for num, power in zip(nums, powers)]\n",
    "\n",
    "print(exps)"
   ]
  },
  {
   "cell_type": "markdown",
   "id": "2e4e69b8",
   "metadata": {},
   "source": [
    "## функция filter()\n",
    "\n",
    "Функция `filter()` \"применяет\" фильтр к итератору. В качестве фильтра используется функция, которая возвращает логическое значение. Сохраняются только те значения итератора, для которых получено `True`. Возвращает итератор (с отфильтрованными значениями)."
   ]
  },
  {
   "cell_type": "code",
   "execution_count": null,
   "id": "26cc652c",
   "metadata": {},
   "outputs": [],
   "source": [
    "def filter_numbers(word):\n",
    "    return word.isalpha()\n",
    "\n",
    "\n",
    "words = [\"adfasf\", \"1::adf\", \"1234\", \"....::::$#!@\", \"....\"]\n",
    "filtered = list(filter(filter_numbers, words))\n",
    "\n",
    "print(filtered)"
   ]
  },
  {
   "cell_type": "code",
   "execution_count": null,
   "id": "11839bdb",
   "metadata": {},
   "outputs": [],
   "source": [
    "filtered = [word.isalpha() for word in words]\n",
    "\n",
    "print(filtered)"
   ]
  },
  {
   "cell_type": "code",
   "execution_count": null,
   "id": "a7a88005",
   "metadata": {},
   "outputs": [],
   "source": [
    "filtered = [word for word in words if word.isalpha()]\n",
    "\n",
    "print(filtered)"
   ]
  },
  {
   "cell_type": "markdown",
   "id": "43fd05e0",
   "metadata": {},
   "source": [
    "## any(), all()"
   ]
  },
  {
   "cell_type": "code",
   "execution_count": null,
   "id": "65047755",
   "metadata": {},
   "outputs": [],
   "source": [
    "print(any([True, False, False, True]))\n",
    "\n",
    "print(any([False, False, False]))\n",
    "\n",
    "print(all([True, False, False, True]))\n",
    "\n",
    "print(all([True]*10))"
   ]
  },
  {
   "cell_type": "code",
   "execution_count": null,
   "id": "278a5181",
   "metadata": {},
   "outputs": [],
   "source": [
    "print(any([1, False, False, 0, None]))\n",
    "\n",
    "print(any([\"\", False, \"False\", 0, None]))"
   ]
  },
  {
   "cell_type": "markdown",
   "id": "938f6bdd",
   "metadata": {},
   "source": [
    "## lambda\n",
    "\n",
    "Функции без имени. Очень удобно использовать с `map()`, `filter()` и другими функциями, которые принимают функции в качестве аргумента."
   ]
  },
  {
   "cell_type": "code",
   "execution_count": null,
   "id": "8a5588c3",
   "metadata": {},
   "outputs": [],
   "source": [
    "lambda x: x**3"
   ]
  },
  {
   "cell_type": "code",
   "execution_count": null,
   "id": "8a82b1a1",
   "metadata": {},
   "outputs": [],
   "source": [
    "my_lambda = lambda x: x**3 * 1_000_000\n",
    "\n",
    "my_lambda(10)"
   ]
  },
  {
   "cell_type": "code",
   "execution_count": null,
   "id": "223b6bb5",
   "metadata": {},
   "outputs": [],
   "source": [
    "num_list = [1e-3, 1e-2, 1e-1]\n",
    "\n",
    "print(list(map(my_lambda, num_list)))"
   ]
  },
  {
   "cell_type": "code",
   "execution_count": null,
   "id": "805a9a92",
   "metadata": {},
   "outputs": [],
   "source": [
    "list(map(lambda x: x * 1000, num_list))"
   ]
  },
  {
   "cell_type": "code",
   "execution_count": null,
   "id": "55ab0e05",
   "metadata": {},
   "outputs": [],
   "source": [
    "ad_seqs = [\"TATAACGT\",\n",
    "           \"TATAGCGTGG\",\n",
    "           \"TATAAAA\"\n",
    "           \"TATAGGGGGG\"]\n",
    "\n",
    "seqs_wout_ad = map(lambda seq: seq[4:], ad_seqs)"
   ]
  },
  {
   "cell_type": "code",
   "execution_count": null,
   "id": "ec46d607",
   "metadata": {},
   "outputs": [],
   "source": [
    "for seq in seqs_wout_ad:\n",
    "    print(seq)"
   ]
  },
  {
   "cell_type": "markdown",
   "id": "f801d58c",
   "metadata": {},
   "source": [
    "# Форматирование"
   ]
  },
  {
   "cell_type": "code",
   "execution_count": null,
   "id": "cdb0dd64",
   "metadata": {},
   "outputs": [],
   "source": [
    "# %%%, format, f'strings"
   ]
  },
  {
   "cell_type": "markdown",
   "id": "05cc0613",
   "metadata": {},
   "source": [
    "# Декораторы"
   ]
  },
  {
   "cell_type": "code",
   "execution_count": null,
   "id": "70ac316a",
   "metadata": {},
   "outputs": [],
   "source": [
    "# decorators???"
   ]
  },
  {
   "cell_type": "markdown",
   "id": "0b13a6a5",
   "metadata": {},
   "source": [
    "# Обработка исключений"
   ]
  },
  {
   "cell_type": "code",
   "execution_count": null,
   "id": "386734d3",
   "metadata": {},
   "outputs": [],
   "source": [
    "# exceptions"
   ]
  },
  {
   "cell_type": "code",
   "execution_count": null,
   "id": "cae995f8",
   "metadata": {},
   "outputs": [],
   "source": [
    "# sets\n",
    "# decimals?\n",
    "# complex\n",
    "# bytes?\n",
    "# range"
   ]
  }
 ],
 "metadata": {
  "kernelspec": {
   "display_name": "Python 3 (ipykernel)",
   "language": "python",
   "name": "python3"
  },
  "language_info": {
   "codemirror_mode": {
    "name": "ipython",
    "version": 3
   },
   "file_extension": ".py",
   "mimetype": "text/x-python",
   "name": "python",
   "nbconvert_exporter": "python",
   "pygments_lexer": "ipython3",
   "version": "3.12.4"
  }
 },
 "nbformat": 4,
 "nbformat_minor": 5
}
