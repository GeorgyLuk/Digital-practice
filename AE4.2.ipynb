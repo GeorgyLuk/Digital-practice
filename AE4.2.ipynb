{
 "cells": [
  {
   "cell_type": "markdown",
   "id": "671eaba9",
   "metadata": {},
   "source": [
    "# продолжение списков\n",
    "(перенести в ae4.2)"
   ]
  },
  {
   "cell_type": "markdown",
   "id": "53979829",
   "metadata": {},
   "source": [
    "## Изменение списков"
   ]
  },
  {
   "cell_type": "markdown",
   "id": "a3a410b8",
   "metadata": {},
   "source": [
    "И конечно же, когда мы говорим о новом типе данных, нужно знать не только, какие могут быть значения, но и как можно эти значения изменять."
   ]
  },
  {
   "cell_type": "markdown",
   "id": "826683e6",
   "metadata": {},
   "source": [
    "### Конкатенация (сложение) списков"
   ]
  },
  {
   "cell_type": "markdown",
   "id": "247132b4",
   "metadata": {},
   "source": [
    "С точки зрения действия оператора `+` списки очень похожи на строки. Результатом сложения двух списков будет список, элементы которого это элементы первого списка после которых следуют элементы второго списка."
   ]
  },
  {
   "cell_type": "code",
   "execution_count": null,
   "id": "1fb7792f",
   "metadata": {},
   "outputs": [],
   "source": [
    "list1 = [1, 2, 3]\n",
    "list2 = [\"a\", \"b\", \"c\", \"d\"]\n",
    "\n",
    "list_sum = list1 + list2\n",
    "print(list_sum)"
   ]
  },
  {
   "cell_type": "markdown",
   "id": "277b859e",
   "metadata": {},
   "source": [
    "#### Упражнение\n",
    "Измените код так, чтобы в результате получить список: `[2, 3, \"a\", \"b\"]`\n",
    "\n",
    "*здесь используются переменные `list1` и `list2`, созданные в предыдущей ячейке. В упражнении нужно что-то написать вместо `...` таким образом, чтобы в результате получить нужный список.*"
   ]
  },
  {
   "cell_type": "code",
   "execution_count": null,
   "id": "a48e8cc8",
   "metadata": {},
   "outputs": [],
   "source": [
    "result_list = list1[...] + list2[...]\n",
    "\n",
    "# проверка, не менять\n",
    "print(\"result_list: \", result_list)\n",
    "print(\"Верно\" if result_list == [2, 3, \"a\", \"b\"] else \"Не верно\")"
   ]
  },
  {
   "cell_type": "markdown",
   "id": "7f2f0758",
   "metadata": {},
   "source": [
    "### Метод .append()"
   ]
  },
  {
   "cell_type": "markdown",
   "id": "cb08f0bf",
   "metadata": {},
   "source": [
    "Метод `.append()` изменяет список. А именно этот метод позволяет добавить новый элемент в конец списка.\n",
    "\n",
    "Элемент, который мы хотим добавить в список нужно передать в метод `.append()` качестве аргумента."
   ]
  },
  {
   "cell_type": "code",
   "execution_count": null,
   "id": "a139fe0a",
   "metadata": {},
   "outputs": [],
   "source": [
    "numbers = [1,2,3,100,50.5]\n",
    "new_number = 1.55e-2\n",
    "\n",
    "numbers.append(new_number)\n",
    "\n",
    "print(numbers)"
   ]
  },
  {
   "cell_type": "markdown",
   "id": "ebab9fdc",
   "metadata": {},
   "source": [
    "Списки очень похожи на строки. Тоже индексы, тоже срезы. Но есть и отличия. \\\n",
    "Важной особенностью списков (в отличие от строк) является то, что списки *изменяемый* тип данных.\n",
    "\n",
    "Вспомним, что мы когда мы применяли методы строк, сама строка не изменялась. Да, мы могли получить новую строку. Мы даже эту новую строку могли поместить в старую переменную. Но изначальная строка не менялась."
   ]
  },
  {
   "cell_type": "code",
   "execution_count": null,
   "id": "a0c96b31",
   "metadata": {},
   "outputs": [],
   "source": [
    "a = \"abcd\"\n",
    "a.upper()\n",
    "b = a.upper()  # применяем метод к строке a, но она не меняется\n",
    "\n",
    "print(a)\n",
    "print(b)  # это уже новая переменная с новой строкой"
   ]
  },
  {
   "cell_type": "code",
   "execution_count": null,
   "id": "6bc8487f",
   "metadata": {},
   "outputs": [],
   "source": [
    "abc = \"ABC\"\n",
    "abc = abc.lower()  # а тут заменяем новым значением старое\n",
    "# старое значение \"пропало\", очистилось из памяти\n",
    "\n",
    "print(abc)"
   ]
  },
  {
   "cell_type": "code",
   "execution_count": null,
   "id": "315db4e8",
   "metadata": {},
   "outputs": [],
   "source": [
    "init_str = \"asdfads\"\n",
    "upper_str = init_str.replace(\"asd\", \"fads\")\n",
    "\n",
    "print(upper_str)\n",
    "print(init_str)"
   ]
  },
  {
   "cell_type": "markdown",
   "id": "22edc7e4",
   "metadata": {},
   "source": [
    "Итак, когда мы работали со строками, нам нужно было результат вызова функции класть в переменную. \\\n",
    "Но вот в случае со списками нам это просто не нужно. Мы просто вызываем метод, а значение меняется:"
   ]
  },
  {
   "cell_type": "code",
   "execution_count": null,
   "id": "0ed8af7a",
   "metadata": {},
   "outputs": [],
   "source": [
    "numbers = [1,2,3,100,50.5]\n",
    "new_number = 1.55e-2\n",
    "\n",
    "numbers.append(new_number)  # новая переменная не нужна\n",
    "\n",
    "print(numbers)"
   ]
  },
  {
   "cell_type": "markdown",
   "id": "76f1c730",
   "metadata": {},
   "source": [
    "Но что будет, если мы результат вызова метода всё-таки положим в переменную? \\\n",
    "*Спойлер* то же самое, что и с функцией `print()`"
   ]
  },
  {
   "cell_type": "code",
   "execution_count": null,
   "id": "cea0235f",
   "metadata": {},
   "outputs": [],
   "source": [
    "apes = [\"Homo sapiens\", \"Pan troglodytes\", \"Gorilla gorilla\"]\n",
    "new_apes = apes.append(\"Nomascus gabriellae\")\n",
    "print(new_apes)\n",
    "print(apes)"
   ]
  },
  {
   "cell_type": "markdown",
   "id": "b1f9efaf",
   "metadata": {},
   "source": [
    "Что получится в результате запуска ячейки ниже? (учтите, что мы выше уже вызывали метод `.append()`:"
   ]
  },
  {
   "cell_type": "code",
   "execution_count": null,
   "id": "df0b26fe",
   "metadata": {},
   "outputs": [],
   "source": [
    "apes = [\"Homo sapiens\", \"Pan troglodytes\", \"Gorilla gorilla\"]\n",
    "apes.append(\"Pan paniscus\")\n",
    "print(apes)"
   ]
  },
  {
   "cell_type": "markdown",
   "id": "835652db",
   "metadata": {},
   "source": [
    "### Функция `len()`\n",
    "\n",
    "Вернёмся к тому, в чём строки и списки похожи. \\\n",
    "В общем-то, теперь становится понятно, почему `len()` (которая возвращает длину строки) это функция, а не метод. Просто потому что \"длина\" есть не только у строк. Вот теперь знаем, что и списков то же. \\\n",
    "А значит, нет смысла у каждого типа делать метод `.len()`, можно сделать функцию, которая будет работать с разными типами данных."
   ]
  },
  {
   "cell_type": "code",
   "execution_count": null,
   "id": "9ba54fc0",
   "metadata": {},
   "outputs": [],
   "source": [
    "apes_list_lenght = len(apes)\n",
    "\n",
    "print(apes_list_lenght)"
   ]
  },
  {
   "cell_type": "markdown",
   "id": "57fb485c",
   "metadata": {},
   "source": [
    "#### Упражнение\n",
    "Добавьте в список `apes` элемент `\"Pan abelii\"` двумя способами: при помощи контатенации и при помощи метода `.append()`."
   ]
  },
  {
   "cell_type": "code",
   "execution_count": null,
   "id": "c0e4e072",
   "metadata": {},
   "outputs": [],
   "source": [
    "pongos = [\"Pan pygmaeus\", \"Pan abelii\", \"Pan tapanuliensis\"]\n",
    "\n",
    "apes = apes + pongos[...]\n",
    "print(apes)\n",
    "\n",
    "apes.pop(-1)  # метод pop удаляет элемент из списка по его индексу\n",
    "print(apes)\n",
    "\n",
    "apes.append(...)\n",
    "print(apes)"
   ]
  },
  {
   "cell_type": "markdown",
   "id": "00fb1d3c",
   "metadata": {},
   "source": [
    "## Откуда можно \"взять\" список?"
   ]
  },
  {
   "cell_type": "markdown",
   "id": "ec13e701",
   "metadata": {},
   "source": [
    "### Преобразовать из чего-то похожего\n",
    "\n",
    "А мы знаем, что строки вот похожи на список."
   ]
  },
  {
   "cell_type": "code",
   "execution_count": null,
   "id": "fc5d3bd6",
   "metadata": {},
   "outputs": [],
   "source": [
    "char_list = list(\"ACGTU\")\n",
    "\n",
    "print(type(char_list))\n",
    "print(char_list)"
   ]
  },
  {
   "cell_type": "markdown",
   "id": "8be66901",
   "metadata": {},
   "source": [
    "### Метод `file.readlines()`\n",
    "\n",
    "Из файлового объекта (который возвращает функция `open()`) можно получить список строчек файла:"
   ]
  },
  {
   "cell_type": "markdown",
   "id": "942711ca",
   "metadata": {},
   "source": [
    "*Содержимое файла `ae4_lines.txt`*:\n",
    "```\n",
    "ЗАГОЛОВОК (HEADER)\n",
    "first line\n",
    "second line\n",
    "third line\n",
    "1\n",
    "12\n",
    "123\n",
    "a\n",
    "abc\n",
    "abcd\n",
    "```"
   ]
  },
  {
   "cell_type": "code",
   "execution_count": null,
   "id": "6b4b3aad",
   "metadata": {},
   "outputs": [],
   "source": [
    "# файлы\n",
    "with open(\"ae4_lines.txt\") as f:\n",
    "    list_from_file = f.readlines()\n",
    "\n",
    "print(type(list_from_file))\n",
    "print(list_from_file)"
   ]
  },
  {
   "cell_type": "code",
   "execution_count": null,
   "id": "44c17434",
   "metadata": {},
   "outputs": [],
   "source": [
    "print(len(list_from_file))"
   ]
  },
  {
   "cell_type": "markdown",
   "id": "307ef541",
   "metadata": {},
   "source": [
    "### Метод `str.split()`\n",
    "\n",
    "Это строковый метод, который возвращает список. \\\n",
    "Метод принимает в качестве аргумента подстроку, которую будет использовать для разделения строки на элементы списка:"
   ]
  },
  {
   "cell_type": "code",
   "execution_count": null,
   "id": "1ab0926d",
   "metadata": {},
   "outputs": [],
   "source": [
    "# cтроки\n",
    "list_from_string = \"a, b, d,e,f, 100, 1000\".split(\",\")\n",
    "print(list_from_string)\n",
    "\n",
    "some_string = \"ACGT; AAAGT; ACGTGGTAG; TTGACA; \"\n",
    "sequences = some_string.split(\"; \")\n",
    "print(sequences)"
   ]
  },
  {
   "cell_type": "code",
   "execution_count": null,
   "id": "36a5cd33",
   "metadata": {},
   "outputs": [],
   "source": [
    "some_string.split(\"CG\")"
   ]
  },
  {
   "cell_type": "markdown",
   "id": "c3f6632f",
   "metadata": {},
   "source": [
    "#### Упражнение\n",
    "Измените код таким образом, чтобы получить числа `4` и `5` в результате:"
   ]
  },
  {
   "cell_type": "code",
   "execution_count": null,
   "id": "0bf4a473",
   "metadata": {},
   "outputs": [],
   "source": [
    "some_string = \"67, 4, 5\"\n",
    "list_of_numbers_str = some_string.split(...)\n",
    "print(list_of_numbers_str)\n",
    "\n",
    "first_number_str = list_of_numbers_str[...]\n",
    "second_number_str = list_of_numbers_str[...]\n",
    "print(type(first_number_str))\n",
    "\n",
    "first_number = int(...)\n",
    "second_number = int(...)\n",
    "\n",
    "print(first_number)\n",
    "print(second_number)"
   ]
  },
  {
   "cell_type": "markdown",
   "id": "9f6d30d2",
   "metadata": {},
   "source": [
    "# Цикл `for`"
   ]
  },
  {
   "cell_type": "markdown",
   "id": "92655bdf",
   "metadata": {},
   "source": [
    "Вот мы и подошли к такой важной концепции в мире программирования, как циклы. \\\n",
    "Задача циклов автоматизировать повторящиеся действия с разными значениями.\n",
    "\n",
    "Представьте, что у вас есть 100 файлов, каждый надо открыть, считать содержимое, что-то с ним сделать и сохранить в новый файл. \\\n",
    "Конечно вы не захотите 100 раз писать один и тот же код, изменяя только имена открываемых файлов. \\\n",
    "Хочется просто создать (или сгенерировать) список имём файлов, а что с ними надо сделать написать один раз. Этом случае нам как раз нужны циклы."
   ]
  },
  {
   "cell_type": "markdown",
   "id": "f72798a6",
   "metadata": {},
   "source": [
    "Циклы бывают разные. В python есть два: цикл `for` и цикл `while`. \\\n",
    "Пока что рассмотрим цикл `for`.\n",
    "\n",
    "Цикл делает одно и то же, с разными значениями. \\\n",
    "А значит, нам нужно несколько значений. Например, список (или строка)."
   ]
  },
  {
   "cell_type": "code",
   "execution_count": null,
   "id": "1cdcb611",
   "metadata": {},
   "outputs": [],
   "source": [
    "some_list = [1, 2, 3, 4]"
   ]
  },
  {
   "cell_type": "markdown",
   "id": "9b54d65b",
   "metadata": {},
   "source": [
    "После этого мы используем конструкцию:\n",
    "```\n",
    "for <переменная> in <набор_значений> :\n",
    "```\n",
    "`for` - новое ключевое слово. \\\n",
    "`<переменная>` – переменная. В неё будут по очереди помещаться значения из `<набор_значений>` (список или строка). \\\n",
    "`in` – новое ключевое слово. \\\n",
    "И не забываем `:`.\n",
    "\n",
    "В нашем случае:"
   ]
  },
  {
   "cell_type": "code",
   "execution_count": null,
   "id": "e537d2c0",
   "metadata": {},
   "outputs": [],
   "source": [
    "some_list = [1,2,3,4]\n",
    "\n",
    "for numb in some_list:"
   ]
  },
  {
   "cell_type": "markdown",
   "id": "f482d41b",
   "metadata": {},
   "source": [
    "После этого, обязательно с отступом, мы пишем *тело цикла*, тот код, который нужно выполнять для каждого элемента списка:"
   ]
  },
  {
   "cell_type": "code",
   "execution_count": null,
   "id": "f6a8b43b",
   "metadata": {},
   "outputs": [],
   "source": [
    "some_list = [1, 2, 3, 4]\n",
    "\n",
    "for numb in some_list:  # берём элементы из some_list, кладём в numb\n",
    "    print(numb)  # код, который для каждого numb\n",
    "    \n",
    "print(\"bye!\")  # код после цикла"
   ]
  },
  {
   "cell_type": "code",
   "execution_count": null,
   "id": "772175dc",
   "metadata": {},
   "outputs": [],
   "source": [
    "for num in some_list:\n",
    "    new_num = num + 5\n",
    "    print(new_num)\n",
    "    "
   ]
  },
  {
   "cell_type": "code",
   "execution_count": null,
   "id": "01e388de",
   "metadata": {},
   "outputs": [],
   "source": [
    "new_list = []\n",
    "for n in [\"a\", \"b\", \"c\"]:\n",
    "    new_n = n * 3\n",
    "    print(new_n)\n",
    "    new_list.append(new_n)\n",
    "    print(new_list)"
   ]
  },
  {
   "cell_type": "code",
   "execution_count": null,
   "id": "d8af8c02",
   "metadata": {},
   "outputs": [],
   "source": [
    "with open(\"ae4_lines.txt\") as file:\n",
    "    file_lines = file.readlines()\n",
    "\n",
    "print(file_lines)"
   ]
  },
  {
   "cell_type": "code",
   "execution_count": null,
   "id": "48f51fa2",
   "metadata": {},
   "outputs": [],
   "source": [
    "for l in file_lines:\n",
    "    print(l.__repr__())\n",
    "    print(l.strip(\"\\n\").__repr__())"
   ]
  },
  {
   "cell_type": "markdown",
   "id": "71ac002e",
   "metadata": {},
   "source": [
    "## Функция range()"
   ]
  },
  {
   "cell_type": "markdown",
   "id": "442733fe",
   "metadata": {},
   "source": [
    "Функция `range()` возвращает специальный объект, генератор. Конкретно функция `range()` возвращает генератор целых чисел."
   ]
  },
  {
   "cell_type": "code",
   "execution_count": null,
   "id": "c6fac82b",
   "metadata": {},
   "outputs": [],
   "source": [
    "some_range = range(10)\n",
    "print(some_range)"
   ]
  },
  {
   "cell_type": "markdown",
   "id": "6eb5f16c",
   "metadata": {},
   "source": [
    "Генератор целых чисел можно превратить в список, тут результат очевиден:"
   ]
  },
  {
   "cell_type": "code",
   "execution_count": null,
   "id": "31919bca",
   "metadata": {},
   "outputs": [],
   "source": [
    "print(list(some_range))"
   ]
  },
  {
   "cell_type": "markdown",
   "id": "d20cc766",
   "metadata": {},
   "source": [
    "Но обычно функция `range()` используется не для создания списков, а для того, чтобы использовать её в цикле `for`."
   ]
  },
  {
   "cell_type": "code",
   "execution_count": null,
   "id": "b4b4159d",
   "metadata": {},
   "outputs": [],
   "source": [
    "for i in range(20):\n",
    "    print(i)"
   ]
  },
  {
   "cell_type": "code",
   "execution_count": null,
   "id": "30e8136d",
   "metadata": {},
   "outputs": [],
   "source": [
    "for number in range(5, 10):\n",
    "    print(number)"
   ]
  },
  {
   "cell_type": "code",
   "execution_count": null,
   "id": "c818c25a",
   "metadata": {},
   "outputs": [],
   "source": [
    "step_range = range(4, 25, 3)\n",
    "for n in step_range:\n",
    "    print(n)"
   ]
  },
  {
   "cell_type": "markdown",
   "id": "13271919",
   "metadata": {},
   "source": [
    "#### Упражнение\n",
    "Измените код таким образом, чтобы в результате получить список квадратов чисел от 1 до 10 (включительно):"
   ]
  },
  {
   "cell_type": "code",
   "execution_count": null,
   "id": "e3b1ed21",
   "metadata": {},
   "outputs": [],
   "source": [
    "squares = []\n",
    "for n in range(...):\n",
    "    squares.append(n**...)\n",
    "\n",
    "print(squares)"
   ]
  },
  {
   "cell_type": "markdown",
   "id": "fb42941e",
   "metadata": {},
   "source": [
    "#### Упражнение\n",
    "\n",
    "Выведите на печать все строчки файла с заглавной буквы (при помощи строкового метода, найдите подходящй: https://www.w3schools.com/python/python_ref_string.asp)"
   ]
  },
  {
   "cell_type": "code",
   "execution_count": null,
   "id": "b6828f31",
   "metadata": {},
   "outputs": [],
   "source": [
    "with open(\"ae4_lines.txt\") as file:\n",
    "    lines = file.readlines()\n",
    "\n",
    "for l in lines:\n",
    "    print(l ...)"
   ]
  },
  {
   "cell_type": "markdown",
   "id": "9a0a788e",
   "metadata": {},
   "source": [
    "#### Упражнение\n",
    "\n",
    "Измените код таким образом, чтобы цикл работал по всему содержимому файла, но пропустил заголовок (первую строчку):"
   ]
  },
  {
   "cell_type": "code",
   "execution_count": null,
   "id": "8699d5f2",
   "metadata": {},
   "outputs": [],
   "source": [
    "with open(\"ae4_lines.txt\") as f:\n",
    "    content = f.readlines()\n",
    "    \n",
    "for lin in content[...]:\n",
    "    print(lin)"
   ]
  },
  {
   "cell_type": "markdown",
   "id": "7730ff4e",
   "metadata": {},
   "source": [
    "### Задача 1\n",
    "Дано: файл `input.txt`, в котором содержится несколько последовательностей, каждая на новой строке. Каждая последовательность начинается с одного и того же набора 14 нуклеотидов, адаптера (адаптеры являются результатом применения некоторых генно-инженерных техник). Напишите программу, которая уберёт адаптеры и запишет последовательности в новый файл. Выведите на печать длину каждой последовательности."
   ]
  },
  {
   "cell_type": "code",
   "execution_count": 6,
   "id": "c316f793-a348-4443-b8a1-fdaa6ca7b670",
   "metadata": {},
   "outputs": [
    {
     "name": "stdout",
     "output_type": "stream",
     "text": [
      "42\n",
      "37\n",
      "48\n",
      "33\n",
      "47\n"
     ]
    }
   ],
   "source": [
    "with open('ae4_input.txt') as file:\n",
    "    sequenses = file.readlines()\n",
    "\n",
    "new_list = []\n",
    "for seq in sequenses:\n",
    "    new_list.append(seq.strip()[14:])\n",
    "\n",
    "for seq in new_list:\n",
    "    print(len(seq))\n",
    "\n",
    "with open('ae4_Task1.txt', 'w') as file:\n",
    "    for seq in new_list:\n",
    "        file.write(seq + '\\n')\n",
    "    "
   ]
  },
  {
   "cell_type": "markdown",
   "id": "aa3ae8cf",
   "metadata": {},
   "source": [
    "### Задача 2\n",
    "Файл `genomic_dna.txt` содержит часть геномной ДНК, файл `exons.txt` содержит список *start/stop* индексов позиций экзонов. Каждая пара *start/stop*, то есть пара для одного экзона находится на одной строке, разделена запятой (`','`). Напишите программу, которая вытаскивает экзоны из геномной ДНК, потом объедините их и запишите получившуюся последовательность в файл."
   ]
  },
  {
   "cell_type": "code",
   "execution_count": 39,
   "id": "fd240aab-4ac3-49a6-b1ec-583b71458397",
   "metadata": {},
   "outputs": [],
   "source": [
    "a, b = [\"aa\", 10]\n"
   ]
  },
  {
   "cell_type": "code",
   "execution_count": 37,
   "id": "b75b15aa",
   "metadata": {},
   "outputs": [],
   "source": [
    "with open(\"ae4_genomic_dna.txt\", encoding=\"utf-8\") as file:\n",
    "    dna = file.read()\n",
    "\n",
    "all_exons = ''\n",
    "with open(\"ae4_exons.txt\", encoding=\"utf-8\") as file:\n",
    "    for line in file.readlines():\n",
    "        indexes = line.split(',')\n",
    "        all_exons += dna[int(indexes[0]) - 1:int(indexes[1])]\n",
    "\n",
    "with open('ae4_Task2.txt', 'w') as file:\n",
    "    file.write(all_exons)\n"
   ]
  },
  {
   "cell_type": "markdown",
   "id": "2237d772",
   "metadata": {},
   "source": [
    "### Задача 3"
   ]
  },
  {
   "cell_type": "markdown",
   "id": "695cff6c",
   "metadata": {},
   "source": [
    "Получите список координат $x$, при условии, что каждое новое значение соответствует шагу времени $\\Delta t = 0.1 \\text{  с}$ \\\n",
    "Движение равномерное.\n",
    "\n",
    "Начальная координата $x_0 = 0.0 \\text{  м}$ \\\n",
    "Скорость $v_x = 5 \\text{   м/с}$\n",
    "\n",
    "`x_0 = 0.0`"
   ]
  },
  {
   "cell_type": "code",
   "execution_count": 7,
   "id": "39cf8f9c",
   "metadata": {},
   "outputs": [
    {
     "name": "stdout",
     "output_type": "stream",
     "text": [
      "[0.0, 0.1, 0.2, 0.30000000000000004, 0.4, 0.5, 0.6000000000000001, 0.7000000000000001, 0.8, 0.9, 1.0]\n",
      "[0.0, 0.5, 1.0, 1.5000000000000002, 2.0, 2.5, 3.0000000000000004, 3.5000000000000004, 4.0, 4.5, 5.0]\n"
     ]
    }
   ],
   "source": [
    "xx = [0.0,]  # переменная, в которой должен быть получен результат\n",
    "\n",
    "tt = []  # список точек времени\n",
    "for i in range(11):\n",
    "    new_time = i * 0.1\n",
    "    tt.append(new_time)\n",
    "\n",
    "for t in tt[1:]:\n",
    "    xx.append(5 * t) # Решить задачу для постоянного ускорения!!!\n",
    "\n",
    "print(tt)\n",
    "print(xx)\n"
   ]
  },
  {
   "cell_type": "markdown",
   "id": "9a1da956",
   "metadata": {},
   "source": [
    "Вы можете визуализировать результат ниже. Но учтите, что длина `tt` и `xx` должны быть одинаковыми."
   ]
  },
  {
   "cell_type": "code",
   "execution_count": 9,
   "id": "bd24fda9",
   "metadata": {},
   "outputs": [
    {
     "data": {
      "image/png": "[encoded data removed]",
      "text/plain": [
       "<Figure size 640x480 with 1 Axes>"
      ]
     },
     "metadata": {},
     "output_type": "display_data"
    }
   ],
   "source": [
    "# ниже код, который можно запустить после того, как получены значения x\n",
    "import matplotlib.pyplot as plt\n",
    "\n",
    "\n",
    "plt.plot(tt, xx, label=\"Координата x\")\n",
    "plt.legend()\n",
    "plt.ylabel(\"X, м\")\n",
    "plt.xlabel(\"t, с\")\n",
    "plt.grid()"
   ]
  },
  {
   "cell_type": "markdown",
   "id": "eba8b98f",
   "metadata": {},
   "source": [
    "\\* – задача со звёздочкой\n",
    "Если нет идей, как её решить, нужно будет решить после темы AE5\n",
    "\n",
    "\n",
    "### Задача 4\n",
    "\n",
    "Вы уже познакомились с fasta-форматом. \\\n",
    "На практике в большинстве случаев вы будете работать файлами, в которых сам сиквенс (AACCCGTGAGTA...) будет довольно длинным. В таких случаях, чтобы просто текстовый файл было удобнее смотреть глазами, сиквенс распределяется на несколько строчек в файле. Разбивается на строчки по принципу: не больше 80 символов на строчке.\n",
    "\n",
    "В итоге \"сырая\" строка, полученная из фаста файла будет выглядеть так:\n",
    "```\n",
    ">seq1_name\\nACCC...GT\\nGGCT...GT\\nA..GT\\n>seq2_name\\nGGCT...GT\\nACGTTCT\n",
    "```\n",
    "\n",
    "**Задача**:\n",
    "Используйте файл `ae4_multi_fasta.fasta`, считайте из него 3 сиквенса. \\\n",
    "Сами *сиквенсы* положите в список. \\\n",
    "*Имена* сиквенсов положите в отдельный список с именами."
   ]
  },
  {
   "cell_type": "code",
   "execution_count": 23,
   "id": "96abb495-21b2-4be9-9a35-ec19a7c79276",
   "metadata": {},
   "outputs": [
    {
     "name": "stdout",
     "output_type": "stream",
     "text": [
      "['MLKPAPGRQQLRLGHCPIMALWMRLLPLLALLVLWEPNPAQAFVNQHLCGSHLVEALYLVCGERGFFYTPKSRRGVEDPQVAQLELGGGPGAGDLQTLALEVAQQKRGIVDQCCTSICSLYQLENYCN', 'MSSFSEEQEALVVKSWGSMKKDAGEWGLKFFLKIFEIAPSAKKMFSFLKDSNVPLDQNPKLKVHAKSILVMTCEAAVQLRKAGKVVVRDSTLKKIGATHFKYGVADEHFEVTKYALLETIKEASPEMWSVEMKNAWGEAYDQLVSAIKTEMK', 'MIVLTLCLLLFSYNSVICTSNNDCVQVNVTQLPGNENIIKDFLFQNFKEEGSVVVGGYYPTEVWYNCSRTATTTAYHYFSNIHAFYFDMEAMANSTGNARGKPLLVHVHGSPVSIIVYISAYRDDVQNRPLLKHGLLCITKNSTIDYNSFTSAQWRDICLGTDRKIPFSVVPTDNGTKLFGLEWTDDYVTAYISDDSHRLNINTNWFNNVTILYSRSSTATWQKSAAYVYQGVSNFTYYKLNNTNGLKSYELCEDYEYCTGYATNVFAPTSGGYIPDGFSFNNWFMLTNSSTFVSGRFVTNQPLLVNCLVPVPSFGVAAQEFCFEGAQFSQCNGVSLNNTVDVIRFNLNFTTNVQSGMGATVFSLNTTGGVILEISCYNDTVSESSFYSYGEIPFGVTDGPRYCYVLYNGTALKYLGTLPPSVKEIAISKWGHFYINGYNFFSTFPIDCISFNLTTGDSGAFWTIAYTSYTEALVQVENTAIKKVTYCNSHINNIKCSQLTANLQNGFYPVASSEVGLVNKSVVLLPSFYSHTSVNITIDLGMKRSGYGQPIASTLSNITLPMQDNNTDVYCIRSNQFSVYVHSTCKSSLWDNIFNSDCTDVLHATAVIKTGTCPFSFDKLNNYLTFNKFCLSLNPVGANCKFDVAARTRTNEQVVRSLYVMYEEGDNIAGDRPDNSGLHDLSVLHLDSCTDYNIYGRTGVGIIRQTNSTIFSGLYYTSLSGDLLGFKNVSDGVVYSVTPCDVSAQAAVIDGAIVGAMTSINSELLGLTHWTTTPNFYYYSIYNYTSVRTRGTAIDSNDVDCEPIITYSNIGVCKNGALVFINVTHSDGDVQPISTGNVTIPTNFTISVQVEYIQVYTTPVSIDCARYVCNGNPRCNKLLTQYVSACQTIEQALAMGARLENMEIDSMLFVSENALKLASVEAFNSTETLDPIYKEWPNIGGSWLGGLKDILPSHNSKRKYRSAIEDLLFDKVVTSGLGTVDEDYKRCTGGYDIADLVCAQYYNGIMVLPGVANDDKMAMYTASLAGGITLGALGGGAVAIPFAVAVQARLNYVALQTDVLNKNQQILANAFNQAIGNITQAFGKVNDAIHQTSQGLATVAKALAKVQDVVNTQGQALSHLTVQLQNNFQAISSSISDIYNRLDELSADAQVDRLITGRLTALNAFVSQTLTRQAEVRASRQLAKDKVNECVRSQSQRFGFCGNGTHLFSLANAAPNGMIFFHTVLLPTAYETVTAWSGICASDGDRTFGLVVKDVQLTLFRNLDDKFYLTPRTMYQPRVATSSDFVQIEGCDVLFVNATVIDLPSIIPDYIDINQTVQDILENFRPNWTVPELTLDIFNATYLNLTGEINDLEFRSEKLHNTTVELAVLIDNINNTLVNLEWLNRIETYVKWPWYVWLLIGLVVIFCIPLLLFCCCSTGCCGCIGCLGSCCHSMCSRRQFESYEPTEKVHVH']\n",
      "['XP_049992438.1 insulin [Alexandromys fortis]', 'NP_001275068.1 hemoglobin [Solanum tuberosum]', 'CAA01637.1 spike [Canine coronavirus]']\n"
     ]
    }
   ],
   "source": [
    "with open('ae4_multi_fasta.fasta') as file:\n",
    "    full_seqs = file.read().split('>')[1:]\n",
    "\n",
    "sequences = []\n",
    "names = []\n",
    "for full_seq in full_seqs:\n",
    "    name, seq = full_seq.split('\\n', maxsplit=1)\n",
    "    sequences.append(''.join(seq.split()))\n",
    "    names.append(name)\n",
    "\n",
    "print(sequences)\n",
    "print(names) #Здесь можно составить словарь из двух списков с помощью list comprehension (списковые включения)\n"
   ]
  },
  {
   "cell_type": "code",
   "execution_count": 41,
   "id": "c85ada73-e176-4028-93b2-fb84066f2bf8",
   "metadata": {},
   "outputs": [
    {
     "data": {
      "text/plain": [
       "3"
      ]
     },
     "execution_count": 41,
     "metadata": {},
     "output_type": "execute_result"
    }
   ],
   "source": [
    "len(sequences)"
   ]
  }
 ],
 "metadata": {
  "kernelspec": {
   "display_name": "Python 3 (ipykernel)",
   "language": "python",
   "name": "python3"
  },
  "language_info": {
   "codemirror_mode": {
    "name": "ipython",
    "version": 3
   },
   "file_extension": ".py",
   "mimetype": "text/x-python",
   "name": "python",
   "nbconvert_exporter": "python",
   "pygments_lexer": "ipython3",
   "version": "3.12.4"
  }
 },
 "nbformat": 4,
 "nbformat_minor": 5
}
