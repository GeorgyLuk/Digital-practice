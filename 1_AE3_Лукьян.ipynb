{
 "cells": [
  {
   "cell_type": "markdown",
   "metadata": {},
   "source": [
    "# Работа с файлами"
   ]
  },
  {
   "cell_type": "markdown",
   "metadata": {},
   "source": [
    "*Список необходимых файлов*\n",
    "\n",
    "- `dna.txt`\n",
    "- `genomic_dna.txt`\n",
    "- `peptide.fasta`\n",
    "- `gene.txt` и `plasmid.txt`"
   ]
  },
  {
   "cell_type": "markdown",
   "metadata": {},
   "source": [
    "Надеюсь, у вас получилось справиться с первыми заданиями успешно и можем продвинуться дальше. \\\n",
    "Первое занятие было про строки, потому что строками можно представлять важные биологические объекты: нуклеиновые кислоты и полипептиды и белки. И хранили мы такие строки в виде переменных:\n",
    "```\n",
    "simple_dna = \"ACGGGTA\"\n",
    "simple_dna_lower = simple_dna.lower()\n",
    "ну и так далее...\n",
    "```\n",
    "\n",
    "Проблема такого подхода в том, что неудобно (а иногда и просто невозможно) копировать и вставлять каждый раз сиквенсы, чтобы создать переменную. \\\n",
    "Один белок в среднем составлен из 400 аминокислотных остатков (они примерно от 200 до 600 ако). \\\n",
    "Как вы знаете, за кодирование одной аминокислоты отвечает триплет РНК, то есть, для белка среднего размера: 400ако * 3 = 1200рнк. \\\n",
    "И это без учёта сплайсинга и прочего. \\\n",
    "Вот, например, белок: https://www.ncbi.nlm.nih.gov/protein/CAA44493.1?report=fasta \\\n",
    "И его ген: https://www.ncbi.nlm.nih.gov/nuccore/X62625.1?report=fasta \\\n",
    "А если говорить о хромосоме или больших кусках генов, то там вообще огромные сиквенсы."
   ]
  },
  {
   "cell_type": "markdown",
   "metadata": {},
   "source": [
    "Что же делать? На помощь нам приходит работа с файлами, и именно этим мы будем сегодня заниматься."
   ]
  },
  {
   "cell_type": "markdown",
   "metadata": {},
   "source": [
    "## функция open()"
   ]
  },
  {
   "cell_type": "markdown",
   "metadata": {},
   "source": [
    "С встроенными функциями мы уже знакомы: `print()`, `type()`, `str()`, `int()`, etc. \\\n",
    "Для того, чтобы открыть файл, мы будем пользоваться функцией `open()`. \\\n",
    "Как мы можем догадаться из названия функции, занимается она тем, что открывает текстовые файлы. Но каким образом мы укажем, какой именно файл нам нужен? \\\n",
    "Чтобы указать на какой-то файл, нужно передать функции `open` *путь* к файлу в виде *строки*. Путь бывает абсолютный и относительный. \\\n",
    "Абосолютный путь нужно описать от самого верхнего уровня организации файловой системы компьютера. Для компьютеров с Windows самым верхним уровнем организации будет диск C. Вот примеры абсолютных путей на винде:\n",
    "```\n",
    "C:\\Programm files\\Games\\my_favorite_game.exe\n",
    "D:\\Для учёбы\\Аниме\\\n",
    "C:\\Пользователи\\shcec\\домашки\\abcd.ipynb\n",
    "```\n",
    "На unix системах это будет выглдяет как-то так:\n",
    "```\n",
    "/Users/shcec/my_data/hello.py\n",
    "/Users/shcec/Application/word.txt\n",
    "```\n",
    "\n",
    "\n",
    "Однако, зачастую гораздо удобнее оказывается пользоваться *относительным* путём. В данном случае мы указываем путь до нужного файла или папки *относительно* того места, где мы сейчас находимся. Как вы помните, на винде джупитер ноутбук стандартно открывается в папке: `C:\\Пользователи\\your_user_name\\`. И если в этой папке, рядом как раз с вашим джупитер ноутбуком лежит нужный вам файл, оказывается, что относительный путь до него - это просто имя этого файла. \\\n",
    "То есть, если файл лежит рядом с ноутбуком, в котором вы пишите код, на вход функции `open` вам нужно дать питоновскую строку, которая содержит относительный путь, который в данном случае - это просто имя файла."
   ]
  },
  {
   "cell_type": "code",
   "execution_count": null,
   "metadata": {},
   "outputs": [],
   "source": [
    "my_file = open(\"dna.txt\")\n",
    "file_content = my_file.read()\n",
    "print(file_contents)"
   ]
  },
  {
   "cell_type": "markdown",
   "metadata": {},
   "source": [
    "Обратите внимание, что результат выполнения функции `open()` "
   ]
  },
  {
   "cell_type": "code",
   "execution_count": null,
   "metadata": {},
   "outputs": [],
   "source": [
    "print(my_file)"
   ]
  },
  {
   "cell_type": "markdown",
   "metadata": {},
   "source": [
    "Мы видим нечто странное: `<_io.TextIOWrapper name='dna.txt' mode='r' encoding='UTF-8'>`.\n",
    "\n",
    "Дело в том, что python \"открывает\" файл (который хранится на компьютере) в виде специального типа `TextIOWrapper`, который вы можете использовать для того, чтобы \"извлечь\" содержимое. Например, получить строку, в которой будет содержимое файла (если файл текстовый)."
   ]
  },
  {
   "cell_type": "code",
   "execution_count": null,
   "metadata": {},
   "outputs": [],
   "source": [
    "# посмотрим на тип файла\n",
    "type(my_file)"
   ]
  },
  {
   "cell_type": "markdown",
   "metadata": {},
   "source": [
    "Другая переменная, которая создана в первой ячейке с кодом: `file_content`. В ней содержится значение, которое возвращается методом `.read()`.\n",
    "\n",
    "То есть функция `open()` возвращает нам некий объект, который представляет открытый файл (объект типа `TextIOWrapper`). Но чтобы получить содержимое текстового файла в виде строки, мы используем метод (который есть у `TextIOWrapper`) `.read()`:\n",
    "```\n",
    "my_file = open(\"dna.txt\")  # open возвращает \"файловый\" объект\n",
    "file_content = my_file.read()  # my_file является \"файловым\" объектом\n",
    "print(type(file_content))  # а вот file_content уже является строкой\n",
    "```"
   ]
  },
  {
   "cell_type": "code",
   "execution_count": null,
   "metadata": {},
   "outputs": [],
   "source": [
    "type(file_content)"
   ]
  },
  {
   "cell_type": "code",
   "execution_count": null,
   "metadata": {},
   "outputs": [],
   "source": [
    "len(file_content)"
   ]
  },
  {
   "cell_type": "markdown",
   "metadata": {},
   "source": [
    "Не запутайтесь.\n",
    "\n",
    "У нас есть строка с именем файла (или относительным путём, если мы открываем файл, который не лежит в той же папке, в которой мы запустили интерпретатор питона).\n",
    "\n",
    "После того, как строку с именем файла мы передаём в качестве аргумента функции `open()` мы получаем объект `TextIOWrapper`.\n",
    "\n",
    "И если от этого объекта мы вызовем метод `.read()`, мы получим строку, в которой будет текстовое содержимое файла."
   ]
  },
  {
   "cell_type": "markdown",
   "metadata": {},
   "source": [
    "То же самое действие, только чуть иначе записанное (имя файла в виде переменной):"
   ]
  },
  {
   "cell_type": "code",
   "execution_count": null,
   "metadata": {},
   "outputs": [],
   "source": [
    "my_file_name = 'dna.txt'\n",
    "my_file = open(my_file_name)\n",
    "my_file_content = my_file.read()\n",
    "\n",
    "\n",
    "my_file_content = open('dna.txt').read()"
   ]
  },
  {
   "cell_type": "code",
   "execution_count": null,
   "metadata": {},
   "outputs": [],
   "source": [
    "print(my_file_content)"
   ]
  },
  {
   "cell_type": "code",
   "execution_count": null,
   "metadata": {},
   "outputs": [],
   "source": [
    "print(len(my_file_content))"
   ]
  },
  {
   "cell_type": "markdown",
   "metadata": {},
   "source": [
    "Обратите внимание, файл обычно состоит из нескольких строчек. Когда мы считываем его в одну строку, мы получаем символы переноса на новую строку там, где был конец строчки в файле.\n",
    "\n",
    "Если мы передадим такую строку в функцию `print()`, в стандартном потоке вывода мы просто увидим перенос на новую строку.\n",
    "\n",
    "Чтобы увидеть, где в вашей строке содержатся символы переноса на новую строку, можно воспользоваться методом `str.__repr__()`."
   ]
  },
  {
   "cell_type": "code",
   "execution_count": null,
   "metadata": {},
   "outputs": [],
   "source": [
    "print(my_file_content.__repr__())"
   ]
  },
  {
   "cell_type": "markdown",
   "metadata": {},
   "source": [
    "Имейте в виду, что хоть мы и не \"видим\" явно этот символ при исползовании функции `print()`, он всё ещё является элементом строки, а значит в том числе и влияет на результат функции `len()`:"
   ]
  },
  {
   "cell_type": "code",
   "execution_count": null,
   "metadata": {},
   "outputs": [],
   "source": [
    "file_cont_len = len(my_file_content)\n",
    "print(file_cont_len)"
   ]
  },
  {
   "cell_type": "markdown",
   "metadata": {},
   "source": [
    "И конечно, мы лекго можем избавиться от них при помощи метода `.replace()`. Но имейте в виду, чтобы строчки файла в таком случае \"склеятся\" в одну, а иногда это не очень хороший результат, если на разных строчках разные по сути элементы."
   ]
  },
  {
   "cell_type": "code",
   "execution_count": null,
   "metadata": {},
   "outputs": [],
   "source": [
    "dna = file_content.replace('\\n', '')\n",
    "print(dna)\n",
    "print(dna.__repr__())\n",
    "print(len(dna))"
   ]
  },
  {
   "cell_type": "markdown",
   "metadata": {},
   "source": [
    "###  Несуществующие файлы"
   ]
  },
  {
   "cell_type": "markdown",
   "metadata": {},
   "source": [
    "Давайте посмотрим, в какой папке на нашем компьютере запущен интерпретатор питона:"
   ]
  },
  {
   "cell_type": "code",
   "execution_count": null,
   "metadata": {},
   "outputs": [],
   "source": [
    "import os\n",
    "\n",
    "\n",
    "os.system(\"pwd\")"
   ]
  },
  {
   "cell_type": "markdown",
   "metadata": {},
   "source": [
    "Мы можем просто открыть программу для работы с файловой системой (Проводник, Finder, etc.)\n",
    "\n",
    "Как вы думаете, что случится, если мы попытаемся передать функции `open` несуществующий путь?"
   ]
  },
  {
   "cell_type": "code",
   "execution_count": null,
   "metadata": {},
   "outputs": [],
   "source": [
    "open('some_file.txt').read()"
   ]
  },
  {
   "cell_type": "markdown",
   "metadata": {},
   "source": [
    "### Запись в файл"
   ]
  },
  {
   "cell_type": "markdown",
   "metadata": {},
   "source": [
    "Кроме чтения файлов, мы можем и пытаться что-то в файлы добавить.\n",
    "\n",
    "Схема будет похожей на ту, что мы использовали для \"чтения\" содержимого файла.\n",
    "\n",
    "\n",
    "Но на этот раз, нам понадобится второй аргумент для функции `open()`. Этот аргумент указывает, в каком **режиме** нужно открыть файл (получить объект `TextIOWrapper`).\n",
    "\n",
    "Если вообще не указывать второй аргумент, функция будет вести себя \"по умолчанию\" (default), будет открывать файл в **режиме** чтения. Это означает, что содержимое файла нельзя изменить.\n",
    "\n",
    "Но если мы укажем вторым аргументом `\"w\"` (строку из одного символа – `w`), файл будет открыт для записи."
   ]
  },
  {
   "cell_type": "code",
   "execution_count": null,
   "metadata": {},
   "outputs": [],
   "source": [
    "file = open(\"RNA_text.txt\", 'w')\n",
    "file.close()"
   ]
  },
  {
   "cell_type": "markdown",
   "metadata": {},
   "source": [
    "После того, как был запущен код выше, у вас появился новый файл – `RNA_text.txt`. Файл пустой, потому что мы только открыли его на запись, но ничего туда не \"записали\"."
   ]
  },
  {
   "cell_type": "markdown",
   "metadata": {},
   "source": [
    "И как в случае записи, мы использовали метод `.read()`, чтобы из файлового объекта получить строку, так для записи мы будем использовать метод `.write()`. Но помните, что файл должен быть открыт в режиме для записи (`open(file_name, \"w\")`)"
   ]
  },
  {
   "cell_type": "code",
   "execution_count": null,
   "metadata": {},
   "outputs": [],
   "source": [
    "my_newfile = open('out.txt', 'w')\n",
    "my_newfile.write('Hello, world')\n",
    "my_newfile.write(\"and one more, hello world\")\n",
    "my_newfile.close()"
   ]
  },
  {
   "cell_type": "markdown",
   "metadata": {},
   "source": [
    "Теперь нам ещё важно после работы с файлом \"закрыть\" его, чтобы изменения в файлы были доступны в операционной системе. Для этого используем метод `.close()`, применённый к объекту `TextIOWrapper`."
   ]
  },
  {
   "cell_type": "markdown",
   "metadata": {},
   "source": [
    "Допустим, в нашем файле нас всё устраивает.\n",
    "\n",
    "А давайте добавим ещё одну строчку:"
   ]
  },
  {
   "cell_type": "code",
   "execution_count": null,
   "metadata": {},
   "outputs": [],
   "source": [
    "file = open(\"out.txt\", \"w\")\n",
    "file.write(\"Третья строчка в нашем файле!\")\n",
    "file.close()"
   ]
  },
  {
   "cell_type": "markdown",
   "metadata": {},
   "source": [
    "Давайте теперь посмотрим на содержимое нашего файла...\n",
    "\n",
    "А дело всё в том, что когда мы открываем файл в режиме записи (`\"w\"`), содержмое файла удаляется. То есть этот режим подходит для тех случаев, когда мы хотим полностью переписать содержимое файла."
   ]
  },
  {
   "cell_type": "markdown",
   "metadata": {},
   "source": [
    "Что же делать, если мы хотим \"дописать\" новые строчки к уже имеющимся?\n",
    "\n",
    "На самом деле, режимы открытия файла [не исчерпываются](https://stackoverflow.com/questions/1466000/difference-between-modes-a-a-w-w-and-r-in-built-in-open-function) только `r` и `w`.\n",
    "\n",
    "Для того, чтобы добавить новые строчки, мы можем использовать режим `\"a\"` (от английского *append*)."
   ]
  },
  {
   "cell_type": "code",
   "execution_count": null,
   "metadata": {},
   "outputs": [],
   "source": [
    "my_newfile = open('out.txt', 'a')\n",
    "my_newfile.write('One more \"hello, world!\"')\n",
    "my_newfile.close()"
   ]
  },
  {
   "cell_type": "markdown",
   "metadata": {},
   "source": [
    "Ну и наконец, в python есть \"контекстные менеджеры\", специальная контрукция, которая позволит вам не думать о том, закрыли ли вы файл после того, как проделали какие-либо операции:"
   ]
  },
  {
   "cell_type": "code",
   "execution_count": null,
   "metadata": {},
   "outputs": [],
   "source": [
    "with open(\"some_file.txt\", \"w\") as file:\n",
    "    # do something with file\n",
    "    file.write(\"hello, \")\n",
    "    file.write()\n",
    "    \n",
    "# continue code\n",
    "print(file)"
   ]
  },
  {
   "cell_type": "markdown",
   "metadata": {},
   "source": [
    "## Упражнения"
   ]
  },
  {
   "cell_type": "markdown",
   "metadata": {},
   "source": [
    "### 1. Обработка ДНК\n",
    "\n",
    "Используем файл `genomic_dna.txt`, там на самом деле та же самая ДНК, которая была в предыдущем занятии со строками. Напишите программу, которая будет разделять кодирующую и некодирующую части, запишите их в разные файлы (в один файл две строчки с кодирующими участками, в другой – интрон)."
   ]
  },
  {
   "cell_type": "code",
   "execution_count": 6,
   "metadata": {},
   "outputs": [],
   "source": [
    "with open('AE3_genomic_dna.txt') as source_file:\n",
    "    gen_dna = source_file.read()\n",
    "exon1 = gen_dna[:63]\n",
    "exon2 = gen_dna[90:]\n",
    "intron = gen_dna[63:90]\n",
    "with open('AE3_coding_part', 'w') as exon_file:\n",
    "    exon_file.write(exon1 + '\\n' + exon2)\n",
    "\n",
    "with open('AE3_intron', 'w') as intron_file:  #А как переименовать переменную во всём коде?\n",
    "    intron_file.write(intron)\n"
   ]
  },
  {
   "cell_type": "markdown",
   "metadata": {},
   "source": [
    "### 2. Запись в FASTA формате\n",
    "FASTA - популярный формат хранения сиквенсов. Довольно простой формат:\n",
    "```\n",
    ">sequnce_name\n",
    "ACCTGTTCAG...CGT\n",
    "```\n",
    "\n",
    "*На первой строчке специальный знак `>`, после которого идём имя последовательности* \\\n",
    "*На второй – сама последовательность*"
   ]
  },
  {
   "cell_type": "markdown",
   "metadata": {},
   "source": [
    "**Задача 1** записать следующие последовательности в файлы в FASTA формате:\n",
    "\n",
    "\n",
    "|*Sequence header*|\t*DNA sequence*|\n",
    "|---|---|\n",
    "|ABC123\t      |      ATCGTACGATCGATCGATCGCTAGACGTATCG|\n",
    "|DEF456\t       |     actgatcgacgatcgatcgatcacgact|\n",
    "|HIJ789\t       |     ACTGAC-ACTGT--ACTGTA----CATGTG|\n",
    "\n",
    "\n",
    "В левом столбце - имена последовательностей, в правом – сами последовательности."
   ]
  },
  {
   "cell_type": "code",
   "execution_count": 12,
   "metadata": {},
   "outputs": [],
   "source": [
    "with open('AE3_pasta_carbonara.fasta', 'w') as file:\n",
    "    file.write('>ABC123\\nATCGTACGATCGATCGATCGCTAGACGTATCG\\n')\n",
    "with open('AE3_pasta_bolongese.fasta', 'w') as file:\n",
    "    file.write('>DEF456\\nactgatcgacgatcgatcgatcacgact\\n')\n",
    "with open('AE3_pasta_pesto.fasta', 'w') as file:\n",
    "    file.write('>HIJ789\\nACTGAC-ACTGT--ACTGTA----CATGTG\\n')\n"
   ]
  },
  {
   "cell_type": "markdown",
   "metadata": {},
   "source": [
    "**Задача 2** записать это всё в один файл, формат такой:\\\n",
    "\\>sequence_name1 (ABC123, например)\\\n",
    "ACCATGTCa\\\n",
    "\\>sequence_name2 \\\n",
    "CCGTAACGT"
   ]
  },
  {
   "cell_type": "code",
   "execution_count": null,
   "metadata": {},
   "outputs": [],
   "source": [
    "file = open('pasta.fasta', 'w')\n",
    "file.write('>ABC123\\nATCGTACGATCGATCGATCGCTAGACGTATCG\\n')\n",
    "file.write('>DEF456\\nactgatcgacgatcgatcgatcacgact\\n')\n",
    "file.write('>HIJ789\\nACTGAC-ACTGT--ACTGTA----CATGTG\\n')\n",
    "file.close()\n"
   ]
  },
  {
   "cell_type": "markdown",
   "metadata": {},
   "source": [
    "### 3. Переформатирование фаста-файла для пептида\n",
    "\n",
    "Откройте файл `peptide.fasta`, получите сиквенс (последовательность) аминокислотных остатков.\n",
    "\n",
    "Откройте аннотацию для этого пепитда в формате [genbank](https://www.ncbi.nlm.nih.gov/protein/NP_571131.1?report=genpept). В полях `FEATURES.mat_peptide` найдите индексы (с какого числа индексация начинается в этом источнике?), которые соответсвуют цепи А и цепи B (chain A, chain B).\n",
    "\n",
    "Достаньте из исходной строки подстроки, которые соответсвуют цепи А и цепи B. Запишите их в фаста-формате, подписанными отдельно:\n",
    "```\n",
    ">peptide chain A\n",
    "XXXXXXXXX # тут полученная подстрока\n",
    ">peptide chain B\n",
    "YYYYYYYY\n",
    "```"
   ]
  },
  {
   "cell_type": "code",
   "execution_count": 28,
   "metadata": {},
   "outputs": [],
   "source": [
    "def write_seq(file, name, sequence):\n",
    "    file.write('>' + name + '\\n' + sequence + '\\n')\n",
    "\n",
    "\n",
    "with open('AE3_peptide.fasta') as file:\n",
    "    seq = file.read()\n",
    "seq = seq[seq.find('\\n'):]\n",
    "chain_A = seq[87:108]\n",
    "chain_B = seq[21:51]\n",
    "\n",
    "with open('AE3_Task3.fasta', 'w') as file:\n",
    "    write_seq(file, 'peptide chain A', chain_A)\n",
    "    # file.write('>peptide chain B\\n' + chain_B)\n",
    "    write_seq(file, 'peptide chain B', chain_B)\n"
   ]
  },
  {
   "cell_type": "markdown",
   "metadata": {},
   "source": [
    "### 4. Подготовка биоинженерной плазмиды\n",
    "\n",
    "Для наработки экспериментального белка при помощи бактерий в генной инженерии используются кольцевые ДНК – [плазмиды](https://ru.wikipedia.org/wiki/%D0%9F%D0%BB%D0%B0%D0%B7%D0%BC%D0%B8%D0%B4%D1%8B#%D0%9F%D1%80%D0%B8%D0%BC%D0%B5%D0%BD%D0%B5%D0%BD%D0%B8%D0%B5).\n",
    "\n",
    "В специально заготовленные для генной инженерии плазмиды (которые содержат необходимые компоненты) можно \"вставить\" интересующий ген, который будет транскрибироваться в бактерии.\n",
    "\n",
    "В упражнении мы будем использовать короткие последовательности, которые, конечно, не могут быть использованы в реальной задаче, делаем это для простоты и отработки."
   ]
  },
  {
   "cell_type": "markdown",
   "metadata": {},
   "source": [
    "1.  Напишите код, который вставляет ген из файла `gene.txt`  в  последовательносить плазмиды (из файла `plasmid.txt`)  после сайта  `CTAGAGGATCCCCCGGG`. \n",
    "2.  Сохраните получившуюся последовательность в новый файл в формате fasta."
   ]
  },
  {
   "cell_type": "code",
   "execution_count": 20,
   "metadata": {},
   "outputs": [],
   "source": [
    "with open('AE3_gene.txt') as gene_file:\n",
    "    gene = gene_file.read()\n",
    "with open('AE3_plasmid.txt') as plasmid_file:\n",
    "    plasmid = plasmid_file.read()\n",
    "\n",
    "kernel = plasmid.replace('CTAGAGGATCCCCCGGG', 'CTAGAGGATCCCCCGGG' + gene, 1)  #это я услышал\n",
    "with open('AE3_bioingeneric_plasmid.fasta', 'w') as file:\n",
    "    file.write(kernel)\n"
   ]
  },
  {
   "cell_type": "code",
   "execution_count": null,
   "metadata": {},
   "outputs": [],
   "source": []
  }
 ],
 "metadata": {
  "kernelspec": {
   "display_name": "Python 3 (ipykernel)",
   "language": "python",
   "name": "python3"
  },
  "language_info": {
   "codemirror_mode": {
    "name": "ipython",
    "version": 3
   },
   "file_extension": ".py",
   "mimetype": "text/x-python",
   "name": "python",
   "nbconvert_exporter": "python",
   "pygments_lexer": "ipython3",
   "version": "3.12.4"
  }
 },
 "nbformat": 4,
 "nbformat_minor": 4
}
